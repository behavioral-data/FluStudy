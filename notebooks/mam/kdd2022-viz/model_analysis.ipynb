{
 "cells": [
  {
   "cell_type": "code",
   "execution_count": null,
   "metadata": {},
   "outputs": [],
   "source": []
  },
  {
   "cell_type": "code",
   "execution_count": 13,
   "metadata": {},
   "outputs": [
    {
     "name": "stdout",
     "output_type": "stream",
     "text": [
      "The autoreload extension is already loaded. To reload it, use:\n",
      "  %reload_ext autoreload\n"
     ]
    }
   ],
   "source": [
    "%load_ext autoreload\n",
    "%autoreload 2\n",
    "\n",
    "import wandb\n",
    "from dotenv import dotenv_values\n",
    "import pandas as pd\n",
    "\n",
    "from src.utils import download_table\n",
    "from src.models.analysis import delong_roc_test\n"
   ]
  },
  {
   "cell_type": "code",
   "execution_count": 19,
   "metadata": {},
   "outputs": [
    {
     "name": "stdout",
     "output_type": "stream",
     "text": [
      "<wandb.data_types.Table object at 0x7f2e8299c130>\n",
      "<wandb.data_types.Table object at 0x7f2e5c127130>\n"
     ]
    }
   ],
   "source": [
    "our_model_preds = download_table(\"289402rh\",\"test_predictions\")\n",
    "xgb_preds = download_table(\"2r7v1e2d\",\"test_predictions\")"
   ]
  },
  {
   "cell_type": "code",
   "execution_count": 20,
   "metadata": {},
   "outputs": [],
   "source": [
    "our_model_preds[\"date\"] = pd.to_datetime(our_model_preds[\"date\"]).dt.date\n",
    "xgb_preds[\"date\"] = pd.to_datetime(xgb_preds[\"date\"]).dt.date"
   ]
  },
  {
   "cell_type": "code",
   "execution_count": 21,
   "metadata": {},
   "outputs": [
    {
     "data": {
      "text/html": [
       "<div>\n",
       "<style scoped>\n",
       "    .dataframe tbody tr th:only-of-type {\n",
       "        vertical-align: middle;\n",
       "    }\n",
       "\n",
       "    .dataframe tbody tr th {\n",
       "        vertical-align: top;\n",
       "    }\n",
       "\n",
       "    .dataframe thead th {\n",
       "        text-align: right;\n",
       "    }\n",
       "</style>\n",
       "<table border=\"1\" class=\"dataframe\">\n",
       "  <thead>\n",
       "    <tr style=\"text-align: right;\">\n",
       "      <th></th>\n",
       "      <th>participant_id</th>\n",
       "      <th>date</th>\n",
       "      <th>label</th>\n",
       "      <th>pred</th>\n",
       "    </tr>\n",
       "  </thead>\n",
       "  <tbody>\n",
       "    <tr>\n",
       "      <th>17016</th>\n",
       "      <td>625c578280a31eb620459ff3b2d508b5</td>\n",
       "      <td>2020-02-10</td>\n",
       "      <td>1.0</td>\n",
       "      <td>0.016943</td>\n",
       "    </tr>\n",
       "    <tr>\n",
       "      <th>94515</th>\n",
       "      <td>fc8197485fdd7526ab6fa27a9247885a</td>\n",
       "      <td>2020-02-10</td>\n",
       "      <td>1.0</td>\n",
       "      <td>0.982843</td>\n",
       "    </tr>\n",
       "    <tr>\n",
       "      <th>126996</th>\n",
       "      <td>e6f9522a10d8a9b4c4bf80e05fdca6f7</td>\n",
       "      <td>2020-02-10</td>\n",
       "      <td>1.0</td>\n",
       "      <td>0.005180</td>\n",
       "    </tr>\n",
       "    <tr>\n",
       "      <th>6884</th>\n",
       "      <td>88a38a101135225184b9fd46a7e29bb1</td>\n",
       "      <td>2020-02-10</td>\n",
       "      <td>1.0</td>\n",
       "      <td>0.013413</td>\n",
       "    </tr>\n",
       "    <tr>\n",
       "      <th>125018</th>\n",
       "      <td>0950145f691d8379fb7c90f1ceb4c529</td>\n",
       "      <td>2020-02-10</td>\n",
       "      <td>1.0</td>\n",
       "      <td>0.013519</td>\n",
       "    </tr>\n",
       "    <tr>\n",
       "      <th>...</th>\n",
       "      <td>...</td>\n",
       "      <td>...</td>\n",
       "      <td>...</td>\n",
       "      <td>...</td>\n",
       "    </tr>\n",
       "    <tr>\n",
       "      <th>130237</th>\n",
       "      <td>c50c9310c2bf285a3636294831fbef26</td>\n",
       "      <td>2020-03-30</td>\n",
       "      <td>1.0</td>\n",
       "      <td>0.009396</td>\n",
       "    </tr>\n",
       "    <tr>\n",
       "      <th>61924</th>\n",
       "      <td>6f6cd9f458f65bd30da0ac16ef83c02a</td>\n",
       "      <td>2020-03-31</td>\n",
       "      <td>1.0</td>\n",
       "      <td>0.011147</td>\n",
       "    </tr>\n",
       "    <tr>\n",
       "      <th>66900</th>\n",
       "      <td>14bbdca33aad9f88c9669aa227696d1e</td>\n",
       "      <td>2020-03-31</td>\n",
       "      <td>1.0</td>\n",
       "      <td>0.007734</td>\n",
       "    </tr>\n",
       "    <tr>\n",
       "      <th>59913</th>\n",
       "      <td>c8891eca71deb8603db56c0cb5d1e025</td>\n",
       "      <td>2020-03-31</td>\n",
       "      <td>1.0</td>\n",
       "      <td>0.014080</td>\n",
       "    </tr>\n",
       "    <tr>\n",
       "      <th>125096</th>\n",
       "      <td>c50c9310c2bf285a3636294831fbef26</td>\n",
       "      <td>2020-03-31</td>\n",
       "      <td>1.0</td>\n",
       "      <td>0.006156</td>\n",
       "    </tr>\n",
       "  </tbody>\n",
       "</table>\n",
       "<p>592 rows × 4 columns</p>\n",
       "</div>"
      ],
      "text/plain": [
       "                          participant_id        date  label      pred\n",
       "17016   625c578280a31eb620459ff3b2d508b5  2020-02-10    1.0  0.016943\n",
       "94515   fc8197485fdd7526ab6fa27a9247885a  2020-02-10    1.0  0.982843\n",
       "126996  e6f9522a10d8a9b4c4bf80e05fdca6f7  2020-02-10    1.0  0.005180\n",
       "6884    88a38a101135225184b9fd46a7e29bb1  2020-02-10    1.0  0.013413\n",
       "125018  0950145f691d8379fb7c90f1ceb4c529  2020-02-10    1.0  0.013519\n",
       "...                                  ...         ...    ...       ...\n",
       "130237  c50c9310c2bf285a3636294831fbef26  2020-03-30    1.0  0.009396\n",
       "61924   6f6cd9f458f65bd30da0ac16ef83c02a  2020-03-31    1.0  0.011147\n",
       "66900   14bbdca33aad9f88c9669aa227696d1e  2020-03-31    1.0  0.007734\n",
       "59913   c8891eca71deb8603db56c0cb5d1e025  2020-03-31    1.0  0.014080\n",
       "125096  c50c9310c2bf285a3636294831fbef26  2020-03-31    1.0  0.006156\n",
       "\n",
       "[592 rows x 4 columns]"
      ]
     },
     "execution_count": 21,
     "metadata": {},
     "output_type": "execute_result"
    }
   ],
   "source": [
    "xgb_preds[xgb_preds[\"label\"]==1].sort_values(\"date\")"
   ]
  },
  {
   "cell_type": "code",
   "execution_count": 22,
   "metadata": {},
   "outputs": [
    {
     "data": {
      "text/html": [
       "<div>\n",
       "<style scoped>\n",
       "    .dataframe tbody tr th:only-of-type {\n",
       "        vertical-align: middle;\n",
       "    }\n",
       "\n",
       "    .dataframe tbody tr th {\n",
       "        vertical-align: top;\n",
       "    }\n",
       "\n",
       "    .dataframe thead th {\n",
       "        text-align: right;\n",
       "    }\n",
       "</style>\n",
       "<table border=\"1\" class=\"dataframe\">\n",
       "  <thead>\n",
       "    <tr style=\"text-align: right;\">\n",
       "      <th></th>\n",
       "      <th>participant_id</th>\n",
       "      <th>date</th>\n",
       "      <th>label</th>\n",
       "      <th>pred</th>\n",
       "    </tr>\n",
       "  </thead>\n",
       "  <tbody>\n",
       "    <tr>\n",
       "      <th>59114</th>\n",
       "      <td>d7910e655fe05c9fa9569705f108a798</td>\n",
       "      <td>2020-02-16</td>\n",
       "      <td>1</td>\n",
       "      <td>0.018381</td>\n",
       "    </tr>\n",
       "    <tr>\n",
       "      <th>88855</th>\n",
       "      <td>aa3a4bfefee70d385c98c9d794f01690</td>\n",
       "      <td>2020-02-16</td>\n",
       "      <td>1</td>\n",
       "      <td>0.010757</td>\n",
       "    </tr>\n",
       "    <tr>\n",
       "      <th>25478</th>\n",
       "      <td>6f88d9150a67bc4da047b745c10855ff</td>\n",
       "      <td>2020-02-16</td>\n",
       "      <td>1</td>\n",
       "      <td>0.016719</td>\n",
       "    </tr>\n",
       "    <tr>\n",
       "      <th>73950</th>\n",
       "      <td>925eec4cd73cf714335ec64b6215ba3d</td>\n",
       "      <td>2020-02-16</td>\n",
       "      <td>1</td>\n",
       "      <td>0.510906</td>\n",
       "    </tr>\n",
       "    <tr>\n",
       "      <th>41679</th>\n",
       "      <td>70804415f9570c6abca054944ed4667a</td>\n",
       "      <td>2020-02-16</td>\n",
       "      <td>1</td>\n",
       "      <td>0.053115</td>\n",
       "    </tr>\n",
       "    <tr>\n",
       "      <th>...</th>\n",
       "      <td>...</td>\n",
       "      <td>...</td>\n",
       "      <td>...</td>\n",
       "      <td>...</td>\n",
       "    </tr>\n",
       "    <tr>\n",
       "      <th>16238</th>\n",
       "      <td>557d2ba26a933779664a43c00e7d7a28</td>\n",
       "      <td>2020-03-31</td>\n",
       "      <td>1</td>\n",
       "      <td>0.667339</td>\n",
       "    </tr>\n",
       "    <tr>\n",
       "      <th>18119</th>\n",
       "      <td>92762457b1a8dc31a1e381acea605b3d</td>\n",
       "      <td>2020-03-31</td>\n",
       "      <td>1</td>\n",
       "      <td>0.051493</td>\n",
       "    </tr>\n",
       "    <tr>\n",
       "      <th>92744</th>\n",
       "      <td>457a3a99dac4e8045441775840925137</td>\n",
       "      <td>2020-03-31</td>\n",
       "      <td>1</td>\n",
       "      <td>0.032813</td>\n",
       "    </tr>\n",
       "    <tr>\n",
       "      <th>29728</th>\n",
       "      <td>cc26c340e4e0525188f80a15587f0fcf</td>\n",
       "      <td>2020-03-31</td>\n",
       "      <td>1</td>\n",
       "      <td>0.008450</td>\n",
       "    </tr>\n",
       "    <tr>\n",
       "      <th>51701</th>\n",
       "      <td>e8fc714f4533b65542e248af3a7e6270</td>\n",
       "      <td>2020-03-31</td>\n",
       "      <td>1</td>\n",
       "      <td>0.006451</td>\n",
       "    </tr>\n",
       "  </tbody>\n",
       "</table>\n",
       "<p>1810 rows × 4 columns</p>\n",
       "</div>"
      ],
      "text/plain": [
       "                         participant_id        date  label      pred\n",
       "59114  d7910e655fe05c9fa9569705f108a798  2020-02-16      1  0.018381\n",
       "88855  aa3a4bfefee70d385c98c9d794f01690  2020-02-16      1  0.010757\n",
       "25478  6f88d9150a67bc4da047b745c10855ff  2020-02-16      1  0.016719\n",
       "73950  925eec4cd73cf714335ec64b6215ba3d  2020-02-16      1  0.510906\n",
       "41679  70804415f9570c6abca054944ed4667a  2020-02-16      1  0.053115\n",
       "...                                 ...         ...    ...       ...\n",
       "16238  557d2ba26a933779664a43c00e7d7a28  2020-03-31      1  0.667339\n",
       "18119  92762457b1a8dc31a1e381acea605b3d  2020-03-31      1  0.051493\n",
       "92744  457a3a99dac4e8045441775840925137  2020-03-31      1  0.032813\n",
       "29728  cc26c340e4e0525188f80a15587f0fcf  2020-03-31      1  0.008450\n",
       "51701  e8fc714f4533b65542e248af3a7e6270  2020-03-31      1  0.006451\n",
       "\n",
       "[1810 rows x 4 columns]"
      ]
     },
     "execution_count": 22,
     "metadata": {},
     "output_type": "execute_result"
    }
   ],
   "source": [
    "our_model_preds[our_model_preds[\"label\"]==1].sort_values(\"date\")"
   ]
  },
  {
   "cell_type": "code",
   "execution_count": 23,
   "metadata": {},
   "outputs": [],
   "source": [
    "index = [\"participant_id\",\"date\"]\n",
    "merged = our_model_preds.set_index(index).join(xgb_preds.set_index(index),lsuffix=\"_ours\",rsuffix=\"_xgb\").dropna()"
   ]
  },
  {
   "cell_type": "code",
   "execution_count": 27,
   "metadata": {},
   "outputs": [
    {
     "data": {
      "text/plain": [
       "0.025609166696762945"
      ]
     },
     "execution_count": 27,
     "metadata": {},
     "output_type": "execute_result"
    }
   ],
   "source": [
    "log_p = delong_roc_test(merged[\"label_ours\"].values, merged[\"pred_ours\"].values, merged[\"pred_xgb\"].values)[0][0]\n",
    "10**log_p"
   ]
  },
  {
   "cell_type": "code",
   "execution_count": null,
   "metadata": {},
   "outputs": [],
   "source": []
  }
 ],
 "metadata": {
  "interpreter": {
   "hash": "7867239ef32c5845ae61f6682725962561c6704439761454786cb18dddc4660e"
  },
  "kernelspec": {
   "display_name": "Python 3.9.9 64-bit ('seattleflustudy': conda)",
   "language": "python",
   "name": "python3"
  },
  "language_info": {
   "codemirror_mode": {
    "name": "ipython",
    "version": 3
   },
   "file_extension": ".py",
   "mimetype": "text/x-python",
   "name": "python",
   "nbconvert_exporter": "python",
   "pygments_lexer": "ipython3",
   "version": "3.9.9"
  },
  "orig_nbformat": 4
 },
 "nbformat": 4,
 "nbformat_minor": 2
}
