{
 "cells": [
  {
   "cell_type": "code",
   "execution_count": 13,
   "metadata": {},
   "outputs": [
    {
     "name": "stdout",
     "output_type": "stream",
     "text": [
      "The autoreload extension is already loaded. To reload it, use:\n",
      "  %reload_ext autoreload\n"
     ]
    }
   ],
   "source": [
    "%load_ext autoreload\n",
    "%autoreload 2\n",
    "\n",
    "import wandb\n",
    "from dotenv import dotenv_values\n",
    "import pandas as pd\n",
    "\n",
    "from src.utils import download_table\n",
    "from src.models.analysis import delong_roc_test\n"
   ]
  },
  {
   "cell_type": "code",
   "execution_count": 3,
   "metadata": {},
   "outputs": [
    {
     "name": "stdout",
     "output_type": "stream",
     "text": [
      "<wandb.data_types.Table object at 0x7f2e934ad190>\n",
      "<wandb.data_types.Table object at 0x7f2e80b92ca0>\n"
     ]
    }
   ],
   "source": [
    "our_model_preds = download_table(\"289402rh\",\"test_predictions\")\n",
    "xgb_preds = download_table(\"2r7v1e2d\",\"test_predictions\")"
   ]
  },
  {
   "cell_type": "code",
   "execution_count": 4,
   "metadata": {},
   "outputs": [],
   "source": [
    "our_model_preds[\"date\"] = pd.to_datetime(our_model_preds[\"date\"]).dt.date\n",
    "xgb_preds[\"date\"] = pd.to_datetime(xgb_preds[\"date\"]).dt.date"
   ]
  },
  {
   "cell_type": "code",
   "execution_count": 5,
   "metadata": {},
   "outputs": [
    {
     "data": {
      "text/html": [
       "<div>\n",
       "<style scoped>\n",
       "    .dataframe tbody tr th:only-of-type {\n",
       "        vertical-align: middle;\n",
       "    }\n",
       "\n",
       "    .dataframe tbody tr th {\n",
       "        vertical-align: top;\n",
       "    }\n",
       "\n",
       "    .dataframe thead th {\n",
       "        text-align: right;\n",
       "    }\n",
       "</style>\n",
       "<table border=\"1\" class=\"dataframe\">\n",
       "  <thead>\n",
       "    <tr style=\"text-align: right;\">\n",
       "      <th></th>\n",
       "      <th>participant_id</th>\n",
       "      <th>date</th>\n",
       "      <th>label</th>\n",
       "      <th>pred</th>\n",
       "    </tr>\n",
       "  </thead>\n",
       "  <tbody>\n",
       "    <tr>\n",
       "      <th>17016</th>\n",
       "      <td>625c578280a31eb620459ff3b2d508b5</td>\n",
       "      <td>2020-02-10</td>\n",
       "      <td>1.0</td>\n",
       "      <td>0.016943</td>\n",
       "    </tr>\n",
       "    <tr>\n",
       "      <th>94515</th>\n",
       "      <td>fc8197485fdd7526ab6fa27a9247885a</td>\n",
       "      <td>2020-02-10</td>\n",
       "      <td>1.0</td>\n",
       "      <td>0.982843</td>\n",
       "    </tr>\n",
       "    <tr>\n",
       "      <th>126996</th>\n",
       "      <td>e6f9522a10d8a9b4c4bf80e05fdca6f7</td>\n",
       "      <td>2020-02-10</td>\n",
       "      <td>1.0</td>\n",
       "      <td>0.005180</td>\n",
       "    </tr>\n",
       "    <tr>\n",
       "      <th>6884</th>\n",
       "      <td>88a38a101135225184b9fd46a7e29bb1</td>\n",
       "      <td>2020-02-10</td>\n",
       "      <td>1.0</td>\n",
       "      <td>0.013413</td>\n",
       "    </tr>\n",
       "    <tr>\n",
       "      <th>125018</th>\n",
       "      <td>0950145f691d8379fb7c90f1ceb4c529</td>\n",
       "      <td>2020-02-10</td>\n",
       "      <td>1.0</td>\n",
       "      <td>0.013519</td>\n",
       "    </tr>\n",
       "    <tr>\n",
       "      <th>...</th>\n",
       "      <td>...</td>\n",
       "      <td>...</td>\n",
       "      <td>...</td>\n",
       "      <td>...</td>\n",
       "    </tr>\n",
       "    <tr>\n",
       "      <th>130237</th>\n",
       "      <td>c50c9310c2bf285a3636294831fbef26</td>\n",
       "      <td>2020-03-30</td>\n",
       "      <td>1.0</td>\n",
       "      <td>0.009396</td>\n",
       "    </tr>\n",
       "    <tr>\n",
       "      <th>61924</th>\n",
       "      <td>6f6cd9f458f65bd30da0ac16ef83c02a</td>\n",
       "      <td>2020-03-31</td>\n",
       "      <td>1.0</td>\n",
       "      <td>0.011147</td>\n",
       "    </tr>\n",
       "    <tr>\n",
       "      <th>66900</th>\n",
       "      <td>14bbdca33aad9f88c9669aa227696d1e</td>\n",
       "      <td>2020-03-31</td>\n",
       "      <td>1.0</td>\n",
       "      <td>0.007734</td>\n",
       "    </tr>\n",
       "    <tr>\n",
       "      <th>59913</th>\n",
       "      <td>c8891eca71deb8603db56c0cb5d1e025</td>\n",
       "      <td>2020-03-31</td>\n",
       "      <td>1.0</td>\n",
       "      <td>0.014080</td>\n",
       "    </tr>\n",
       "    <tr>\n",
       "      <th>125096</th>\n",
       "      <td>c50c9310c2bf285a3636294831fbef26</td>\n",
       "      <td>2020-03-31</td>\n",
       "      <td>1.0</td>\n",
       "      <td>0.006156</td>\n",
       "    </tr>\n",
       "  </tbody>\n",
       "</table>\n",
       "<p>592 rows × 4 columns</p>\n",
       "</div>"
      ],
      "text/plain": [
       "                          participant_id        date  label      pred\n",
       "17016   625c578280a31eb620459ff3b2d508b5  2020-02-10    1.0  0.016943\n",
       "94515   fc8197485fdd7526ab6fa27a9247885a  2020-02-10    1.0  0.982843\n",
       "126996  e6f9522a10d8a9b4c4bf80e05fdca6f7  2020-02-10    1.0  0.005180\n",
       "6884    88a38a101135225184b9fd46a7e29bb1  2020-02-10    1.0  0.013413\n",
       "125018  0950145f691d8379fb7c90f1ceb4c529  2020-02-10    1.0  0.013519\n",
       "...                                  ...         ...    ...       ...\n",
       "130237  c50c9310c2bf285a3636294831fbef26  2020-03-30    1.0  0.009396\n",
       "61924   6f6cd9f458f65bd30da0ac16ef83c02a  2020-03-31    1.0  0.011147\n",
       "66900   14bbdca33aad9f88c9669aa227696d1e  2020-03-31    1.0  0.007734\n",
       "59913   c8891eca71deb8603db56c0cb5d1e025  2020-03-31    1.0  0.014080\n",
       "125096  c50c9310c2bf285a3636294831fbef26  2020-03-31    1.0  0.006156\n",
       "\n",
       "[592 rows x 4 columns]"
      ]
     },
     "execution_count": 5,
     "metadata": {},
     "output_type": "execute_result"
    }
   ],
   "source": [
    "xgb_preds[xgb_preds[\"label\"]==1].sort_values(\"date\")"
   ]
  },
  {
   "cell_type": "code",
   "execution_count": 6,
   "metadata": {},
   "outputs": [
    {
     "data": {
      "text/html": [
       "<div>\n",
       "<style scoped>\n",
       "    .dataframe tbody tr th:only-of-type {\n",
       "        vertical-align: middle;\n",
       "    }\n",
       "\n",
       "    .dataframe tbody tr th {\n",
       "        vertical-align: top;\n",
       "    }\n",
       "\n",
       "    .dataframe thead th {\n",
       "        text-align: right;\n",
       "    }\n",
       "</style>\n",
       "<table border=\"1\" class=\"dataframe\">\n",
       "  <thead>\n",
       "    <tr style=\"text-align: right;\">\n",
       "      <th></th>\n",
       "      <th>participant_id</th>\n",
       "      <th>date</th>\n",
       "      <th>label</th>\n",
       "      <th>pred</th>\n",
       "    </tr>\n",
       "  </thead>\n",
       "  <tbody>\n",
       "    <tr>\n",
       "      <th>52737</th>\n",
       "      <td>eca7f0c38d2c60d4993666402ac33524</td>\n",
       "      <td>2020-02-16</td>\n",
       "      <td>1</td>\n",
       "      <td>0.007718</td>\n",
       "    </tr>\n",
       "    <tr>\n",
       "      <th>16392</th>\n",
       "      <td>aa9eac3f3d673702f526b96cf7556269</td>\n",
       "      <td>2020-02-16</td>\n",
       "      <td>1</td>\n",
       "      <td>0.004722</td>\n",
       "    </tr>\n",
       "    <tr>\n",
       "      <th>91709</th>\n",
       "      <td>a977338ad3813ab662e533c57f348730</td>\n",
       "      <td>2020-02-16</td>\n",
       "      <td>1</td>\n",
       "      <td>0.008955</td>\n",
       "    </tr>\n",
       "    <tr>\n",
       "      <th>27901</th>\n",
       "      <td>9c5195c4b6722a3155a26c535f05fe3e</td>\n",
       "      <td>2020-02-16</td>\n",
       "      <td>1</td>\n",
       "      <td>0.002355</td>\n",
       "    </tr>\n",
       "    <tr>\n",
       "      <th>107978</th>\n",
       "      <td>fc8197485fdd7526ab6fa27a9247885a</td>\n",
       "      <td>2020-02-16</td>\n",
       "      <td>1</td>\n",
       "      <td>0.164321</td>\n",
       "    </tr>\n",
       "    <tr>\n",
       "      <th>...</th>\n",
       "      <td>...</td>\n",
       "      <td>...</td>\n",
       "      <td>...</td>\n",
       "      <td>...</td>\n",
       "    </tr>\n",
       "    <tr>\n",
       "      <th>78426</th>\n",
       "      <td>469b75f34591db8e5a4851aca51dbdda</td>\n",
       "      <td>2020-03-30</td>\n",
       "      <td>1</td>\n",
       "      <td>0.011562</td>\n",
       "    </tr>\n",
       "    <tr>\n",
       "      <th>8210</th>\n",
       "      <td>14bbdca33aad9f88c9669aa227696d1e</td>\n",
       "      <td>2020-03-31</td>\n",
       "      <td>1</td>\n",
       "      <td>0.011298</td>\n",
       "    </tr>\n",
       "    <tr>\n",
       "      <th>1373</th>\n",
       "      <td>6f6cd9f458f65bd30da0ac16ef83c02a</td>\n",
       "      <td>2020-03-31</td>\n",
       "      <td>1</td>\n",
       "      <td>0.001004</td>\n",
       "    </tr>\n",
       "    <tr>\n",
       "      <th>17037</th>\n",
       "      <td>c8891eca71deb8603db56c0cb5d1e025</td>\n",
       "      <td>2020-03-31</td>\n",
       "      <td>1</td>\n",
       "      <td>0.008659</td>\n",
       "    </tr>\n",
       "    <tr>\n",
       "      <th>31976</th>\n",
       "      <td>c50c9310c2bf285a3636294831fbef26</td>\n",
       "      <td>2020-03-31</td>\n",
       "      <td>1</td>\n",
       "      <td>0.072065</td>\n",
       "    </tr>\n",
       "  </tbody>\n",
       "</table>\n",
       "<p>477 rows × 4 columns</p>\n",
       "</div>"
      ],
      "text/plain": [
       "                          participant_id        date  label      pred\n",
       "52737   eca7f0c38d2c60d4993666402ac33524  2020-02-16      1  0.007718\n",
       "16392   aa9eac3f3d673702f526b96cf7556269  2020-02-16      1  0.004722\n",
       "91709   a977338ad3813ab662e533c57f348730  2020-02-16      1  0.008955\n",
       "27901   9c5195c4b6722a3155a26c535f05fe3e  2020-02-16      1  0.002355\n",
       "107978  fc8197485fdd7526ab6fa27a9247885a  2020-02-16      1  0.164321\n",
       "...                                  ...         ...    ...       ...\n",
       "78426   469b75f34591db8e5a4851aca51dbdda  2020-03-30      1  0.011562\n",
       "8210    14bbdca33aad9f88c9669aa227696d1e  2020-03-31      1  0.011298\n",
       "1373    6f6cd9f458f65bd30da0ac16ef83c02a  2020-03-31      1  0.001004\n",
       "17037   c8891eca71deb8603db56c0cb5d1e025  2020-03-31      1  0.008659\n",
       "31976   c50c9310c2bf285a3636294831fbef26  2020-03-31      1  0.072065\n",
       "\n",
       "[477 rows x 4 columns]"
      ]
     },
     "execution_count": 6,
     "metadata": {},
     "output_type": "execute_result"
    }
   ],
   "source": [
    "our_model_preds[our_model_preds[\"label\"]==1].sort_values(\"date\")"
   ]
  },
  {
   "cell_type": "code",
   "execution_count": 11,
   "metadata": {},
   "outputs": [],
   "source": [
    "index = [\"participant_id\",\"date\"]\n",
    "merged = our_model_preds.set_index(index).join(xgb_preds.set_index(index),lsuffix=\"_ours\",rsuffix=\"_xgb\").dropna()"
   ]
  },
  {
   "cell_type": "code",
   "execution_count": 14,
   "metadata": {},
   "outputs": [
    {
     "data": {
      "text/plain": [
       "array([[-0.70935991]])"
      ]
     },
     "execution_count": 14,
     "metadata": {},
     "output_type": "execute_result"
    }
   ],
   "source": [
    " delong_roc_test(merged[\"label_ours\"].values, merged[\"pred_ours\"].values, merged[\"pred_xgb\"].values)"
   ]
  },
  {
   "cell_type": "code",
   "execution_count": 18,
   "metadata": {},
   "outputs": [
    {
     "data": {
      "text/plain": [
       "0.19952623149688797"
      ]
     },
     "execution_count": 18,
     "metadata": {},
     "output_type": "execute_result"
    }
   ],
   "source": [
    "10**-0.7"
   ]
  },
  {
   "cell_type": "code",
   "execution_count": null,
   "metadata": {},
   "outputs": [],
   "source": []
  }
 ],
 "metadata": {
  "interpreter": {
   "hash": "7867239ef32c5845ae61f6682725962561c6704439761454786cb18dddc4660e"
  },
  "kernelspec": {
   "display_name": "Python 3.9.9 64-bit ('seattleflustudy': conda)",
   "language": "python",
   "name": "python3"
  },
  "language_info": {
   "codemirror_mode": {
    "name": "ipython",
    "version": 3
   },
   "file_extension": ".py",
   "mimetype": "text/x-python",
   "name": "python",
   "nbconvert_exporter": "python",
   "pygments_lexer": "ipython3",
   "version": "3.9.9"
  },
  "orig_nbformat": 4
 },
 "nbformat": 4,
 "nbformat_minor": 2
}
