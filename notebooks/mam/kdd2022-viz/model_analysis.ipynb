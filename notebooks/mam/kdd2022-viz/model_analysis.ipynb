{
 "cells": [
  {
   "cell_type": "code",
   "execution_count": 44,
   "metadata": {},
   "outputs": [
    {
     "name": "stdout",
     "output_type": "stream",
     "text": [
      "The autoreload extension is already loaded. To reload it, use:\n",
      "  %reload_ext autoreload\n"
     ]
    }
   ],
   "source": [
    "%load_ext autoreload\n",
    "%autoreload 2\n",
    "\n",
    "import wandb\n",
    "from dotenv import dotenv_values\n",
    "import pandas as pd\n",
    "\n",
    "from src.utils import download_table\n",
    "from src.models.analysis import delong_roc_test\n",
    "\n",
    "import numpy as np\n"
   ]
  },
  {
   "cell_type": "code",
   "execution_count": 74,
   "metadata": {},
   "outputs": [
    {
     "name": "stdout",
     "output_type": "stream",
     "text": [
      "<wandb.data_types.Table object at 0x7fcc8d0c8bb0>\n",
      "<wandb.data_types.Table object at 0x7fcc8d86f7c0>\n"
     ]
    }
   ],
   "source": [
    "our_model_preds = download_table(\"20gczthf\",\"test_predictions\")\n",
    "xgb_preds = download_table(\"1k5awvp8\",\"test_predictions\")"
   ]
  },
  {
   "cell_type": "code",
   "execution_count": 77,
   "metadata": {},
   "outputs": [],
   "source": [
    "our_model_preds[\"date\"] = pd.to_datetime(our_model_preds[\"date\"]).dt.date\n",
    "xgb_preds[\"date\"] = pd.to_datetime(xgb_preds[\"date\"]).dt.date"
   ]
  },
  {
   "cell_type": "code",
   "execution_count": 78,
   "metadata": {},
   "outputs": [
    {
     "data": {
      "text/html": [
       "<div>\n",
       "<style scoped>\n",
       "    .dataframe tbody tr th:only-of-type {\n",
       "        vertical-align: middle;\n",
       "    }\n",
       "\n",
       "    .dataframe tbody tr th {\n",
       "        vertical-align: top;\n",
       "    }\n",
       "\n",
       "    .dataframe thead th {\n",
       "        text-align: right;\n",
       "    }\n",
       "</style>\n",
       "<table border=\"1\" class=\"dataframe\">\n",
       "  <thead>\n",
       "    <tr style=\"text-align: right;\">\n",
       "      <th></th>\n",
       "      <th>participant_id</th>\n",
       "      <th>date</th>\n",
       "      <th>label</th>\n",
       "      <th>pred</th>\n",
       "    </tr>\n",
       "  </thead>\n",
       "  <tbody>\n",
       "    <tr>\n",
       "      <th>71931</th>\n",
       "      <td>fe020e5092a736a9125f7cd671cc6ad4</td>\n",
       "      <td>2020-02-16</td>\n",
       "      <td>1</td>\n",
       "      <td>0.305184</td>\n",
       "    </tr>\n",
       "    <tr>\n",
       "      <th>59419</th>\n",
       "      <td>eae88ae68906f5d3b0803c4be76077ff</td>\n",
       "      <td>2020-02-16</td>\n",
       "      <td>1</td>\n",
       "      <td>0.019163</td>\n",
       "    </tr>\n",
       "    <tr>\n",
       "      <th>87003</th>\n",
       "      <td>7a96679e5e8041233dc1e86ea2ce06cb</td>\n",
       "      <td>2020-02-17</td>\n",
       "      <td>1</td>\n",
       "      <td>0.028514</td>\n",
       "    </tr>\n",
       "    <tr>\n",
       "      <th>87288</th>\n",
       "      <td>eae88ae68906f5d3b0803c4be76077ff</td>\n",
       "      <td>2020-02-17</td>\n",
       "      <td>1</td>\n",
       "      <td>0.674527</td>\n",
       "    </tr>\n",
       "    <tr>\n",
       "      <th>25020</th>\n",
       "      <td>7f5d75d670dbfbae0d5b7dcfb22d1f83</td>\n",
       "      <td>2020-02-17</td>\n",
       "      <td>1</td>\n",
       "      <td>0.000516</td>\n",
       "    </tr>\n",
       "    <tr>\n",
       "      <th>...</th>\n",
       "      <td>...</td>\n",
       "      <td>...</td>\n",
       "      <td>...</td>\n",
       "      <td>...</td>\n",
       "    </tr>\n",
       "    <tr>\n",
       "      <th>107327</th>\n",
       "      <td>f146536684daa1525d815cd43f3bafd6</td>\n",
       "      <td>2020-03-31</td>\n",
       "      <td>1</td>\n",
       "      <td>0.000986</td>\n",
       "    </tr>\n",
       "    <tr>\n",
       "      <th>57192</th>\n",
       "      <td>0fcd3f13e0172dd5176f128a2eaa3b02</td>\n",
       "      <td>2020-03-31</td>\n",
       "      <td>1</td>\n",
       "      <td>0.024949</td>\n",
       "    </tr>\n",
       "    <tr>\n",
       "      <th>52136</th>\n",
       "      <td>6f6cd9f458f65bd30da0ac16ef83c02a</td>\n",
       "      <td>2020-03-31</td>\n",
       "      <td>1</td>\n",
       "      <td>0.002209</td>\n",
       "    </tr>\n",
       "    <tr>\n",
       "      <th>94871</th>\n",
       "      <td>14bbdca33aad9f88c9669aa227696d1e</td>\n",
       "      <td>2020-03-31</td>\n",
       "      <td>1</td>\n",
       "      <td>0.006315</td>\n",
       "    </tr>\n",
       "    <tr>\n",
       "      <th>55227</th>\n",
       "      <td>b7b3b618d2f1e2012320f183dd086db5</td>\n",
       "      <td>2020-03-31</td>\n",
       "      <td>1</td>\n",
       "      <td>0.009018</td>\n",
       "    </tr>\n",
       "  </tbody>\n",
       "</table>\n",
       "<p>178 rows × 4 columns</p>\n",
       "</div>"
      ],
      "text/plain": [
       "                          participant_id        date  label      pred\n",
       "71931   fe020e5092a736a9125f7cd671cc6ad4  2020-02-16      1  0.305184\n",
       "59419   eae88ae68906f5d3b0803c4be76077ff  2020-02-16      1  0.019163\n",
       "87003   7a96679e5e8041233dc1e86ea2ce06cb  2020-02-17      1  0.028514\n",
       "87288   eae88ae68906f5d3b0803c4be76077ff  2020-02-17      1  0.674527\n",
       "25020   7f5d75d670dbfbae0d5b7dcfb22d1f83  2020-02-17      1  0.000516\n",
       "...                                  ...         ...    ...       ...\n",
       "107327  f146536684daa1525d815cd43f3bafd6  2020-03-31      1  0.000986\n",
       "57192   0fcd3f13e0172dd5176f128a2eaa3b02  2020-03-31      1  0.024949\n",
       "52136   6f6cd9f458f65bd30da0ac16ef83c02a  2020-03-31      1  0.002209\n",
       "94871   14bbdca33aad9f88c9669aa227696d1e  2020-03-31      1  0.006315\n",
       "55227   b7b3b618d2f1e2012320f183dd086db5  2020-03-31      1  0.009018\n",
       "\n",
       "[178 rows x 4 columns]"
      ]
     },
     "execution_count": 78,
     "metadata": {},
     "output_type": "execute_result"
    }
   ],
   "source": [
    "xgb_preds[xgb_preds[\"label\"]==1].sort_values(\"date\")"
   ]
  },
  {
   "cell_type": "code",
   "execution_count": 79,
   "metadata": {},
   "outputs": [
    {
     "data": {
      "text/html": [
       "<div>\n",
       "<style scoped>\n",
       "    .dataframe tbody tr th:only-of-type {\n",
       "        vertical-align: middle;\n",
       "    }\n",
       "\n",
       "    .dataframe tbody tr th {\n",
       "        vertical-align: top;\n",
       "    }\n",
       "\n",
       "    .dataframe thead th {\n",
       "        text-align: right;\n",
       "    }\n",
       "</style>\n",
       "<table border=\"1\" class=\"dataframe\">\n",
       "  <thead>\n",
       "    <tr style=\"text-align: right;\">\n",
       "      <th></th>\n",
       "      <th>participant_id</th>\n",
       "      <th>date</th>\n",
       "      <th>label</th>\n",
       "      <th>pred</th>\n",
       "    </tr>\n",
       "  </thead>\n",
       "  <tbody>\n",
       "    <tr>\n",
       "      <th>65848</th>\n",
       "      <td>fe020e5092a736a9125f7cd671cc6ad4</td>\n",
       "      <td>2020-02-16</td>\n",
       "      <td>1</td>\n",
       "      <td>0.818525</td>\n",
       "    </tr>\n",
       "    <tr>\n",
       "      <th>12222</th>\n",
       "      <td>eae88ae68906f5d3b0803c4be76077ff</td>\n",
       "      <td>2020-02-16</td>\n",
       "      <td>1</td>\n",
       "      <td>0.013699</td>\n",
       "    </tr>\n",
       "    <tr>\n",
       "      <th>34105</th>\n",
       "      <td>15c397b567534ea2decfe5e238e685d2</td>\n",
       "      <td>2020-02-17</td>\n",
       "      <td>1</td>\n",
       "      <td>0.001193</td>\n",
       "    </tr>\n",
       "    <tr>\n",
       "      <th>47863</th>\n",
       "      <td>dfd3bf65ce12b59a493074e7f482499e</td>\n",
       "      <td>2020-02-17</td>\n",
       "      <td>1</td>\n",
       "      <td>0.153722</td>\n",
       "    </tr>\n",
       "    <tr>\n",
       "      <th>79838</th>\n",
       "      <td>7f5d75d670dbfbae0d5b7dcfb22d1f83</td>\n",
       "      <td>2020-02-17</td>\n",
       "      <td>1</td>\n",
       "      <td>0.000970</td>\n",
       "    </tr>\n",
       "    <tr>\n",
       "      <th>...</th>\n",
       "      <td>...</td>\n",
       "      <td>...</td>\n",
       "      <td>...</td>\n",
       "      <td>...</td>\n",
       "    </tr>\n",
       "    <tr>\n",
       "      <th>3707</th>\n",
       "      <td>6f6cd9f458f65bd30da0ac16ef83c02a</td>\n",
       "      <td>2020-03-31</td>\n",
       "      <td>1</td>\n",
       "      <td>0.002274</td>\n",
       "    </tr>\n",
       "    <tr>\n",
       "      <th>33495</th>\n",
       "      <td>14bbdca33aad9f88c9669aa227696d1e</td>\n",
       "      <td>2020-03-31</td>\n",
       "      <td>1</td>\n",
       "      <td>0.009719</td>\n",
       "    </tr>\n",
       "    <tr>\n",
       "      <th>50782</th>\n",
       "      <td>f146536684daa1525d815cd43f3bafd6</td>\n",
       "      <td>2020-03-31</td>\n",
       "      <td>1</td>\n",
       "      <td>0.000553</td>\n",
       "    </tr>\n",
       "    <tr>\n",
       "      <th>43973</th>\n",
       "      <td>0fcd3f13e0172dd5176f128a2eaa3b02</td>\n",
       "      <td>2020-03-31</td>\n",
       "      <td>1</td>\n",
       "      <td>0.064280</td>\n",
       "    </tr>\n",
       "    <tr>\n",
       "      <th>55294</th>\n",
       "      <td>b7b3b618d2f1e2012320f183dd086db5</td>\n",
       "      <td>2020-03-31</td>\n",
       "      <td>1</td>\n",
       "      <td>0.000351</td>\n",
       "    </tr>\n",
       "  </tbody>\n",
       "</table>\n",
       "<p>178 rows × 4 columns</p>\n",
       "</div>"
      ],
      "text/plain": [
       "                         participant_id        date  label      pred\n",
       "65848  fe020e5092a736a9125f7cd671cc6ad4  2020-02-16      1  0.818525\n",
       "12222  eae88ae68906f5d3b0803c4be76077ff  2020-02-16      1  0.013699\n",
       "34105  15c397b567534ea2decfe5e238e685d2  2020-02-17      1  0.001193\n",
       "47863  dfd3bf65ce12b59a493074e7f482499e  2020-02-17      1  0.153722\n",
       "79838  7f5d75d670dbfbae0d5b7dcfb22d1f83  2020-02-17      1  0.000970\n",
       "...                                 ...         ...    ...       ...\n",
       "3707   6f6cd9f458f65bd30da0ac16ef83c02a  2020-03-31      1  0.002274\n",
       "33495  14bbdca33aad9f88c9669aa227696d1e  2020-03-31      1  0.009719\n",
       "50782  f146536684daa1525d815cd43f3bafd6  2020-03-31      1  0.000553\n",
       "43973  0fcd3f13e0172dd5176f128a2eaa3b02  2020-03-31      1  0.064280\n",
       "55294  b7b3b618d2f1e2012320f183dd086db5  2020-03-31      1  0.000351\n",
       "\n",
       "[178 rows x 4 columns]"
      ]
     },
     "execution_count": 79,
     "metadata": {},
     "output_type": "execute_result"
    }
   ],
   "source": [
    "our_model_preds[our_model_preds[\"label\"]==1].sort_values(\"date\")"
   ]
  },
  {
   "cell_type": "code",
   "execution_count": 80,
   "metadata": {},
   "outputs": [],
   "source": [
    "index = [\"participant_id\",\"date\"]\n",
    "merged = our_model_preds.set_index(index).join(xgb_preds.set_index(index),lsuffix=\"_ours\",rsuffix=\"_xgb\").dropna()"
   ]
  },
  {
   "cell_type": "code",
   "execution_count": 81,
   "metadata": {},
   "outputs": [
    {
     "data": {
      "text/plain": [
       "0.4377603009925714"
      ]
     },
     "execution_count": 81,
     "metadata": {},
     "output_type": "execute_result"
    }
   ],
   "source": [
    "log_p = delong_roc_test(merged[\"label_ours\"].values, merged[\"pred_ours\"].values, merged[\"pred_xgb\"].values)[0][0]\n",
    "10**log_p"
   ]
  },
  {
   "cell_type": "code",
   "execution_count": 82,
   "metadata": {},
   "outputs": [
    {
     "data": {
      "text/plain": [
       "0    114806\n",
       "1       178\n",
       "Name: label_ours, dtype: int64"
      ]
     },
     "execution_count": 82,
     "metadata": {},
     "output_type": "execute_result"
    }
   ],
   "source": [
    "merged[\"label_ours\"].value_counts()"
   ]
  },
  {
   "cell_type": "code",
   "execution_count": 36,
   "metadata": {},
   "outputs": [
    {
     "data": {
      "text/plain": [
       "7.76778087508268e-53"
      ]
     },
     "execution_count": 36,
     "metadata": {},
     "output_type": "execute_result"
    }
   ],
   "source": [
    "n = len(merged)\n",
    "log_p = delong_roc_test(merged[\"label_ours\"].values, merged[\"pred_ours\"].values, np.ones(n) )[0][0]\n",
    "10**log_p"
   ]
  },
  {
   "cell_type": "code",
   "execution_count": null,
   "metadata": {},
   "outputs": [],
   "source": []
  },
  {
   "cell_type": "code",
   "execution_count": 51,
   "metadata": {},
   "outputs": [
    {
     "data": {
      "text/plain": [
       "(0.7770612899704024, 0.8162924030876072, 0.8529476386694037)"
      ]
     },
     "execution_count": 51,
     "metadata": {},
     "output_type": "execute_result"
    }
   ],
   "source": [
    "from sklearn.metrics import roc_auc_score\n",
    "\n",
    "def bootstrap_roc_auc(labels, preds):\n",
    "    rocs = []\n",
    "    n = len(preds)\n",
    "    for i in range(1000):\n",
    "        inds = np.random.choice(np.arange(n), size=n, replace=True, p=None)\n",
    "        rocs.append(roc_auc_score(labels[inds],preds[inds]))\n",
    "    lower = np.quantile(rocs,0.025)\n",
    "    upper = np.quantile(rocs,0.975)\n",
    "    mean = np.mean(rocs)\n",
    "    return lower, mean, upper\n",
    "\n",
    "bootstrap_roc_auc(merged[\"label_ours\"].values, merged[\"pred_ours\"].values)"
   ]
  },
  {
   "cell_type": "code",
   "execution_count": 52,
   "metadata": {},
   "outputs": [
    {
     "data": {
      "text/plain": [
       "(0.7699339869357218, 0.808395959860667, 0.8434003010845132)"
      ]
     },
     "execution_count": 52,
     "metadata": {},
     "output_type": "execute_result"
    }
   ],
   "source": [
    "bootstrap_roc_auc(merged[\"label_ours\"].values, merged[\"pred_xgb\"].values)"
   ]
  },
  {
   "cell_type": "code",
   "execution_count": 73,
   "metadata": {},
   "outputs": [
    {
     "name": "stdout",
     "output_type": "stream",
     "text": [
      "[  1016   1051   1372   1880   2220   2604   2898   3707   4085   5126\n",
      "   5366   5547   5763   5832   6115   6189   6748   6843   7952   8600\n",
      "   9215   9763  10565  10589  11689  11711  12222  12353  13094  13201\n",
      "  13252  13921  14435  15268  15375  15965  15992  18949  20490  23817\n",
      "  25772  27363  27522  28860  29178  29610  29926  30305  31564  31853\n",
      "  32227  32694  32886  33009  33495  34105  34186  36338  36650  36771\n",
      "  37276  38203  38326  39704  39958  42212  43201  43973  44297  46129\n",
      "  47863  49114  49402  49947  50735  50745  50782  51443  51581  52169\n",
      "  53732  54320  54534  54884  55294  55535  57358  58528  59092  59106\n",
      "  60090  60528  61726  62302  63013  63087  63173  64807  65098  65103\n",
      "  65217  65848  66950  67531  67572  68761  69502  70231  70665  71571\n",
      "  71923  72400  72502  73490  73621  73682  74077  74224  74571  74871\n",
      "  74940  75462  76163  77026  77141  77160  77536  78321  79838  80088\n",
      "  80385  80395  80528  80725  82066  83034  83752  84175  84211  85785\n",
      "  85985  87071  87220  89950  90805  91903  92020  92092  92222  92265\n",
      "  93214  94146  94297  95232  95370  95394  95560  96977  97241  97320\n",
      "  98989 100709 102299 103332 103551 106067 106120 106732 106737 107448\n",
      " 108397 109191 109907 113682 114141 114383 114400 114709]\n"
     ]
    },
    {
     "data": {
      "text/plain": [
       "(0.7798485285485021, 0.8179907785816307, 0.8545377716575906)"
      ]
     },
     "execution_count": 73,
     "metadata": {},
     "output_type": "execute_result"
    }
   ],
   "source": [
    "def hier_bootstrap_roc_auc(labels, preds):\n",
    "    rocs = []\n",
    "    n = len(preds)\n",
    "    pos = labels.nonzero()[0]\n",
    "    n_pos = len(pos)\n",
    "\n",
    "    neg = np.ones(n)\n",
    "    neg[pos] = 0\n",
    "    neg = np.where(neg)[0]\n",
    "    \n",
    "    for i in range(1000):\n",
    "        pos_inds = np.random.choice(pos, size=n_pos, replace=True, p=None)\n",
    "        inds = np.concatenate([neg,pos_inds])\n",
    "        rocs.append(roc_auc_score(labels[inds],preds[inds]))\n",
    "    lower = np.quantile(rocs,0.025)\n",
    "    upper = np.quantile(rocs,0.975)\n",
    "    mean = np.mean(rocs)\n",
    "    return lower, mean, upper\n",
    "\n",
    "hier_bootstrap_roc_auc(merged[\"label_ours\"].values, merged[\"pred_ours\"].values)"
   ]
  },
  {
   "cell_type": "code",
   "execution_count": 83,
   "metadata": {},
   "outputs": [
    {
     "name": "stdout",
     "output_type": "stream",
     "text": [
      "[  1016   1051   1372   1880   2220   2604   2898   3707   4085   5126\n",
      "   5366   5547   5763   5832   6115   6189   6748   6843   7952   8600\n",
      "   9215   9763  10565  10589  11689  11711  12222  12353  13094  13201\n",
      "  13252  13921  14435  15268  15375  15965  15992  18949  20490  23817\n",
      "  25772  27363  27522  28860  29178  29610  29926  30305  31564  31853\n",
      "  32227  32694  32886  33009  33495  34105  34186  36338  36650  36771\n",
      "  37276  38203  38326  39704  39958  42212  43201  43973  44297  46129\n",
      "  47863  49114  49402  49947  50735  50745  50782  51443  51581  52169\n",
      "  53732  54320  54534  54884  55294  55535  57358  58528  59092  59106\n",
      "  60090  60528  61726  62302  63013  63087  63173  64807  65098  65103\n",
      "  65217  65848  66950  67531  67572  68761  69502  70231  70665  71571\n",
      "  71923  72400  72502  73490  73621  73682  74077  74224  74571  74871\n",
      "  74940  75462  76163  77026  77141  77160  77536  78321  79838  80088\n",
      "  80385  80395  80528  80725  82066  83034  83752  84175  84211  85785\n",
      "  85985  87071  87220  89950  90805  91903  92020  92092  92222  92265\n",
      "  93214  94146  94297  95232  95370  95394  95560  96977  97241  97320\n",
      "  98989 100709 102299 103332 103551 106067 106120 106732 106737 107448\n",
      " 108397 109191 109907 113682 114141 114383 114400 114709]\n"
     ]
    },
    {
     "data": {
      "text/plain": [
       "(0.7712453869419579, 0.8089002624016246, 0.8460418988202277)"
      ]
     },
     "execution_count": 83,
     "metadata": {},
     "output_type": "execute_result"
    }
   ],
   "source": [
    "hier_bootstrap_roc_auc(merged[\"label_ours\"].values, merged[\"pred_xgb\"].values)"
   ]
  },
  {
   "cell_type": "code",
   "execution_count": null,
   "metadata": {},
   "outputs": [],
   "source": []
  }
 ],
 "metadata": {
  "interpreter": {
   "hash": "7867239ef32c5845ae61f6682725962561c6704439761454786cb18dddc4660e"
  },
  "kernelspec": {
   "display_name": "Python 3.9.9 64-bit ('seattleflustudy': conda)",
   "language": "python",
   "name": "python3"
  },
  "language_info": {
   "codemirror_mode": {
    "name": "ipython",
    "version": 3
   },
   "file_extension": ".py",
   "mimetype": "text/x-python",
   "name": "python",
   "nbconvert_exporter": "python",
   "pygments_lexer": "ipython3",
   "version": "3.9.9"
  },
  "orig_nbformat": 4
 },
 "nbformat": 4,
 "nbformat_minor": 2
}
