{
 "cells": [
  {
   "cell_type": "code",
   "execution_count": 133,
   "metadata": {},
   "outputs": [],
   "source": [
    "import pandas as pd\n",
    "import seaborn as sns\n",
    "from matplotlib import pyplot as plt\n",
    "import matplotlib as mpl\n",
    "from src.utils import get_wandb_summaries\n",
    "import numpy as np\n",
    "from src.utils import download_table\n",
    "from sklearn.metrics import roc_auc_score, roc_curve, auc, precision_recall_curve, accuracy_score\n",
    "from sklearn.metrics import precision_recall_fscore_support\n",
    "from statsmodels.stats.contingency_tables import mcnemar\n",
    "import itertools"
   ]
  },
  {
   "cell_type": "code",
   "execution_count": 2,
   "metadata": {},
   "outputs": [
    {
     "name": "stdout",
     "output_type": "stream",
     "text": [
      "<wandb.data_types.Table object at 0x7f2212774f10>\n",
      "<wandb.data_types.Table object at 0x7f2200d9bf70>\n",
      "<wandb.data_types.Table object at 0x7f22e019e0d0>\n"
     ]
    }
   ],
   "source": [
    "FLU_RUNS_ALL = {\n",
    "    \"Our Model\":\"z0nbehr0\", \n",
    "    \"XGBoost\":\"7r8nxjo5\", \n",
    "    \"CNN\":\"ko9zy18b\",\n",
    "}\n",
    "all_predictions = {}\n",
    "for k,v in FLU_RUNS_ALL.items():\n",
    "    all_predictions[k] = download_table(v,\"test_predictions\")"
   ]
  },
  {
   "cell_type": "code",
   "execution_count": 182,
   "metadata": {},
   "outputs": [],
   "source": [
    "def predictions_at_sensitivity(preds,labels, sensitivity=0.80):\n",
    "    fpr,tpr, thresholds = roc_curve(labels,preds)\n",
    "    i = np.argmax(tpr>sensitivity)\n",
    "    threshold = thresholds[i]\n",
    "    return preds.values>threshold\n",
    "\n",
    "def predictions_at_max_sens_spec(preds,labels):\n",
    "    fpr,tpr, thresholds = roc_curve(labels,preds)\n",
    "    spec = 1-fpr\n",
    "\n",
    "    i  = np.argmax(tpr+spec)\n",
    "    print(f\"Max sens+spec: {}\")\n",
    "    threshold = thresholds[i]\n",
    "    return preds.values>threshold"
   ]
  },
  {
   "cell_type": "code",
   "execution_count": 123,
   "metadata": {},
   "outputs": [],
   "source": [
    "def add_true_positives(thresholded_preds,labels,n_to_add=1):\n",
    "    false_negatives = np.nonzero((thresholded_preds == 0) & (labels==1))[0]\n",
    "    print(false_negatives)\n",
    "    to_flip = np.random.choice(false_negatives,size=(n_to_add,), replace=False)\n",
    "    to_return = np.copy(thresholded_preds)\n",
    "    to_return[to_flip] = 1\n",
    "    return to_return\n",
    "\n",
    "\n",
    "def get_more_right(thresholded_preds,labels,n_to_add=1):\n",
    "    wrong = np.nonzero(thresholded_preds !=labels)[0]\n",
    "    to_flip = np.random.choice(wrong,size=(n_to_add,), replace=False)\n",
    "    to_return = np.copy(thresholded_preds)\n",
    "    to_return[to_flip] = ~to_return[to_flip]\n",
    "    return to_return"
   ]
  },
  {
   "cell_type": "code",
   "execution_count": 124,
   "metadata": {},
   "outputs": [
    {
     "name": "stdout",
     "output_type": "stream",
     "text": [
      "216 2114\n"
     ]
    },
    {
     "data": {
      "text/plain": [
       "0.8069035691922355"
      ]
     },
     "execution_count": 124,
     "metadata": {},
     "output_type": "execute_result"
    }
   ],
   "source": [
    "preds = predictions_at_sensitivity(all_predictions[\"Our Model\"][\"pred\"], all_predictions[\"Our Model\"][\"label\"])\n",
    "accuracy_score(all_predictions[\"Our Model\"][\"label\"].values,preds)"
   ]
  },
  {
   "cell_type": "code",
   "execution_count": 125,
   "metadata": {},
   "outputs": [
    {
     "data": {
      "text/plain": [
       "0.8156004313643638"
      ]
     },
     "execution_count": 125,
     "metadata": {},
     "output_type": "execute_result"
    }
   ],
   "source": [
    "five_more_right = get_more_right(preds,all_predictions[\"Our Model\"][\"label\"].values,1000)\n",
    "accuracy_score(all_predictions[\"Our Model\"][\"label\"].values,five_more_right)"
   ]
  },
  {
   "cell_type": "code",
   "execution_count": 126,
   "metadata": {},
   "outputs": [],
   "source": [
    "def get_contingency_table(p1,p2,labels):\n",
    "    tab = np.zeros((2,2))\n",
    "    tab[0,0] = ((p1 == labels)&(p2==labels)).sum()\n",
    "    tab[0,1] = ((p1 != labels)&(p2==labels)).sum()\n",
    "    tab[1,0] = ((p1 == labels)&(p2!=labels)).sum()\n",
    "    tab[1,1] = ((p1 != labels)&(p2!=labels)).sum()\n",
    "    return tab"
   ]
  },
  {
   "cell_type": "code",
   "execution_count": 127,
   "metadata": {},
   "outputs": [],
   "source": [
    "index = [\"participant_id\",\"date\"]\n",
    "merged = all_predictions[\"Our Model\"].set_index(index).join(all_predictions[\"CNN\"].set_index(index),lsuffix=\"_ours\",rsuffix=\"_cnn\").dropna()"
   ]
  },
  {
   "cell_type": "code",
   "execution_count": 128,
   "metadata": {},
   "outputs": [
    {
     "data": {
      "text/html": [
       "<div>\n",
       "<style scoped>\n",
       "    .dataframe tbody tr th:only-of-type {\n",
       "        vertical-align: middle;\n",
       "    }\n",
       "\n",
       "    .dataframe tbody tr th {\n",
       "        vertical-align: top;\n",
       "    }\n",
       "\n",
       "    .dataframe thead th {\n",
       "        text-align: right;\n",
       "    }\n",
       "</style>\n",
       "<table border=\"1\" class=\"dataframe\">\n",
       "  <thead>\n",
       "    <tr style=\"text-align: right;\">\n",
       "      <th></th>\n",
       "      <th></th>\n",
       "      <th>label_ours</th>\n",
       "      <th>pred_ours</th>\n",
       "      <th>label_cnn</th>\n",
       "      <th>pred_cnn</th>\n",
       "    </tr>\n",
       "    <tr>\n",
       "      <th>participant_id</th>\n",
       "      <th>date</th>\n",
       "      <th></th>\n",
       "      <th></th>\n",
       "      <th></th>\n",
       "      <th></th>\n",
       "    </tr>\n",
       "  </thead>\n",
       "  <tbody>\n",
       "    <tr>\n",
       "      <th>003f2860b77483ed598b9a915781670b</th>\n",
       "      <th>2020-03-27 23:59:59.999000</th>\n",
       "      <td>0</td>\n",
       "      <td>5.239357e-07</td>\n",
       "      <td>0</td>\n",
       "      <td>7.788170e-05</td>\n",
       "    </tr>\n",
       "    <tr>\n",
       "      <th>00ec156b17dcf1e074fb54a704710f01</th>\n",
       "      <th>2020-02-21 23:59:59.999000</th>\n",
       "      <td>0</td>\n",
       "      <td>1.052754e-05</td>\n",
       "      <td>0</td>\n",
       "      <td>5.063375e-05</td>\n",
       "    </tr>\n",
       "    <tr>\n",
       "      <th>016f167a63e858daae217a425aecc23b</th>\n",
       "      <th>2020-02-29 23:59:59.999000</th>\n",
       "      <td>0</td>\n",
       "      <td>2.461331e-06</td>\n",
       "      <td>0</td>\n",
       "      <td>8.931685e-05</td>\n",
       "    </tr>\n",
       "    <tr>\n",
       "      <th>0233fa5f78ac2628d98d8ed8e7a8920c</th>\n",
       "      <th>2020-02-20 23:59:59.999000</th>\n",
       "      <td>0</td>\n",
       "      <td>2.639837e-06</td>\n",
       "      <td>0</td>\n",
       "      <td>3.337142e-07</td>\n",
       "    </tr>\n",
       "    <tr>\n",
       "      <th>02714922ba62349ebf7aea8cfc46d3ac</th>\n",
       "      <th>2020-03-21 23:59:59.999000</th>\n",
       "      <td>0</td>\n",
       "      <td>8.728128e-05</td>\n",
       "      <td>0</td>\n",
       "      <td>1.928608e-03</td>\n",
       "    </tr>\n",
       "    <tr>\n",
       "      <th>...</th>\n",
       "      <th>...</th>\n",
       "      <td>...</td>\n",
       "      <td>...</td>\n",
       "      <td>...</td>\n",
       "      <td>...</td>\n",
       "    </tr>\n",
       "    <tr>\n",
       "      <th>fdfe93f35a009fe7b9772b52c462bf12</th>\n",
       "      <th>2020-03-14 23:59:59.999000</th>\n",
       "      <td>0</td>\n",
       "      <td>5.427657e-07</td>\n",
       "      <td>0</td>\n",
       "      <td>3.507546e-05</td>\n",
       "    </tr>\n",
       "    <tr>\n",
       "      <th>fe8a5ad6f54650c8fe7c4ef0a822d1ed</th>\n",
       "      <th>2020-03-19 23:59:59.999000</th>\n",
       "      <td>0</td>\n",
       "      <td>3.127789e-06</td>\n",
       "      <td>0</td>\n",
       "      <td>2.547369e-06</td>\n",
       "    </tr>\n",
       "    <tr>\n",
       "      <th>feabb547228dd93259fb5646455d6c4c</th>\n",
       "      <th>2020-02-21 23:59:59.999000</th>\n",
       "      <td>0</td>\n",
       "      <td>8.493297e-06</td>\n",
       "      <td>0</td>\n",
       "      <td>4.056186e-05</td>\n",
       "    </tr>\n",
       "    <tr>\n",
       "      <th>ff27a7df76696a90451c47f4058073c7</th>\n",
       "      <th>2020-03-22 23:59:59.999000</th>\n",
       "      <td>0</td>\n",
       "      <td>3.112536e-06</td>\n",
       "      <td>0</td>\n",
       "      <td>3.537333e-06</td>\n",
       "    </tr>\n",
       "    <tr>\n",
       "      <th>ff79e99a2b9310f21cdc723429f7b196</th>\n",
       "      <th>2020-03-02 23:59:59.999000</th>\n",
       "      <td>0</td>\n",
       "      <td>6.443480e-05</td>\n",
       "      <td>0</td>\n",
       "      <td>1.014177e-03</td>\n",
       "    </tr>\n",
       "  </tbody>\n",
       "</table>\n",
       "<p>114984 rows × 4 columns</p>\n",
       "</div>"
      ],
      "text/plain": [
       "                                                             label_ours  \\\n",
       "participant_id                   date                                     \n",
       "003f2860b77483ed598b9a915781670b 2020-03-27 23:59:59.999000           0   \n",
       "00ec156b17dcf1e074fb54a704710f01 2020-02-21 23:59:59.999000           0   \n",
       "016f167a63e858daae217a425aecc23b 2020-02-29 23:59:59.999000           0   \n",
       "0233fa5f78ac2628d98d8ed8e7a8920c 2020-02-20 23:59:59.999000           0   \n",
       "02714922ba62349ebf7aea8cfc46d3ac 2020-03-21 23:59:59.999000           0   \n",
       "...                                                                 ...   \n",
       "fdfe93f35a009fe7b9772b52c462bf12 2020-03-14 23:59:59.999000           0   \n",
       "fe8a5ad6f54650c8fe7c4ef0a822d1ed 2020-03-19 23:59:59.999000           0   \n",
       "feabb547228dd93259fb5646455d6c4c 2020-02-21 23:59:59.999000           0   \n",
       "ff27a7df76696a90451c47f4058073c7 2020-03-22 23:59:59.999000           0   \n",
       "ff79e99a2b9310f21cdc723429f7b196 2020-03-02 23:59:59.999000           0   \n",
       "\n",
       "                                                                pred_ours  \\\n",
       "participant_id                   date                                       \n",
       "003f2860b77483ed598b9a915781670b 2020-03-27 23:59:59.999000  5.239357e-07   \n",
       "00ec156b17dcf1e074fb54a704710f01 2020-02-21 23:59:59.999000  1.052754e-05   \n",
       "016f167a63e858daae217a425aecc23b 2020-02-29 23:59:59.999000  2.461331e-06   \n",
       "0233fa5f78ac2628d98d8ed8e7a8920c 2020-02-20 23:59:59.999000  2.639837e-06   \n",
       "02714922ba62349ebf7aea8cfc46d3ac 2020-03-21 23:59:59.999000  8.728128e-05   \n",
       "...                                                                   ...   \n",
       "fdfe93f35a009fe7b9772b52c462bf12 2020-03-14 23:59:59.999000  5.427657e-07   \n",
       "fe8a5ad6f54650c8fe7c4ef0a822d1ed 2020-03-19 23:59:59.999000  3.127789e-06   \n",
       "feabb547228dd93259fb5646455d6c4c 2020-02-21 23:59:59.999000  8.493297e-06   \n",
       "ff27a7df76696a90451c47f4058073c7 2020-03-22 23:59:59.999000  3.112536e-06   \n",
       "ff79e99a2b9310f21cdc723429f7b196 2020-03-02 23:59:59.999000  6.443480e-05   \n",
       "\n",
       "                                                             label_cnn  \\\n",
       "participant_id                   date                                    \n",
       "003f2860b77483ed598b9a915781670b 2020-03-27 23:59:59.999000          0   \n",
       "00ec156b17dcf1e074fb54a704710f01 2020-02-21 23:59:59.999000          0   \n",
       "016f167a63e858daae217a425aecc23b 2020-02-29 23:59:59.999000          0   \n",
       "0233fa5f78ac2628d98d8ed8e7a8920c 2020-02-20 23:59:59.999000          0   \n",
       "02714922ba62349ebf7aea8cfc46d3ac 2020-03-21 23:59:59.999000          0   \n",
       "...                                                                ...   \n",
       "fdfe93f35a009fe7b9772b52c462bf12 2020-03-14 23:59:59.999000          0   \n",
       "fe8a5ad6f54650c8fe7c4ef0a822d1ed 2020-03-19 23:59:59.999000          0   \n",
       "feabb547228dd93259fb5646455d6c4c 2020-02-21 23:59:59.999000          0   \n",
       "ff27a7df76696a90451c47f4058073c7 2020-03-22 23:59:59.999000          0   \n",
       "ff79e99a2b9310f21cdc723429f7b196 2020-03-02 23:59:59.999000          0   \n",
       "\n",
       "                                                                 pred_cnn  \n",
       "participant_id                   date                                      \n",
       "003f2860b77483ed598b9a915781670b 2020-03-27 23:59:59.999000  7.788170e-05  \n",
       "00ec156b17dcf1e074fb54a704710f01 2020-02-21 23:59:59.999000  5.063375e-05  \n",
       "016f167a63e858daae217a425aecc23b 2020-02-29 23:59:59.999000  8.931685e-05  \n",
       "0233fa5f78ac2628d98d8ed8e7a8920c 2020-02-20 23:59:59.999000  3.337142e-07  \n",
       "02714922ba62349ebf7aea8cfc46d3ac 2020-03-21 23:59:59.999000  1.928608e-03  \n",
       "...                                                                   ...  \n",
       "fdfe93f35a009fe7b9772b52c462bf12 2020-03-14 23:59:59.999000  3.507546e-05  \n",
       "fe8a5ad6f54650c8fe7c4ef0a822d1ed 2020-03-19 23:59:59.999000  2.547369e-06  \n",
       "feabb547228dd93259fb5646455d6c4c 2020-02-21 23:59:59.999000  4.056186e-05  \n",
       "ff27a7df76696a90451c47f4058073c7 2020-03-22 23:59:59.999000  3.537333e-06  \n",
       "ff79e99a2b9310f21cdc723429f7b196 2020-03-02 23:59:59.999000  1.014177e-03  \n",
       "\n",
       "[114984 rows x 4 columns]"
      ]
     },
     "execution_count": 128,
     "metadata": {},
     "output_type": "execute_result"
    }
   ],
   "source": [
    "merged"
   ]
  },
  {
   "cell_type": "code",
   "execution_count": 174,
   "metadata": {},
   "outputs": [
    {
     "name": "stdout",
     "output_type": "stream",
     "text": [
      "76 2114\n",
      "76 2114\n"
     ]
    }
   ],
   "source": [
    "ps = []\n",
    "x = []\n",
    "accs = []\n",
    "labels = merged[\"label_ours\"].values\n",
    "p1 = predictions_at_sensitivity(merged[\"pred_ours\"], labels, sensitivity=0.6) \n",
    "base_p2 = predictions_at_sensitivity(merged[\"pred_ours\"], labels, sensitivity=0.6) \n",
    "\n",
    "for i in np.arange(0,100,1):\n",
    "    improved_p2 = get_more_right(base_p2,labels,i)\n",
    "    tab = get_contingency_table(p1,improved_p2,labels)\n",
    "    result = mcnemar(tab, exact=True)\n",
    "    accs.append(accuracy_score(labels,improved_p2))\n",
    "    ps.append(result.pvalue)\n",
    "    x.append(i)"
   ]
  },
  {
   "cell_type": "code",
   "execution_count": 175,
   "metadata": {},
   "outputs": [
    {
     "data": {
      "text/plain": [
       "array([[104510.,      0.],\n",
       "       [     0.,  10474.]])"
      ]
     },
     "execution_count": 175,
     "metadata": {},
     "output_type": "execute_result"
    }
   ],
   "source": [
    "get_contingency_table(p1,base_p2,labels)"
   ]
  },
  {
   "cell_type": "code",
   "execution_count": 176,
   "metadata": {},
   "outputs": [
    {
     "data": {
      "text/plain": [
       "array([[1.0451e+05, 9.9000e+01],\n",
       "       [0.0000e+00, 1.0375e+04]])"
      ]
     },
     "execution_count": 176,
     "metadata": {},
     "output_type": "execute_result"
    }
   ],
   "source": [
    "get_contingency_table(p1,improved_p2,labels)"
   ]
  },
  {
   "cell_type": "code",
   "execution_count": 177,
   "metadata": {},
   "outputs": [
    {
     "data": {
      "text/plain": [
       "Text(0.5, 1.0, 'Comparison of Our Model v.s. CNN at 0.8 Sensitivity')"
      ]
     },
     "execution_count": 177,
     "metadata": {},
     "output_type": "execute_result"
    },
    {
     "data": {
      "image/png": "[encoded data removed]",
      "text/plain": [
       "<Figure size 432x288 with 1 Axes>"
      ]
     },
     "metadata": {
      "needs_background": "light"
     },
     "output_type": "display_data"
    }
   ],
   "source": [
    "plt.plot(x,ps)\n",
    "plt.xlabel(\"Number of test examples corrected\")\n",
    "plt.ylabel(\"p-value (Mcnemars)\")\n",
    "plt.title(\"Comparison of Our Model v.s. CNN at 0.8 Sensitivity\")"
   ]
  },
  {
   "cell_type": "code",
   "execution_count": 134,
   "metadata": {},
   "outputs": [
    {
     "data": {
      "text/plain": [
       "(array([0.8453193 , 0.79545455]),\n",
       " array([0.99990738, 0.00196475]),\n",
       " array([0.91613785, 0.00391981]),\n",
       " array([97170, 17814]))"
      ]
     },
     "execution_count": 134,
     "metadata": {},
     "output_type": "execute_result"
    }
   ],
   "source": [
    "precision_recall_fscore_support(p1,labels)"
   ]
  },
  {
   "cell_type": "code",
   "execution_count": 135,
   "metadata": {},
   "outputs": [
    {
     "data": {
      "text/plain": [
       "(array([0.80690795, 0.79545455]),\n",
       " array([0.99990297, 0.00157452]),\n",
       " array([0.89309805, 0.00314282]),\n",
       " array([92755, 22229]))"
      ]
     },
     "execution_count": 135,
     "metadata": {},
     "output_type": "execute_result"
    }
   ],
   "source": [
    "precision_recall_fscore_support(base_p2,labels)"
   ]
  },
  {
   "cell_type": "code",
   "execution_count": 180,
   "metadata": {},
   "outputs": [],
   "source": [
    "ps = []\n",
    "xs = []\n",
    "for x in np.linspace(0,1,20):\n",
    "    p1 = predictions_at_sensitivity(merged[\"pred_ours\"], labels, sensitivity=x) \n",
    "    p2 = predictions_at_sensitivity(merged[\"pred_cnn\"], labels, sensitivity=x)\n",
    "    tab = get_contingency_table(p1,p2,labels)\n",
    "    result = mcnemar(tab, exact=True)\n",
    "    ps.append(result.pvalue)\n",
    "    xs.append(x)\n"
   ]
  },
  {
   "cell_type": "code",
   "execution_count": 181,
   "metadata": {},
   "outputs": [
    {
     "data": {
      "text/plain": [
       "[<matplotlib.lines.Line2D at 0x7f2212171a00>]"
      ]
     },
     "execution_count": 181,
     "metadata": {},
     "output_type": "execute_result"
    },
    {
     "data": {
      "image/png": "[encoded data removed]",
      "text/plain": [
       "<Figure size 432x288 with 1 Axes>"
      ]
     },
     "metadata": {
      "needs_background": "light"
     },
     "output_type": "display_data"
    }
   ],
   "source": [
    "plt.plot(xs,ps)"
   ]
  },
  {
   "cell_type": "code",
   "execution_count": 187,
   "metadata": {},
   "outputs": [
    {
     "name": "stdout",
     "output_type": "stream",
     "text": [
      "CNN: (array([0.8453193 , 0.79545455]), array([0.99990738, 0.00196475]), array([0.91613785, 0.00391981]), array([97170, 17814]))\n",
      "Ours: (array([0.85272316, 0.75      ]), array([0.99988778, 0.00194564]), array([0.92046036, 0.00388121]), array([98023, 16961]))\n"
     ]
    },
    {
     "data": {
      "image/png": "[encoded data removed]",
      "text/plain": [
       "<Figure size 432x288 with 1 Axes>"
      ]
     },
     "metadata": {
      "needs_background": "light"
     },
     "output_type": "display_data"
    }
   ],
   "source": [
    "ps = []\n",
    "x = []\n",
    "accs = []\n",
    "labels = merged[\"label_ours\"].values\n",
    "p1 = predictions_at_max_sens_spec(merged[\"pred_cnn\"], labels) \n",
    "base_p2 = predictions_at_max_sens_spec(merged[\"pred_ours\"], labels) \n",
    "\n",
    "for i in np.arange(0,1000,100):\n",
    "    improved_p2 = get_more_right(base_p2,labels,i)\n",
    "    tab = get_contingency_table(p1,improved_p2,labels)\n",
    "    result = mcnemar(tab, exact=True)\n",
    "    accs.append(accuracy_score(labels,improved_p2))\n",
    "    ps.append(result.pvalue)\n",
    "    x.append(i)\n",
    "\n",
    "plt.plot(x,ps)\n",
    "\n",
    "\n",
    "print(\"CNN:\",precision_recall_fscore_support(p1,labels))\n",
    "print(\"Ours:\",precision_recall_fscore_support(base_p2,labels))"
   ]
  },
  {
   "cell_type": "code",
   "execution_count": null,
   "metadata": {},
   "outputs": [],
   "source": [
    "\n"
   ]
  }
 ],
 "metadata": {
  "interpreter": {
   "hash": "7867239ef32c5845ae61f6682725962561c6704439761454786cb18dddc4660e"
  },
  "kernelspec": {
   "display_name": "Python 3.9.9 ('seattleflustudy')",
   "language": "python",
   "name": "python3"
  },
  "language_info": {
   "codemirror_mode": {
    "name": "ipython",
    "version": 3
   },
   "file_extension": ".py",
   "mimetype": "text/x-python",
   "name": "python",
   "nbconvert_exporter": "python",
   "pygments_lexer": "ipython3",
   "version": "3.9.9"
  },
  "orig_nbformat": 4
 },
 "nbformat": 4,
 "nbformat_minor": 2
}
