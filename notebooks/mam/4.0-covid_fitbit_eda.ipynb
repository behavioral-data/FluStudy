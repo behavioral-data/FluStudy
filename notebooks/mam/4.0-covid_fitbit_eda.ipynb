{
 "cells": [
  {
   "cell_type": "code",
   "execution_count": 1,
   "source": [
    "import pandas as pd\n",
    "import os\n",
    "DATA_DIR = \"/projects/bdata/datasets/covid-fitbit/raw/COVID-19-Wearables\""
   ],
   "outputs": [],
   "metadata": {}
  },
  {
   "cell_type": "code",
   "execution_count": 2,
   "source": [
    "test_sleep = pd.read_csv(os.path.join(DATA_DIR,\"AAXAA7Z_sleep.csv\"))"
   ],
   "outputs": [],
   "metadata": {}
  },
  {
   "cell_type": "code",
   "execution_count": 3,
   "source": [
    "test_sleep.head()"
   ],
   "outputs": [
    {
     "output_type": "execute_result",
     "data": {
      "text/html": [
       "<div>\n",
       "<style scoped>\n",
       "    .dataframe tbody tr th:only-of-type {\n",
       "        vertical-align: middle;\n",
       "    }\n",
       "\n",
       "    .dataframe tbody tr th {\n",
       "        vertical-align: top;\n",
       "    }\n",
       "\n",
       "    .dataframe thead th {\n",
       "        text-align: right;\n",
       "    }\n",
       "</style>\n",
       "<table border=\"1\" class=\"dataframe\">\n",
       "  <thead>\n",
       "    <tr style=\"text-align: right;\">\n",
       "      <th></th>\n",
       "      <th>user</th>\n",
       "      <th>datetime</th>\n",
       "      <th>stage_duration</th>\n",
       "      <th>stage</th>\n",
       "    </tr>\n",
       "  </thead>\n",
       "  <tbody>\n",
       "    <tr>\n",
       "      <th>0</th>\n",
       "      <td>AAXAA7Z</td>\n",
       "      <td>2020-12-22 23:09:30</td>\n",
       "      <td>570</td>\n",
       "      <td>wake</td>\n",
       "    </tr>\n",
       "    <tr>\n",
       "      <th>1</th>\n",
       "      <td>AAXAA7Z</td>\n",
       "      <td>2020-12-22 23:19:00</td>\n",
       "      <td>3900</td>\n",
       "      <td>light</td>\n",
       "    </tr>\n",
       "    <tr>\n",
       "      <th>2</th>\n",
       "      <td>AAXAA7Z</td>\n",
       "      <td>2020-12-23 00:24:00</td>\n",
       "      <td>210</td>\n",
       "      <td>wake</td>\n",
       "    </tr>\n",
       "    <tr>\n",
       "      <th>3</th>\n",
       "      <td>AAXAA7Z</td>\n",
       "      <td>2020-12-23 00:27:30</td>\n",
       "      <td>3090</td>\n",
       "      <td>light</td>\n",
       "    </tr>\n",
       "    <tr>\n",
       "      <th>4</th>\n",
       "      <td>AAXAA7Z</td>\n",
       "      <td>2020-12-23 01:19:00</td>\n",
       "      <td>300</td>\n",
       "      <td>deep</td>\n",
       "    </tr>\n",
       "  </tbody>\n",
       "</table>\n",
       "</div>"
      ],
      "text/plain": [
       "      user             datetime  stage_duration  stage\n",
       "0  AAXAA7Z  2020-12-22 23:09:30             570   wake\n",
       "1  AAXAA7Z  2020-12-22 23:19:00            3900  light\n",
       "2  AAXAA7Z  2020-12-23 00:24:00             210   wake\n",
       "3  AAXAA7Z  2020-12-23 00:27:30            3090  light\n",
       "4  AAXAA7Z  2020-12-23 01:19:00             300   deep"
      ]
     },
     "metadata": {},
     "execution_count": 3
    }
   ],
   "metadata": {}
  },
  {
   "cell_type": "code",
   "execution_count": 5,
   "source": [
    "test_sleep[\"stage\"].value_counts()"
   ],
   "outputs": [
    {
     "output_type": "execute_result",
     "data": {
      "text/plain": [
       "light       6848\n",
       "rem         3615\n",
       "wake        2371\n",
       "deep        1986\n",
       "restless     971\n",
       "asleep       835\n",
       "awake        146\n",
       "unknown        1\n",
       "Name: stage, dtype: int64"
      ]
     },
     "metadata": {},
     "execution_count": 5
    }
   ],
   "metadata": {}
  },
  {
   "cell_type": "markdown",
   "source": [
    "Looks like they use a different sleep API - maybe some combination of \"classic\" (also used by Evidation) and \"stages\" (currently don't have any data for this)."
   ],
   "metadata": {}
  },
  {
   "cell_type": "markdown",
   "source": [],
   "metadata": {}
  }
 ],
 "metadata": {
  "orig_nbformat": 4,
  "language_info": {
   "name": "python",
   "version": "3.7.10",
   "mimetype": "text/x-python",
   "codemirror_mode": {
    "name": "ipython",
    "version": 3
   },
   "pygments_lexer": "ipython3",
   "nbconvert_exporter": "python",
   "file_extension": ".py"
  },
  "kernelspec": {
   "name": "python3",
   "display_name": "Python 3.7.10 64-bit ('seattleflustudy': conda)"
  },
  "interpreter": {
   "hash": "33ce0e65a16bbbfed8747cf639675d51860ec492d46ecd6a2e3c04972da19a28"
  }
 },
 "nbformat": 4,
 "nbformat_minor": 2
}