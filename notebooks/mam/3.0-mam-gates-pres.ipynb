{
 "metadata": {
  "language_info": {
   "codemirror_mode": {
    "name": "ipython",
    "version": 3
   },
   "file_extension": ".py",
   "mimetype": "text/x-python",
   "name": "python",
   "nbconvert_exporter": "python",
   "pygments_lexer": "ipython3",
   "version": "3.7.10"
  },
  "orig_nbformat": 2,
  "kernelspec": {
   "name": "python3710jvsc74a57bd033ce0e65a16bbbfed8747cf639675d51860ec492d46ecd6a2e3c04972da19a28",
   "display_name": "Python 3.7.10 64-bit ('seattleflustudy': conda)"
  },
  "metadata": {
   "interpreter": {
    "hash": "33ce0e65a16bbbfed8747cf639675d51860ec492d46ecd6a2e3c04972da19a28"
   }
  }
 },
 "nbformat": 4,
 "nbformat_minor": 2,
 "cells": [
  {
   "cell_type": "code",
   "execution_count": 21,
   "metadata": {},
   "outputs": [
    {
     "output_type": "stream",
     "name": "stdout",
     "text": [
      "The autoreload extension is already loaded. To reload it, use:\n  %reload_ext autoreload\n"
     ]
    }
   ],
   "source": [
    "%load_ext autoreload\n",
    "%autoreload 2\n",
    "\n",
    "\n",
    "from src.visualization.visualize import plot_roc_curve\n",
    "import wandb\n",
    "from matplotlib import pyplot as plt"
   ]
  },
  {
   "cell_type": "code",
   "execution_count": 47,
   "metadata": {},
   "outputs": [
    {
     "output_type": "error",
     "ename": "SyntaxError",
     "evalue": "invalid syntax (<ipython-input-47-84c465d5339a>, line 4)",
     "traceback": [
      "\u001b[0;36m  File \u001b[0;32m\"<ipython-input-47-84c465d5339a>\"\u001b[0;36m, line \u001b[0;32m4\u001b[0m\n\u001b[0;31m    {\"model\":\"XGBoost - Expert Features\", \"id\":\"2eh82mpu\", \"roc_table\"}\u001b[0m\n\u001b[0m                                                                      ^\u001b[0m\n\u001b[0;31mSyntaxError\u001b[0m\u001b[0;31m:\u001b[0m invalid syntax\n"
     ]
    }
   ],
   "source": [
    "runs = [\n",
    "    {\"model\":\"Our Model\", \"id\":\"hd5hurry\", \"table_name\":\"evalroc_table\"},\n",
    "    {\"model\":\"XGBoost\", \"id\":\"33yyx3al\", \"table_name\":\"roc_table\"},\n",
    "    {\"model\":\"XGBoost - Expert Features\", \"id\":\"2eh82mpu\", \"table)name\":\"roc_table\"}\n",
    "]\n",
    "with plt.style.context(('src/visualization/stylesheets/presentation.mplstyle')):\n",
    "    for run in runs:\n",
    "        plot_roc_curve(run[\"id\"], table_name = run[\"table_name\"],\n",
    "                    plt_kwargs = {\"label\":run[\"model\"]})\n",
    "\n",
    "    plt.title(\"ROC on Predicting Flu Positivity\")\n",
    "    plt.gca().set_aspect(\"equal\")\n",
    "    \n",
    "    fig = plt.gcf()\n",
    "    fig.set_size_inches(18.5, 10.5)\n",
    "    plt.savefig(\"./reports/GatesCheckIn/figures/FluPositivity.png\")"
   ]
  },
  {
   "cell_type": "code",
   "execution_count": null,
   "metadata": {},
   "outputs": [],
   "source": []
  }
 ]
}