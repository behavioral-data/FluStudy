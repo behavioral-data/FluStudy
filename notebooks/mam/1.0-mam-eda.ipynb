{
 "metadata": {
  "language_info": {
   "codemirror_mode": {
    "name": "ipython",
    "version": 3
   },
   "file_extension": ".py",
   "mimetype": "text/x-python",
   "name": "python",
   "nbconvert_exporter": "python",
   "pygments_lexer": "ipython3",
   "version": "3.7.10"
  },
  "orig_nbformat": 2,
  "kernelspec": {
   "name": "python3710jvsc74a57bd033ce0e65a16bbbfed8747cf639675d51860ec492d46ecd6a2e3c04972da19a28",
   "display_name": "Python 3.7.10 64-bit ('seattleflustudy': conda)"
  },
  "metadata": {
   "interpreter": {
    "hash": "33ce0e65a16bbbfed8747cf639675d51860ec492d46ecd6a2e3c04972da19a28"
   }
  }
 },
 "nbformat": 4,
 "nbformat_minor": 2,
 "cells": [
  {
   "cell_type": "code",
   "execution_count": 6,
   "metadata": {},
   "outputs": [],
   "source": [
    "import os\n",
    "os.chdir(\"/homes/gws/mikeam/seattleflustudy/\")"
   ]
  },
  {
   "source": [
    "%load_ext autoreload\n",
    "%autoreload 2\n",
    "import pandas as pd\n",
    "import numpy as np\n",
    "from src.utils import read_jsonl\n",
    "from src.data.utils import load_processed_table, find_processed_dataset, get_dask_df"
   ],
   "cell_type": "code",
   "metadata": {},
   "execution_count": 7,
   "outputs": [
    {
     "output_type": "stream",
     "name": "stdout",
     "text": [
      "The autoreload extension is already loaded. To reload it, use:\n  %reload_ext autoreload\nOrderedDict([('MAIN_PATH', '/homes/gws/mikeam/seattleflustudy/')])\n"
     ]
    }
   ]
  },
  {
   "source": [
    "all_activity = get_dask_df(\"processed_fitbit_minute_level_activity\").compute()"
   ],
   "cell_type": "code",
   "metadata": {},
   "execution_count": 8,
   "outputs": []
  },
  {
   "cell_type": "code",
   "execution_count": 9,
   "metadata": {},
   "outputs": [
    {
     "output_type": "execute_result",
     "data": {
      "text/plain": [
       "591849.8944444444"
      ]
     },
     "metadata": {},
     "execution_count": 9
    }
   ],
   "source": [
    "len(all_activity)/ 1440.0\n"
   ]
  },
  {
   "cell_type": "code",
   "execution_count": 11,
   "metadata": {},
   "outputs": [
    {
     "output_type": "execute_result",
     "data": {
      "text/plain": [
       "                     participant_id  ...        date\n",
       "0  0b94379a2f7b04d44eae05c236dd6e77  ...  2019-12-15\n",
       "1  0b94379a2f7b04d44eae05c236dd6e77  ...  2019-12-15\n",
       "2  0b94379a2f7b04d44eae05c236dd6e77  ...  2019-12-15\n",
       "3  0b94379a2f7b04d44eae05c236dd6e77  ...  2019-12-15\n",
       "4  0b94379a2f7b04d44eae05c236dd6e77  ...  2019-12-15\n",
       "\n",
       "[5 rows x 11 columns]"
      ],
      "text/html": "<div>\n<style scoped>\n    .dataframe tbody tr th:only-of-type {\n        vertical-align: middle;\n    }\n\n    .dataframe tbody tr th {\n        vertical-align: top;\n    }\n\n    .dataframe thead th {\n        text-align: right;\n    }\n</style>\n<table border=\"1\" class=\"dataframe\">\n  <thead>\n    <tr style=\"text-align: right;\">\n      <th></th>\n      <th>participant_id</th>\n      <th>timestamp</th>\n      <th>steps</th>\n      <th>heart_rate</th>\n      <th>missing_heartrate</th>\n      <th>missing_steps</th>\n      <th>sleep_classic_0</th>\n      <th>sleep_classic_1</th>\n      <th>sleep_classic_2</th>\n      <th>sleep_classic_3</th>\n      <th>date</th>\n    </tr>\n  </thead>\n  <tbody>\n    <tr>\n      <th>0</th>\n      <td>0b94379a2f7b04d44eae05c236dd6e77</td>\n      <td>2019-12-15 00:00:00</td>\n      <td>0.0</td>\n      <td>73.0</td>\n      <td>False</td>\n      <td>False</td>\n      <td>False</td>\n      <td>True</td>\n      <td>False</td>\n      <td>False</td>\n      <td>2019-12-15</td>\n    </tr>\n    <tr>\n      <th>1</th>\n      <td>0b94379a2f7b04d44eae05c236dd6e77</td>\n      <td>2019-12-15 00:01:00</td>\n      <td>0.0</td>\n      <td>74.0</td>\n      <td>False</td>\n      <td>False</td>\n      <td>False</td>\n      <td>True</td>\n      <td>False</td>\n      <td>False</td>\n      <td>2019-12-15</td>\n    </tr>\n    <tr>\n      <th>2</th>\n      <td>0b94379a2f7b04d44eae05c236dd6e77</td>\n      <td>2019-12-15 00:02:00</td>\n      <td>0.0</td>\n      <td>74.0</td>\n      <td>False</td>\n      <td>False</td>\n      <td>False</td>\n      <td>True</td>\n      <td>False</td>\n      <td>False</td>\n      <td>2019-12-15</td>\n    </tr>\n    <tr>\n      <th>3</th>\n      <td>0b94379a2f7b04d44eae05c236dd6e77</td>\n      <td>2019-12-15 00:03:00</td>\n      <td>0.0</td>\n      <td>74.0</td>\n      <td>False</td>\n      <td>False</td>\n      <td>False</td>\n      <td>True</td>\n      <td>False</td>\n      <td>False</td>\n      <td>2019-12-15</td>\n    </tr>\n    <tr>\n      <th>4</th>\n      <td>0b94379a2f7b04d44eae05c236dd6e77</td>\n      <td>2019-12-15 00:04:00</td>\n      <td>0.0</td>\n      <td>73.0</td>\n      <td>False</td>\n      <td>False</td>\n      <td>False</td>\n      <td>True</td>\n      <td>False</td>\n      <td>False</td>\n      <td>2019-12-15</td>\n    </tr>\n  </tbody>\n</table>\n</div>"
     },
     "metadata": {},
     "execution_count": 11
    }
   ],
   "source": [
    "all_activity.head()"
   ]
  },
  {
   "cell_type": "code",
   "execution_count": 13,
   "metadata": {},
   "outputs": [
    {
     "output_type": "execute_result",
     "data": {
      "text/plain": [
       "False    0.900483\n",
       "True     0.099517\n",
       "Name: missing_heartrate, dtype: float64"
      ]
     },
     "metadata": {},
     "execution_count": 13
    }
   ],
   "source": [
    "all_activity[\"missing_heartrate\"].value_counts(normalize=True)"
   ]
  },
  {
   "cell_type": "code",
   "execution_count": 5,
   "metadata": {},
   "outputs": [
    {
     "output_type": "stream",
     "name": "stdout",
     "text": [
      "/homes/gws/mikeam/seattleflustudy/notebooks/mam\n"
     ]
    }
   ],
   "source": [
    "!pwd"
   ]
  },
  {
   "source": [
    "# Looking at survery results to come up with more tasks"
   ],
   "cell_type": "markdown",
   "metadata": {}
  },
  {
   "cell_type": "code",
   "execution_count": 40,
   "metadata": {},
   "outputs": [
    {
     "output_type": "stream",
     "name": "stderr",
     "text": [
      "/homes/gws/mikeam/miniconda3/envs/seattleflustudy/lib/python3.7/site-packages/IPython/core/interactiveshell.py:3437: DtypeWarning: Columns (5,7,8) have mixed types.Specify dtype option on import or set low_memory=False.\n",
      "  exec(code_obj, self.user_global_ns, self.user_ns)\n",
      "05/21/2021 16:12:38 - INFO - src.utils -   Reading daily_surveys_onehot...\n"
     ]
    }
   ],
   "source": [
    "all_survey_results = load_processed_table(\"daily_surveys_onehot\")"
   ]
  },
  {
   "cell_type": "code",
   "execution_count": 41,
   "metadata": {},
   "outputs": [
    {
     "output_type": "execute_result",
     "data": {
      "text/plain": [
       "0    0.980647\n",
       "1    0.019353\n",
       "Name: have_flu, dtype: float64"
      ]
     },
     "metadata": {},
     "execution_count": 41
    }
   ],
   "source": [
    "all_survey_results[\"have_flu\"].value_counts(normalize=True)"
   ]
  },
  {
   "cell_type": "code",
   "execution_count": 42,
   "metadata": {},
   "outputs": [
    {
     "output_type": "execute_result",
     "data": {
      "text/plain": [
       "['occurrence',\n",
       " 'timestamp',\n",
       " 'participant_id',\n",
       " 'have_flu',\n",
       " 'recovered_yn',\n",
       " 'recovery_datetime',\n",
       " 'first_report_yn',\n",
       " 'first_sx_datetime',\n",
       " 'body_temp_f',\n",
       " 'symptom_severity__fever_q_0',\n",
       " 'symptom_severity__fever_q_1',\n",
       " 'symptom_severity__fever_q_2',\n",
       " 'symptom_severity__fever_q_3',\n",
       " 'symptom_severity__fever_q_skipped',\n",
       " 'med_otc_name__3_0',\n",
       " 'med_otc_name__3_1',\n",
       " 'med_otc_name__3_skipped',\n",
       " 'symptom_severity__sweats_q_0',\n",
       " 'symptom_severity__sweats_q_1',\n",
       " 'symptom_severity__sweats_q_2',\n",
       " 'symptom_severity__sweats_q_3',\n",
       " 'symptom_severity__sweats_q_skipped',\n",
       " 'med_otc_name__4_0',\n",
       " 'med_otc_name__4_1',\n",
       " 'med_otc_name__4_skipped',\n",
       " 'severity_overall_1',\n",
       " 'severity_overall_2',\n",
       " 'severity_overall_3',\n",
       " 'med_otc_name__5_0',\n",
       " 'med_otc_name__5_1',\n",
       " 'med_otc_name__5_skipped',\n",
       " 't_recov_severity__q_recov_sneezing_0',\n",
       " 't_recov_severity__q_recov_sneezing_1',\n",
       " 't_recov_severity__q_recov_sneezing_2',\n",
       " 't_recov_severity__q_recov_sneezing_3',\n",
       " 't_recov_severity__q_recov_sneezing_skipped',\n",
       " 'symptom_severity__q_headache_0',\n",
       " 'symptom_severity__q_headache_1',\n",
       " 'symptom_severity__q_headache_2',\n",
       " 'symptom_severity__q_headache_3',\n",
       " 'symptom_severity__q_headache_skipped',\n",
       " 't_recov_severity__q_recov_sore_throat_0',\n",
       " 't_recov_severity__q_recov_sore_throat_1',\n",
       " 't_recov_severity__q_recov_sore_throat_2',\n",
       " 't_recov_severity__q_recov_sore_throat_3',\n",
       " 't_recov_severity__q_recov_sore_throat_skipped',\n",
       " 'med_rx_yn_0',\n",
       " 'med_rx_yn_1',\n",
       " 'med_rx_yn_2',\n",
       " 'med_rx_name__1_0',\n",
       " 'med_rx_name__1_1',\n",
       " 'med_rx_name__1_skipped',\n",
       " 'symptom_severity__q_sore_throat_0',\n",
       " 'symptom_severity__q_sore_throat_1',\n",
       " 'symptom_severity__q_sore_throat_2',\n",
       " 'symptom_severity__q_sore_throat_3',\n",
       " 'symptom_severity__q_sore_throat_skipped',\n",
       " 'med_otc_yn_0',\n",
       " 'med_otc_yn_1',\n",
       " 'med_otc_yn_2',\n",
       " 't_experience__q_pain_0',\n",
       " 't_experience__q_pain_1',\n",
       " 't_experience__q_pain_2',\n",
       " 't_experience__q_pain_3',\n",
       " 'symptom_severity__q_fatigue_0',\n",
       " 'symptom_severity__q_fatigue_1',\n",
       " 'symptom_severity__q_fatigue_2',\n",
       " 'symptom_severity__q_fatigue_3',\n",
       " 'symptom_severity__q_fatigue_skipped',\n",
       " 'med_otc_name__6_0',\n",
       " 'med_otc_name__6_1',\n",
       " 'med_otc_name__6_skipped',\n",
       " 't_recov_severity__q_recov_chills_0',\n",
       " 't_recov_severity__q_recov_chills_1',\n",
       " 't_recov_severity__q_recov_chills_2',\n",
       " 't_recov_severity__q_recov_chills_3',\n",
       " 't_recov_severity__q_recov_chills_skipped',\n",
       " 't_recov_severity__q_recov_aches_0',\n",
       " 't_recov_severity__q_recov_aches_1',\n",
       " 't_recov_severity__q_recov_aches_2',\n",
       " 't_recov_severity__q_recov_aches_3',\n",
       " 't_recov_severity__q_recov_aches_skipped',\n",
       " 't_difficulty__q_dailyact_0',\n",
       " 't_difficulty__q_dailyact_1',\n",
       " 't_difficulty__q_dailyact_2',\n",
       " 't_recov_severity__q_recov_sweats_0',\n",
       " 't_recov_severity__q_recov_sweats_1',\n",
       " 't_recov_severity__q_recov_sweats_2',\n",
       " 't_recov_severity__q_recov_sweats_3',\n",
       " 't_recov_severity__q_recov_sweats_skipped',\n",
       " 't_recov_severity__q_recov_fatigue_0',\n",
       " 't_recov_severity__q_recov_fatigue_1',\n",
       " 't_recov_severity__q_recov_fatigue_2',\n",
       " 't_recov_severity__q_recov_fatigue_3',\n",
       " 't_recov_severity__q_recov_fatigue_skipped',\n",
       " 'body_temp_loc_1',\n",
       " 'body_temp_loc_2',\n",
       " 'body_temp_loc_3',\n",
       " 'body_temp_loc_4',\n",
       " 'body_temp_loc_5',\n",
       " 'body_temp_loc_skipped',\n",
       " 't_recov_severity__q_recov_cough_0',\n",
       " 't_recov_severity__q_recov_cough_1',\n",
       " 't_recov_severity__q_recov_cough_2',\n",
       " 't_recov_severity__q_recov_cough_3',\n",
       " 't_recov_severity__q_recov_cough_skipped',\n",
       " 'recovery_48_h_1',\n",
       " 'recovery_48_h_2',\n",
       " 'recovery_48_h_3',\n",
       " 't_experience__q_gad_mdd_0',\n",
       " 't_experience__q_gad_mdd_1',\n",
       " 't_experience__q_gad_mdd_2',\n",
       " 't_experience__q_gad_mdd_3',\n",
       " 't_recov_severity__q_recov_headache_0',\n",
       " 't_recov_severity__q_recov_headache_1',\n",
       " 't_recov_severity__q_recov_headache_2',\n",
       " 't_recov_severity__q_recov_headache_3',\n",
       " 't_recov_severity__q_recov_headache_skipped',\n",
       " 'symptom_severity__q_sneezing_0',\n",
       " 'symptom_severity__q_sneezing_1',\n",
       " 'symptom_severity__q_sneezing_2',\n",
       " 'symptom_severity__q_sneezing_3',\n",
       " 'symptom_severity__q_sneezing_skipped',\n",
       " 't_recov_severity__q_recov_congestion_0',\n",
       " 't_recov_severity__q_recov_congestion_1',\n",
       " 't_recov_severity__q_recov_congestion_2',\n",
       " 't_recov_severity__q_recov_congestion_3',\n",
       " 't_recov_severity__q_recov_congestion_skipped',\n",
       " 't_difficulty__q_mobility_0',\n",
       " 't_difficulty__q_mobility_1',\n",
       " 't_difficulty__q_mobility_2',\n",
       " 'med_rx_name__7_0',\n",
       " 'med_rx_name__7_1',\n",
       " 'med_rx_name__7_skipped',\n",
       " 'symptom_severity__q_congestion_0',\n",
       " 'symptom_severity__q_congestion_1',\n",
       " 'symptom_severity__q_congestion_2',\n",
       " 'symptom_severity__q_congestion_3',\n",
       " 'symptom_severity__q_congestion_skipped',\n",
       " 't_recov_severity__q_recov_headaches_0',\n",
       " 't_recov_severity__q_recov_headaches_1',\n",
       " 't_recov_severity__q_recov_headaches_2',\n",
       " 't_recov_severity__q_recov_headaches_3',\n",
       " 't_recov_severity__q_recov_headaches_skipped',\n",
       " 'med_rx_name__2_0',\n",
       " 'med_rx_name__2_1',\n",
       " 'med_rx_name__2_skipped',\n",
       " 'med_rx_name__5_0',\n",
       " 'med_rx_name__5_1',\n",
       " 'med_rx_name__5_skipped',\n",
       " 'med_otc_name__1_0',\n",
       " 'med_otc_name__1_1',\n",
       " 'med_otc_name__1_skipped',\n",
       " 'med_otc_name__2_0',\n",
       " 'med_otc_name__2_1',\n",
       " 'med_otc_name__2_skipped',\n",
       " 'symptom_severity__chills_q_0',\n",
       " 'symptom_severity__chills_q_1',\n",
       " 'symptom_severity__chills_q_2',\n",
       " 'symptom_severity__chills_q_3',\n",
       " 'symptom_severity__chills_q_skipped',\n",
       " 'body_temp_avail_yn_0',\n",
       " 'body_temp_avail_yn_1',\n",
       " 'body_temp_avail_yn_skipped',\n",
       " 'symptom_severity__aches_q_0',\n",
       " 'symptom_severity__aches_q_1',\n",
       " 'symptom_severity__aches_q_2',\n",
       " 'symptom_severity__aches_q_3',\n",
       " 'symptom_severity__aches_q_skipped',\n",
       " 'symptom_severity__cough_q_0',\n",
       " 'symptom_severity__cough_q_1',\n",
       " 'symptom_severity__cough_q_2',\n",
       " 'symptom_severity__cough_q_3',\n",
       " 'symptom_severity__cough_q_skipped',\n",
       " 't_difficulty__q_selfcare_0',\n",
       " 't_difficulty__q_selfcare_1',\n",
       " 't_difficulty__q_selfcare_2',\n",
       " 'med_rx_name__4_0',\n",
       " 'med_rx_name__4_1',\n",
       " 'med_rx_name__4_skipped',\n",
       " 'med_rx_name__3_0',\n",
       " 'med_rx_name__3_skipped',\n",
       " 't_recov_severity__q_recov_fever_0',\n",
       " 't_recov_severity__q_recov_fever_1',\n",
       " 't_recov_severity__q_recov_fever_2',\n",
       " 't_recov_severity__q_recov_fever_3',\n",
       " 't_recov_severity__q_recov_fever_skipped',\n",
       " 'med_rx_name__6_0',\n",
       " 'med_rx_name__6_1',\n",
       " 'med_rx_name__6_skipped']"
      ]
     },
     "metadata": {},
     "execution_count": 42
    }
   ],
   "source": [
    "list(all_survey_results.columns)"
   ]
  },
  {
   "cell_type": "code",
   "execution_count": 43,
   "metadata": {},
   "outputs": [
    {
     "output_type": "execute_result",
     "data": {
      "text/plain": [
       "       occurrence               timestamp                    participant_id  \\\n",
       "17             14 2020-01-10 09:19:16.138  1a15d0eaa00af966b3e21194ac570eee   \n",
       "81              8 2020-01-14 08:26:01.356  bddf2078fe54a8b61e01813ab32ff624   \n",
       "112             9 2020-01-23 20:03:08.801  e04a2f8041e1115e810d1f87cc7620ab   \n",
       "143            21 2020-02-05 10:09:25.473  8405cb50b7c8d6c6241fc77a9b52bb44   \n",
       "144            22 2020-02-06 11:29:51.782  8405cb50b7c8d6c6241fc77a9b52bb44   \n",
       "...           ...                     ...                               ...   \n",
       "9803            3 2019-12-22 10:25:38.380  e02a9378fa90c13fe1de4b4a11e3b5ae   \n",
       "9992           70 2020-03-06 16:05:42.395  ac5df6c92ed506aa89059c3f7a98e568   \n",
       "10009          40 2020-02-05 16:02:25.873  f2f82bd51c5db2d0f69f02b8bddce4bf   \n",
       "10166          92 2020-03-19 08:32:08.667  c92191b6af6aa6718557d0a813166d9d   \n",
       "10179          14 2020-01-10 11:01:00.179  36f4404f1463e3e07d2634cff1120f9c   \n",
       "\n",
       "       have_flu  recovered_yn recovery_datetime  first_report_yn  \\\n",
       "17            1           0.0           skipped              1.0   \n",
       "81            1           0.0           skipped              0.0   \n",
       "112           1           0.0           skipped              0.0   \n",
       "143           1           0.0           skipped              1.0   \n",
       "144           1           0.0           skipped              0.0   \n",
       "...         ...           ...               ...              ...   \n",
       "9803          1           0.0           skipped              1.0   \n",
       "9992          1           0.0           skipped              0.0   \n",
       "10009         1           0.0           skipped              0.0   \n",
       "10166         1           0.0           skipped              0.0   \n",
       "10179         1           0.0           skipped              0.0   \n",
       "\n",
       "               first_sx_datetime body_temp_f  symptom_severity__fever_q_0  \\\n",
       "17     2020-01-09T20:00:00-08:00        36.9                            0   \n",
       "81                       skipped        99.9                            0   \n",
       "112                      skipped       101.8                            0   \n",
       "143    2020-02-04T09:00:00-05:00        99.1                            0   \n",
       "144                      skipped        98.7                            0   \n",
       "...                          ...         ...                          ...   \n",
       "9803   2019-12-21T12:00:00-05:00          98                            0   \n",
       "9992                     skipped        98.5                            1   \n",
       "10009                    skipped        99.6                            0   \n",
       "10166                    skipped     skipped                            0   \n",
       "10179                    skipped        96.9                            1   \n",
       "\n",
       "       ...  med_rx_name__3_0  med_rx_name__3_skipped  \\\n",
       "17     ...                 0                       1   \n",
       "81     ...                 0                       1   \n",
       "112    ...                 0                       1   \n",
       "143    ...                 0                       1   \n",
       "144    ...                 0                       1   \n",
       "...    ...               ...                     ...   \n",
       "9803   ...                 1                       0   \n",
       "9992   ...                 0                       1   \n",
       "10009  ...                 0                       1   \n",
       "10166  ...                 0                       1   \n",
       "10179  ...                 0                       1   \n",
       "\n",
       "       t_recov_severity__q_recov_fever_0  t_recov_severity__q_recov_fever_1  \\\n",
       "17                                     0                                  0   \n",
       "81                                     0                                  0   \n",
       "112                                    0                                  0   \n",
       "143                                    0                                  0   \n",
       "144                                    0                                  0   \n",
       "...                                  ...                                ...   \n",
       "9803                                   0                                  0   \n",
       "9992                                   0                                  0   \n",
       "10009                                  0                                  0   \n",
       "10166                                  0                                  0   \n",
       "10179                                  0                                  0   \n",
       "\n",
       "       t_recov_severity__q_recov_fever_2  t_recov_severity__q_recov_fever_3  \\\n",
       "17                                     0                                  0   \n",
       "81                                     0                                  0   \n",
       "112                                    0                                  0   \n",
       "143                                    0                                  0   \n",
       "144                                    0                                  0   \n",
       "...                                  ...                                ...   \n",
       "9803                                   0                                  0   \n",
       "9992                                   0                                  0   \n",
       "10009                                  0                                  0   \n",
       "10166                                  0                                  0   \n",
       "10179                                  0                                  0   \n",
       "\n",
       "       t_recov_severity__q_recov_fever_skipped  med_rx_name__6_0  \\\n",
       "17                                           1                 0   \n",
       "81                                           1                 0   \n",
       "112                                          1                 0   \n",
       "143                                          1                 0   \n",
       "144                                          1                 0   \n",
       "...                                        ...               ...   \n",
       "9803                                         1                 0   \n",
       "9992                                         1                 0   \n",
       "10009                                        1                 0   \n",
       "10166                                        1                 0   \n",
       "10179                                        1                 0   \n",
       "\n",
       "       med_rx_name__6_1  med_rx_name__6_skipped  \n",
       "17                    0                       1  \n",
       "81                    0                       1  \n",
       "112                   0                       1  \n",
       "143                   0                       1  \n",
       "144                   0                       1  \n",
       "...                 ...                     ...  \n",
       "9803                  1                       0  \n",
       "9992                  0                       1  \n",
       "10009                 0                       1  \n",
       "10166                 0                       1  \n",
       "10179                 0                       1  \n",
       "\n",
       "[262 rows x 190 columns]"
      ],
      "text/html": "<div>\n<style scoped>\n    .dataframe tbody tr th:only-of-type {\n        vertical-align: middle;\n    }\n\n    .dataframe tbody tr th {\n        vertical-align: top;\n    }\n\n    .dataframe thead th {\n        text-align: right;\n    }\n</style>\n<table border=\"1\" class=\"dataframe\">\n  <thead>\n    <tr style=\"text-align: right;\">\n      <th></th>\n      <th>occurrence</th>\n      <th>timestamp</th>\n      <th>participant_id</th>\n      <th>have_flu</th>\n      <th>recovered_yn</th>\n      <th>recovery_datetime</th>\n      <th>first_report_yn</th>\n      <th>first_sx_datetime</th>\n      <th>body_temp_f</th>\n      <th>symptom_severity__fever_q_0</th>\n      <th>...</th>\n      <th>med_rx_name__3_0</th>\n      <th>med_rx_name__3_skipped</th>\n      <th>t_recov_severity__q_recov_fever_0</th>\n      <th>t_recov_severity__q_recov_fever_1</th>\n      <th>t_recov_severity__q_recov_fever_2</th>\n      <th>t_recov_severity__q_recov_fever_3</th>\n      <th>t_recov_severity__q_recov_fever_skipped</th>\n      <th>med_rx_name__6_0</th>\n      <th>med_rx_name__6_1</th>\n      <th>med_rx_name__6_skipped</th>\n    </tr>\n  </thead>\n  <tbody>\n    <tr>\n      <th>17</th>\n      <td>14</td>\n      <td>2020-01-10 09:19:16.138</td>\n      <td>1a15d0eaa00af966b3e21194ac570eee</td>\n      <td>1</td>\n      <td>0.0</td>\n      <td>skipped</td>\n      <td>1.0</td>\n      <td>2020-01-09T20:00:00-08:00</td>\n      <td>36.9</td>\n      <td>0</td>\n      <td>...</td>\n      <td>0</td>\n      <td>1</td>\n      <td>0</td>\n      <td>0</td>\n      <td>0</td>\n      <td>0</td>\n      <td>1</td>\n      <td>0</td>\n      <td>0</td>\n      <td>1</td>\n    </tr>\n    <tr>\n      <th>81</th>\n      <td>8</td>\n      <td>2020-01-14 08:26:01.356</td>\n      <td>bddf2078fe54a8b61e01813ab32ff624</td>\n      <td>1</td>\n      <td>0.0</td>\n      <td>skipped</td>\n      <td>0.0</td>\n      <td>skipped</td>\n      <td>99.9</td>\n      <td>0</td>\n      <td>...</td>\n      <td>0</td>\n      <td>1</td>\n      <td>0</td>\n      <td>0</td>\n      <td>0</td>\n      <td>0</td>\n      <td>1</td>\n      <td>0</td>\n      <td>0</td>\n      <td>1</td>\n    </tr>\n    <tr>\n      <th>112</th>\n      <td>9</td>\n      <td>2020-01-23 20:03:08.801</td>\n      <td>e04a2f8041e1115e810d1f87cc7620ab</td>\n      <td>1</td>\n      <td>0.0</td>\n      <td>skipped</td>\n      <td>0.0</td>\n      <td>skipped</td>\n      <td>101.8</td>\n      <td>0</td>\n      <td>...</td>\n      <td>0</td>\n      <td>1</td>\n      <td>0</td>\n      <td>0</td>\n      <td>0</td>\n      <td>0</td>\n      <td>1</td>\n      <td>0</td>\n      <td>0</td>\n      <td>1</td>\n    </tr>\n    <tr>\n      <th>143</th>\n      <td>21</td>\n      <td>2020-02-05 10:09:25.473</td>\n      <td>8405cb50b7c8d6c6241fc77a9b52bb44</td>\n      <td>1</td>\n      <td>0.0</td>\n      <td>skipped</td>\n      <td>1.0</td>\n      <td>2020-02-04T09:00:00-05:00</td>\n      <td>99.1</td>\n      <td>0</td>\n      <td>...</td>\n      <td>0</td>\n      <td>1</td>\n      <td>0</td>\n      <td>0</td>\n      <td>0</td>\n      <td>0</td>\n      <td>1</td>\n      <td>0</td>\n      <td>0</td>\n      <td>1</td>\n    </tr>\n    <tr>\n      <th>144</th>\n      <td>22</td>\n      <td>2020-02-06 11:29:51.782</td>\n      <td>8405cb50b7c8d6c6241fc77a9b52bb44</td>\n      <td>1</td>\n      <td>0.0</td>\n      <td>skipped</td>\n      <td>0.0</td>\n      <td>skipped</td>\n      <td>98.7</td>\n      <td>0</td>\n      <td>...</td>\n      <td>0</td>\n      <td>1</td>\n      <td>0</td>\n      <td>0</td>\n      <td>0</td>\n      <td>0</td>\n      <td>1</td>\n      <td>0</td>\n      <td>0</td>\n      <td>1</td>\n    </tr>\n    <tr>\n      <th>...</th>\n      <td>...</td>\n      <td>...</td>\n      <td>...</td>\n      <td>...</td>\n      <td>...</td>\n      <td>...</td>\n      <td>...</td>\n      <td>...</td>\n      <td>...</td>\n      <td>...</td>\n      <td>...</td>\n      <td>...</td>\n      <td>...</td>\n      <td>...</td>\n      <td>...</td>\n      <td>...</td>\n      <td>...</td>\n      <td>...</td>\n      <td>...</td>\n      <td>...</td>\n      <td>...</td>\n    </tr>\n    <tr>\n      <th>9803</th>\n      <td>3</td>\n      <td>2019-12-22 10:25:38.380</td>\n      <td>e02a9378fa90c13fe1de4b4a11e3b5ae</td>\n      <td>1</td>\n      <td>0.0</td>\n      <td>skipped</td>\n      <td>1.0</td>\n      <td>2019-12-21T12:00:00-05:00</td>\n      <td>98</td>\n      <td>0</td>\n      <td>...</td>\n      <td>1</td>\n      <td>0</td>\n      <td>0</td>\n      <td>0</td>\n      <td>0</td>\n      <td>0</td>\n      <td>1</td>\n      <td>0</td>\n      <td>1</td>\n      <td>0</td>\n    </tr>\n    <tr>\n      <th>9992</th>\n      <td>70</td>\n      <td>2020-03-06 16:05:42.395</td>\n      <td>ac5df6c92ed506aa89059c3f7a98e568</td>\n      <td>1</td>\n      <td>0.0</td>\n      <td>skipped</td>\n      <td>0.0</td>\n      <td>skipped</td>\n      <td>98.5</td>\n      <td>1</td>\n      <td>...</td>\n      <td>0</td>\n      <td>1</td>\n      <td>0</td>\n      <td>0</td>\n      <td>0</td>\n      <td>0</td>\n      <td>1</td>\n      <td>0</td>\n      <td>0</td>\n      <td>1</td>\n    </tr>\n    <tr>\n      <th>10009</th>\n      <td>40</td>\n      <td>2020-02-05 16:02:25.873</td>\n      <td>f2f82bd51c5db2d0f69f02b8bddce4bf</td>\n      <td>1</td>\n      <td>0.0</td>\n      <td>skipped</td>\n      <td>0.0</td>\n      <td>skipped</td>\n      <td>99.6</td>\n      <td>0</td>\n      <td>...</td>\n      <td>0</td>\n      <td>1</td>\n      <td>0</td>\n      <td>0</td>\n      <td>0</td>\n      <td>0</td>\n      <td>1</td>\n      <td>0</td>\n      <td>0</td>\n      <td>1</td>\n    </tr>\n    <tr>\n      <th>10166</th>\n      <td>92</td>\n      <td>2020-03-19 08:32:08.667</td>\n      <td>c92191b6af6aa6718557d0a813166d9d</td>\n      <td>1</td>\n      <td>0.0</td>\n      <td>skipped</td>\n      <td>0.0</td>\n      <td>skipped</td>\n      <td>skipped</td>\n      <td>0</td>\n      <td>...</td>\n      <td>0</td>\n      <td>1</td>\n      <td>0</td>\n      <td>0</td>\n      <td>0</td>\n      <td>0</td>\n      <td>1</td>\n      <td>0</td>\n      <td>0</td>\n      <td>1</td>\n    </tr>\n    <tr>\n      <th>10179</th>\n      <td>14</td>\n      <td>2020-01-10 11:01:00.179</td>\n      <td>36f4404f1463e3e07d2634cff1120f9c</td>\n      <td>1</td>\n      <td>0.0</td>\n      <td>skipped</td>\n      <td>0.0</td>\n      <td>skipped</td>\n      <td>96.9</td>\n      <td>1</td>\n      <td>...</td>\n      <td>0</td>\n      <td>1</td>\n      <td>0</td>\n      <td>0</td>\n      <td>0</td>\n      <td>0</td>\n      <td>1</td>\n      <td>0</td>\n      <td>0</td>\n      <td>1</td>\n    </tr>\n  </tbody>\n</table>\n<p>262 rows × 190 columns</p>\n</div>"
     },
     "metadata": {},
     "execution_count": 43
    }
   ],
   "source": [
    "all_survey_results.query('(have_flu > 0) & (symptom_severity__aches_q_3 > 0)')"
   ]
  },
  {
   "source": [
    "all_survey_results[all_survey_results[\"participant_id\"] == \"ac5df6c92ed506aa89059c3f7a98e568\"]"
   ],
   "cell_type": "code",
   "metadata": {},
   "execution_count": 44,
   "outputs": [
    {
     "output_type": "execute_result",
     "data": {
      "text/plain": [
       "        occurrence               timestamp                    participant_id  \\\n",
       "9986            41 2020-02-06 16:28:09.395  ac5df6c92ed506aa89059c3f7a98e568   \n",
       "9987            42 2020-02-07 09:46:58.151  ac5df6c92ed506aa89059c3f7a98e568   \n",
       "9988            44 2020-02-09 11:37:42.906  ac5df6c92ed506aa89059c3f7a98e568   \n",
       "9989            45 2020-02-10 07:06:15.817  ac5df6c92ed506aa89059c3f7a98e568   \n",
       "9990            53 2020-02-18 14:11:19.612  ac5df6c92ed506aa89059c3f7a98e568   \n",
       "...            ...                     ...                               ...   \n",
       "118068          95 2020-03-31 14:37:41.243  ac5df6c92ed506aa89059c3f7a98e568   \n",
       "118069          96 2020-04-01 19:32:43.065  ac5df6c92ed506aa89059c3f7a98e568   \n",
       "118070          97 2020-04-02 07:15:39.151  ac5df6c92ed506aa89059c3f7a98e568   \n",
       "118071          98 2020-04-03 10:22:52.765  ac5df6c92ed506aa89059c3f7a98e568   \n",
       "118072          99 2020-04-04 09:03:46.920  ac5df6c92ed506aa89059c3f7a98e568   \n",
       "\n",
       "        have_flu  recovered_yn          recovery_datetime  first_report_yn  \\\n",
       "9986           1           0.0                    skipped              1.0   \n",
       "9987           1           0.0                    skipped              0.0   \n",
       "9988           1           1.0  2020-02-09T11:00:00-05:00              0.0   \n",
       "9989           1           1.0  2020-02-10T07:00:00-05:00              0.0   \n",
       "9990           1           1.0  2020-02-17T14:00:00-05:00              0.0   \n",
       "...          ...           ...                        ...              ...   \n",
       "118068         0           NaN                        NaN              NaN   \n",
       "118069         0           NaN                        NaN              NaN   \n",
       "118070         0           NaN                        NaN              NaN   \n",
       "118071         0           NaN                        NaN              NaN   \n",
       "118072         0           NaN                        NaN              NaN   \n",
       "\n",
       "                first_sx_datetime body_temp_f  symptom_severity__fever_q_0  \\\n",
       "9986    2020-02-05T21:00:00-05:00        98.4                            1   \n",
       "9987                      skipped        98.4                            1   \n",
       "9988                      skipped     skipped                            0   \n",
       "9989                      skipped     skipped                            0   \n",
       "9990                      skipped     skipped                            0   \n",
       "...                           ...         ...                          ...   \n",
       "118068                        NaN         NaN                            0   \n",
       "118069                        NaN         NaN                            0   \n",
       "118070                        NaN         NaN                            0   \n",
       "118071                        NaN         NaN                            0   \n",
       "118072                        NaN         NaN                            0   \n",
       "\n",
       "        ...  med_rx_name__3_0  med_rx_name__3_skipped  \\\n",
       "9986    ...                 0                       1   \n",
       "9987    ...                 1                       0   \n",
       "9988    ...                 0                       1   \n",
       "9989    ...                 0                       1   \n",
       "9990    ...                 0                       1   \n",
       "...     ...               ...                     ...   \n",
       "118068  ...                 0                       0   \n",
       "118069  ...                 0                       0   \n",
       "118070  ...                 0                       0   \n",
       "118071  ...                 0                       0   \n",
       "118072  ...                 0                       0   \n",
       "\n",
       "        t_recov_severity__q_recov_fever_0  t_recov_severity__q_recov_fever_1  \\\n",
       "9986                                    0                                  0   \n",
       "9987                                    0                                  0   \n",
       "9988                                    1                                  0   \n",
       "9989                                    1                                  0   \n",
       "9990                                    1                                  0   \n",
       "...                                   ...                                ...   \n",
       "118068                                  0                                  0   \n",
       "118069                                  0                                  0   \n",
       "118070                                  0                                  0   \n",
       "118071                                  0                                  0   \n",
       "118072                                  0                                  0   \n",
       "\n",
       "        t_recov_severity__q_recov_fever_2  t_recov_severity__q_recov_fever_3  \\\n",
       "9986                                    0                                  0   \n",
       "9987                                    0                                  0   \n",
       "9988                                    0                                  0   \n",
       "9989                                    0                                  0   \n",
       "9990                                    0                                  0   \n",
       "...                                   ...                                ...   \n",
       "118068                                  0                                  0   \n",
       "118069                                  0                                  0   \n",
       "118070                                  0                                  0   \n",
       "118071                                  0                                  0   \n",
       "118072                                  0                                  0   \n",
       "\n",
       "        t_recov_severity__q_recov_fever_skipped  med_rx_name__6_0  \\\n",
       "9986                                          1                 0   \n",
       "9987                                          1                 1   \n",
       "9988                                          0                 0   \n",
       "9989                                          0                 0   \n",
       "9990                                          0                 0   \n",
       "...                                         ...               ...   \n",
       "118068                                        1                 0   \n",
       "118069                                        1                 0   \n",
       "118070                                        1                 0   \n",
       "118071                                        1                 0   \n",
       "118072                                        1                 0   \n",
       "\n",
       "        med_rx_name__6_1  med_rx_name__6_skipped  \n",
       "9986                   0                       1  \n",
       "9987                   0                       0  \n",
       "9988                   0                       1  \n",
       "9989                   0                       1  \n",
       "9990                   0                       1  \n",
       "...                  ...                     ...  \n",
       "118068                 0                       0  \n",
       "118069                 0                       0  \n",
       "118070                 0                       0  \n",
       "118071                 0                       0  \n",
       "118072                 0                       0  \n",
       "\n",
       "[114 rows x 190 columns]"
      ],
      "text/html": "<div>\n<style scoped>\n    .dataframe tbody tr th:only-of-type {\n        vertical-align: middle;\n    }\n\n    .dataframe tbody tr th {\n        vertical-align: top;\n    }\n\n    .dataframe thead th {\n        text-align: right;\n    }\n</style>\n<table border=\"1\" class=\"dataframe\">\n  <thead>\n    <tr style=\"text-align: right;\">\n      <th></th>\n      <th>occurrence</th>\n      <th>timestamp</th>\n      <th>participant_id</th>\n      <th>have_flu</th>\n      <th>recovered_yn</th>\n      <th>recovery_datetime</th>\n      <th>first_report_yn</th>\n      <th>first_sx_datetime</th>\n      <th>body_temp_f</th>\n      <th>symptom_severity__fever_q_0</th>\n      <th>...</th>\n      <th>med_rx_name__3_0</th>\n      <th>med_rx_name__3_skipped</th>\n      <th>t_recov_severity__q_recov_fever_0</th>\n      <th>t_recov_severity__q_recov_fever_1</th>\n      <th>t_recov_severity__q_recov_fever_2</th>\n      <th>t_recov_severity__q_recov_fever_3</th>\n      <th>t_recov_severity__q_recov_fever_skipped</th>\n      <th>med_rx_name__6_0</th>\n      <th>med_rx_name__6_1</th>\n      <th>med_rx_name__6_skipped</th>\n    </tr>\n  </thead>\n  <tbody>\n    <tr>\n      <th>9986</th>\n      <td>41</td>\n      <td>2020-02-06 16:28:09.395</td>\n      <td>ac5df6c92ed506aa89059c3f7a98e568</td>\n      <td>1</td>\n      <td>0.0</td>\n      <td>skipped</td>\n      <td>1.0</td>\n      <td>2020-02-05T21:00:00-05:00</td>\n      <td>98.4</td>\n      <td>1</td>\n      <td>...</td>\n      <td>0</td>\n      <td>1</td>\n      <td>0</td>\n      <td>0</td>\n      <td>0</td>\n      <td>0</td>\n      <td>1</td>\n      <td>0</td>\n      <td>0</td>\n      <td>1</td>\n    </tr>\n    <tr>\n      <th>9987</th>\n      <td>42</td>\n      <td>2020-02-07 09:46:58.151</td>\n      <td>ac5df6c92ed506aa89059c3f7a98e568</td>\n      <td>1</td>\n      <td>0.0</td>\n      <td>skipped</td>\n      <td>0.0</td>\n      <td>skipped</td>\n      <td>98.4</td>\n      <td>1</td>\n      <td>...</td>\n      <td>1</td>\n      <td>0</td>\n      <td>0</td>\n      <td>0</td>\n      <td>0</td>\n      <td>0</td>\n      <td>1</td>\n      <td>1</td>\n      <td>0</td>\n      <td>0</td>\n    </tr>\n    <tr>\n      <th>9988</th>\n      <td>44</td>\n      <td>2020-02-09 11:37:42.906</td>\n      <td>ac5df6c92ed506aa89059c3f7a98e568</td>\n      <td>1</td>\n      <td>1.0</td>\n      <td>2020-02-09T11:00:00-05:00</td>\n      <td>0.0</td>\n      <td>skipped</td>\n      <td>skipped</td>\n      <td>0</td>\n      <td>...</td>\n      <td>0</td>\n      <td>1</td>\n      <td>1</td>\n      <td>0</td>\n      <td>0</td>\n      <td>0</td>\n      <td>0</td>\n      <td>0</td>\n      <td>0</td>\n      <td>1</td>\n    </tr>\n    <tr>\n      <th>9989</th>\n      <td>45</td>\n      <td>2020-02-10 07:06:15.817</td>\n      <td>ac5df6c92ed506aa89059c3f7a98e568</td>\n      <td>1</td>\n      <td>1.0</td>\n      <td>2020-02-10T07:00:00-05:00</td>\n      <td>0.0</td>\n      <td>skipped</td>\n      <td>skipped</td>\n      <td>0</td>\n      <td>...</td>\n      <td>0</td>\n      <td>1</td>\n      <td>1</td>\n      <td>0</td>\n      <td>0</td>\n      <td>0</td>\n      <td>0</td>\n      <td>0</td>\n      <td>0</td>\n      <td>1</td>\n    </tr>\n    <tr>\n      <th>9990</th>\n      <td>53</td>\n      <td>2020-02-18 14:11:19.612</td>\n      <td>ac5df6c92ed506aa89059c3f7a98e568</td>\n      <td>1</td>\n      <td>1.0</td>\n      <td>2020-02-17T14:00:00-05:00</td>\n      <td>0.0</td>\n      <td>skipped</td>\n      <td>skipped</td>\n      <td>0</td>\n      <td>...</td>\n      <td>0</td>\n      <td>1</td>\n      <td>1</td>\n      <td>0</td>\n      <td>0</td>\n      <td>0</td>\n      <td>0</td>\n      <td>0</td>\n      <td>0</td>\n      <td>1</td>\n    </tr>\n    <tr>\n      <th>...</th>\n      <td>...</td>\n      <td>...</td>\n      <td>...</td>\n      <td>...</td>\n      <td>...</td>\n      <td>...</td>\n      <td>...</td>\n      <td>...</td>\n      <td>...</td>\n      <td>...</td>\n      <td>...</td>\n      <td>...</td>\n      <td>...</td>\n      <td>...</td>\n      <td>...</td>\n      <td>...</td>\n      <td>...</td>\n      <td>...</td>\n      <td>...</td>\n      <td>...</td>\n      <td>...</td>\n    </tr>\n    <tr>\n      <th>118068</th>\n      <td>95</td>\n      <td>2020-03-31 14:37:41.243</td>\n      <td>ac5df6c92ed506aa89059c3f7a98e568</td>\n      <td>0</td>\n      <td>NaN</td>\n      <td>NaN</td>\n      <td>NaN</td>\n      <td>NaN</td>\n      <td>NaN</td>\n      <td>0</td>\n      <td>...</td>\n      <td>0</td>\n      <td>0</td>\n      <td>0</td>\n      <td>0</td>\n      <td>0</td>\n      <td>0</td>\n      <td>1</td>\n      <td>0</td>\n      <td>0</td>\n      <td>0</td>\n    </tr>\n    <tr>\n      <th>118069</th>\n      <td>96</td>\n      <td>2020-04-01 19:32:43.065</td>\n      <td>ac5df6c92ed506aa89059c3f7a98e568</td>\n      <td>0</td>\n      <td>NaN</td>\n      <td>NaN</td>\n      <td>NaN</td>\n      <td>NaN</td>\n      <td>NaN</td>\n      <td>0</td>\n      <td>...</td>\n      <td>0</td>\n      <td>0</td>\n      <td>0</td>\n      <td>0</td>\n      <td>0</td>\n      <td>0</td>\n      <td>1</td>\n      <td>0</td>\n      <td>0</td>\n      <td>0</td>\n    </tr>\n    <tr>\n      <th>118070</th>\n      <td>97</td>\n      <td>2020-04-02 07:15:39.151</td>\n      <td>ac5df6c92ed506aa89059c3f7a98e568</td>\n      <td>0</td>\n      <td>NaN</td>\n      <td>NaN</td>\n      <td>NaN</td>\n      <td>NaN</td>\n      <td>NaN</td>\n      <td>0</td>\n      <td>...</td>\n      <td>0</td>\n      <td>0</td>\n      <td>0</td>\n      <td>0</td>\n      <td>0</td>\n      <td>0</td>\n      <td>1</td>\n      <td>0</td>\n      <td>0</td>\n      <td>0</td>\n    </tr>\n    <tr>\n      <th>118071</th>\n      <td>98</td>\n      <td>2020-04-03 10:22:52.765</td>\n      <td>ac5df6c92ed506aa89059c3f7a98e568</td>\n      <td>0</td>\n      <td>NaN</td>\n      <td>NaN</td>\n      <td>NaN</td>\n      <td>NaN</td>\n      <td>NaN</td>\n      <td>0</td>\n      <td>...</td>\n      <td>0</td>\n      <td>0</td>\n      <td>0</td>\n      <td>0</td>\n      <td>0</td>\n      <td>0</td>\n      <td>1</td>\n      <td>0</td>\n      <td>0</td>\n      <td>0</td>\n    </tr>\n    <tr>\n      <th>118072</th>\n      <td>99</td>\n      <td>2020-04-04 09:03:46.920</td>\n      <td>ac5df6c92ed506aa89059c3f7a98e568</td>\n      <td>0</td>\n      <td>NaN</td>\n      <td>NaN</td>\n      <td>NaN</td>\n      <td>NaN</td>\n      <td>NaN</td>\n      <td>0</td>\n      <td>...</td>\n      <td>0</td>\n      <td>0</td>\n      <td>0</td>\n      <td>0</td>\n      <td>0</td>\n      <td>0</td>\n      <td>1</td>\n      <td>0</td>\n      <td>0</td>\n      <td>0</td>\n    </tr>\n  </tbody>\n</table>\n<p>114 rows × 190 columns</p>\n</div>"
     },
     "metadata": {},
     "execution_count": 44
    }
   ]
  },
  {
   "cell_type": "code",
   "execution_count": 45,
   "metadata": {},
   "outputs": [],
   "source": [
    "particpant_results = all_survey_results.set_index(\"participant_id\").loc[\"ac5df6c92ed506aa89059c3f7a98e568\"]"
   ]
  },
  {
   "cell_type": "code",
   "execution_count": 46,
   "metadata": {},
   "outputs": [
    {
     "output_type": "execute_result",
     "data": {
      "text/plain": [
       "participant_id\n",
       "ac5df6c92ed506aa89059c3f7a98e568     True\n",
       "ac5df6c92ed506aa89059c3f7a98e568    False\n",
       "ac5df6c92ed506aa89059c3f7a98e568    False\n",
       "ac5df6c92ed506aa89059c3f7a98e568    False\n",
       "ac5df6c92ed506aa89059c3f7a98e568    False\n",
       "                                    ...  \n",
       "ac5df6c92ed506aa89059c3f7a98e568    False\n",
       "ac5df6c92ed506aa89059c3f7a98e568    False\n",
       "ac5df6c92ed506aa89059c3f7a98e568    False\n",
       "ac5df6c92ed506aa89059c3f7a98e568    False\n",
       "ac5df6c92ed506aa89059c3f7a98e568    False\n",
       "Name: timestamp, Length: 114, dtype: bool"
      ]
     },
     "metadata": {},
     "execution_count": 46
    }
   ],
   "source": [
    "particpant_results[\"timestamp\"].dt.date == pd.to_datetime(\"2020-02-06\")"
   ]
  },
  {
   "cell_type": "code",
   "execution_count": null,
   "metadata": {},
   "outputs": [],
   "source": []
  }
 ]
}