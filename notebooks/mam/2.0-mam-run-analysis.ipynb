{
 "metadata": {
  "language_info": {
   "codemirror_mode": {
    "name": "ipython",
    "version": 3
   },
   "file_extension": ".py",
   "mimetype": "text/x-python",
   "name": "python",
   "nbconvert_exporter": "python",
   "pygments_lexer": "ipython3",
   "version": "3.7.10"
  },
  "orig_nbformat": 2,
  "kernelspec": {
   "name": "python3710jvsc74a57bd033ce0e65a16bbbfed8747cf639675d51860ec492d46ecd6a2e3c04972da19a28",
   "display_name": "Python 3.7.10 64-bit ('seattleflustudy': conda)"
  },
  "metadata": {
   "interpreter": {
    "hash": "33ce0e65a16bbbfed8747cf639675d51860ec492d46ecd6a2e3c04972da19a28"
   }
  }
 },
 "nbformat": 4,
 "nbformat_minor": 2,
 "cells": [
  {
   "cell_type": "code",
   "execution_count": 38,
   "metadata": {},
   "outputs": [],
   "source": [
    "import wandb\n",
    "import pandas as pd"
   ]
  },
  {
   "cell_type": "code",
   "execution_count": 39,
   "metadata": {},
   "outputs": [
    {
     "output_type": "error",
     "ename": "TypeError",
     "evalue": "'Api' object is not callable",
     "traceback": [
      "\u001b[0;31m---------------------------------------------------------------------------\u001b[0m",
      "\u001b[0;31mTypeError\u001b[0m                                 Traceback (most recent call last)",
      "\u001b[0;32m<ipython-input-39-4c3eaf03a5ef>\u001b[0m in \u001b[0;36m<module>\u001b[0;34m\u001b[0m\n\u001b[0;32m----> 1\u001b[0;31m \u001b[0mapi\u001b[0m \u001b[0;34m=\u001b[0m \u001b[0mwandb\u001b[0m\u001b[0;34m.\u001b[0m\u001b[0mapi\u001b[0m\u001b[0;34m(\u001b[0m\u001b[0;34m)\u001b[0m\u001b[0;34m\u001b[0m\u001b[0;34m\u001b[0m\u001b[0m\n\u001b[0m",
      "\u001b[0;31mTypeError\u001b[0m: 'Api' object is not callable"
     ]
    }
   ],
   "source": [
    "api = wandb.api()"
   ]
  },
  {
   "cell_type": "code",
   "execution_count": 86,
   "metadata": {},
   "outputs": [],
   "source": [
    "TASKS = [\"PredictFluPos\",\n",
    "        \"PredictSurveyCol-have_flu > 0\",\n",
    "        \"EarlyDetection\",\n",
    "        \"PredictTrigger\",\n",
    "        \"PredictSurveyCol-(symptom_severity__q_fatigue_2 > 0) | (symptom_severity__q_fatigue_3 > 0)\"]\n",
    "\n",
    "MODELS = [\n",
    "    \"CNNToTransformerEncoder\",\n",
    "    \"XGBoost\"\n",
    "]"
   ]
  },
  {
   "cell_type": "code",
   "execution_count": 87,
   "metadata": {},
   "outputs": [],
   "source": [
    "# Change oreilly-class/cifar to <entity/project-name>\n",
    "runs = api.runs(\"mikeamerrill/flu\")\n",
    "summary_list = [] \n",
    "config_list = [] \n",
    "name_list = [] \n",
    "for run in runs: \n",
    "    # run.summary are the output key/values like accuracy.  We call ._json_dict to omit large files \n",
    "    summary_list.append(run.summary._json_dict) \n",
    "\n",
    "    # run.config is the input metrics.  We remove special values that start with _.\n",
    "    config_list.append({k:v for k,v in run.config.items() if not k.startswith('_')}) \n",
    "\n",
    "    # run.name is the name of the run.\n",
    "    name_list.append(run.name)       \n",
    "\n",
    "summary_df = pd.DataFrame.from_records(summary_list) \n",
    "config_df = pd.DataFrame.from_records(config_list) \n",
    "\n",
    "summary_df[\"task\"] = summary_df[\"task\"].fillna(config_df[\"task\"])\n",
    "summary_df[\"eval/roc_auc\"] = summary_df[\"eval/roc_auc\"].fillna(summary_df[\"eval-auc\"])\n",
    "\n",
    "del config_df[\"task\"]\n",
    "\n",
    "name_df = pd.DataFrame({'name': name_list}) \n",
    "all_df = pd.concat([name_df, config_df,summary_df], axis=1)"
   ]
  },
  {
   "cell_type": "code",
   "execution_count": 88,
   "metadata": {},
   "outputs": [],
   "source": [
    "results = all_df[all_df[\"model\"].isin(MODELS) & all_df[\"task\"].isin(TASKS)]"
   ]
  },
  {
   "cell_type": "code",
   "execution_count": 89,
   "metadata": {},
   "outputs": [
    {
     "output_type": "execute_result",
     "data": {
      "text/plain": [
       "task                                                                                        model                  \n",
       "EarlyDetection                                                                              CNNToTransformerEncoder    0.577686\n",
       "                                                                                            XGBoost                    0.784357\n",
       "PredictFluPos                                                                               CNNToTransformerEncoder    0.948252\n",
       "                                                                                            XGBoost                    0.744008\n",
       "PredictSurveyCol-(symptom_severity__q_fatigue_2 > 0) | (symptom_severity__q_fatigue_3 > 0)  CNNToTransformerEncoder    0.674691\n",
       "                                                                                            XGBoost                    0.717857\n",
       "PredictSurveyCol-have_flu > 0                                                               CNNToTransformerEncoder    0.752433\n",
       "                                                                                            XGBoost                    0.651299\n",
       "PredictTrigger                                                                              CNNToTransformerEncoder    0.684029\n",
       "                                                                                            XGBoost                         NaN\n",
       "Name: eval/roc_auc, dtype: float64"
      ]
     },
     "metadata": {},
     "execution_count": 89
    }
   ],
   "source": [
    "results.groupby([\"task\",\"model\"])[\"eval/roc_auc\"].max()"
   ]
  },
  {
   "cell_type": "code",
   "execution_count": 82,
   "metadata": {},
   "outputs": [
    {
     "output_type": "execute_result",
     "data": {
      "text/plain": [
       "166   NaN\n",
       "Name: eval/roc_auc, dtype: float64"
      ]
     },
     "metadata": {},
     "execution_count": 82
    }
   ],
   "source": [
    "all_df[(all_df[\"name\"].str.contains(\"282\"))][\"eval/roc_auc\"]"
   ]
  },
  {
   "cell_type": "code",
   "execution_count": 72,
   "metadata": {},
   "outputs": [
    {
     "output_type": "execute_result",
     "data": {
      "text/plain": [
       "0          flowing-fog-477\n",
       "1       feasible-disco-476\n",
       "2        glowing-brook-475\n",
       "3      hardy-resonance-474\n",
       "4         woven-dragon-473\n",
       "              ...         \n",
       "412        radiant-water-6\n",
       "413           rural-fire-5\n",
       "414         blooming-fog-4\n",
       "415         scarlet-tree-3\n",
       "416       polished-disco-1\n",
       "Name: name, Length: 417, dtype: object"
      ]
     },
     "metadata": {},
     "execution_count": 72
    }
   ],
   "source": [
    "all_df[\"name\"]"
   ]
  },
  {
   "cell_type": "code",
   "execution_count": null,
   "metadata": {},
   "outputs": [],
   "source": []
  }
 ]
}