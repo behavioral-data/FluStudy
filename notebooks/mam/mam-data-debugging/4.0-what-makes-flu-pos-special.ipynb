{
 "cells": [
  {
   "cell_type": "markdown",
   "metadata": {},
   "source": [
    "Why is performance consistently so much better on the flu positivity task with the CNN Transformer?"
   ]
  },
  {
   "cell_type": "code",
   "execution_count": 14,
   "metadata": {},
   "outputs": [],
   "source": [
    "from src.models.lablers import ClauseLabler, FluPosLabler\n",
    "from src.data.utils import load_processed_table\n",
    "import pandas as pd\n",
    "from src.data.make_petastorm_dataset import spark_timezone\n",
    "from matplotlib import pyplot as plt\n",
    "import numpy as np"
   ]
  },
  {
   "cell_type": "code",
   "execution_count": 2,
   "metadata": {},
   "outputs": [
    {
     "name": "stderr",
     "output_type": "stream",
     "text": [
      "WARNING: An illegal reflective access operation has occurred\n",
      "WARNING: Illegal reflective access by org.apache.spark.unsafe.Platform (file:/homes/gws/mikeam/miniconda3/envs/seattleflustudy/lib/python3.9/site-packages/pyspark/jars/spark-unsafe_2.12-3.1.2.jar) to constructor java.nio.DirectByteBuffer(long,int)\n",
      "WARNING: Please consider reporting this to the maintainers of org.apache.spark.unsafe.Platform\n",
      "WARNING: Use --illegal-access=warn to enable warnings of further illegal reflective access operations\n",
      "WARNING: All illegal access operations will be denied in a future release\n",
      "22/01/11 11:55:18 WARN NativeCodeLoader: Unable to load native-hadoop library for your platform... using builtin-java classes where applicable\n",
      "Using Spark's default log4j profile: org/apache/spark/log4j-defaults.properties\n",
      "Setting default log level to \"WARN\".\n",
      "To adjust logging level use sc.setLogLevel(newLevel). For SparkR, use setLogLevel(newLevel).\n"
     ]
    }
   ],
   "source": [
    "from pyspark.sql import SparkSession\n",
    "from pyspark.conf import SparkConf\n",
    "\n",
    "import pyspark.sql.types as sql_types\n",
    "from pyspark.sql import functions as f\n",
    "from pyspark.sql.functions import col\n",
    "\n",
    "from pyspark.sql.window import Window\n",
    "from pyspark.ml import Pipeline\n",
    "from pyspark.ml.feature import StandardScaler, VectorAssembler\n",
    "from pyspark import SparkContext\n",
    "\n",
    "SPARK_CONFIG = [ \n",
    "    (\"spark.master\",\"local[32]\"),\n",
    "    (\"spark.ui.port\",\"4050\"),\n",
    "    (\"spark.executor.memory\",\"16g\"),\n",
    "    ('spark.driver.memory',  '64g'),\n",
    "    (\"spark.driver.maxResultSize\", '0'), # unlimited\n",
    "    (\"spark.network.timeout\",            \"10000001\"),\n",
    "    (\"spark.executor.heartbeatInterval\", \"10000000\")]   \n",
    "\n",
    "conf = SparkConf().setAll(SPARK_CONFIG)\n",
    "sc = SparkContext(conf=conf, appName=\"PetaStorm Conversion\")\n",
    "spark = SparkSession(sc)"
   ]
  },
  {
   "cell_type": "code",
   "execution_count": 3,
   "metadata": {},
   "outputs": [
    {
     "name": "stdout",
     "output_type": "stream",
     "text": [
      "root\n",
      " |-- participant_id: string (nullable = true)\n",
      " |-- start: timestamp (nullable = true)\n",
      " |-- end: date (nullable = true)\n",
      " |-- steps: array (nullable = true)\n",
      " |    |-- element: double (containsNull = true)\n",
      " |-- heart_rate: array (nullable = true)\n",
      " |    |-- element: double (containsNull = true)\n",
      " |-- missing_heart_rate: array (nullable = true)\n",
      " |    |-- element: boolean (containsNull = true)\n",
      " |-- missing_steps: array (nullable = true)\n",
      " |    |-- element: boolean (containsNull = true)\n",
      " |-- sleep_classic_0: array (nullable = true)\n",
      " |    |-- element: boolean (containsNull = true)\n",
      " |-- sleep_classic_1: array (nullable = true)\n",
      " |    |-- element: boolean (containsNull = true)\n",
      " |-- sleep_classic_2: array (nullable = true)\n",
      " |    |-- element: boolean (containsNull = true)\n",
      " |-- sleep_classic_3: array (nullable = true)\n",
      " |    |-- element: boolean (containsNull = true)\n",
      " |-- id: long (nullable = true)\n",
      "\n"
     ]
    }
   ],
   "source": [
    "PROCESSED_DATA_LOCATION = \"/projects/bdata/datasets/gatesfoundation/processed/split/audere_split_2020_02_10_to_2020_04_01/train_7_day_no_scale/\"\n",
    "with spark_timezone(\"UTC\"):    \n",
    "    processed_df = spark.read.parquet(PROCESSED_DATA_LOCATION)\n",
    "processed_df = processed_df.withColumn(\"end\",f.to_date(\"end\"))\n",
    "processed_df.printSchema()"
   ]
  },
  {
   "cell_type": "code",
   "execution_count": 4,
   "metadata": {},
   "outputs": [
    {
     "name": "stderr",
     "output_type": "stream",
     "text": [
      "[Stage 1:>                                                          (0 + 1) / 1]\r"
     ]
    },
    {
     "name": "stdout",
     "output_type": "stream",
     "text": [
      "+--------------------+-------------------+----------+--------------------+--------------------+--------------------+--------------------+--------------------+--------------------+--------------------+--------------------+-------------+\n",
      "|      participant_id|              start|       end|               steps|          heart_rate|  missing_heart_rate|       missing_steps|     sleep_classic_0|     sleep_classic_1|     sleep_classic_2|     sleep_classic_3|           id|\n",
      "+--------------------+-------------------+----------+--------------------+--------------------+--------------------+--------------------+--------------------+--------------------+--------------------+--------------------+-------------+\n",
      "|00eb8af34b6eebbf2...|2020-01-20 16:00:00|2020-01-27|[0.0, 0.0, 0.0, 0...|[87.0, 86.0, 86.0...|[false, false, fa...|[false, false, fa...|[true, true, true...|[false, false, fa...|[false, false, fa...|[false, false, fa...|1537598291968|\n",
      "|01395c5b99a052c1c...|2020-01-12 16:00:00|2020-01-19|[9.0, 112.0, 119....|[71.0, 87.0, 111....|[false, false, fa...|[false, false, fa...|[true, true, true...|[false, false, fa...|[false, false, fa...|[false, false, fa...|1537598291969|\n",
      "|014b9d20a22eeaabe...|2020-01-10 16:00:00|2020-01-17|[0.0, 0.0, 0.0, 0...|[0.0, 0.0, 0.0, 0...|[true, true, true...|[false, false, fa...|[true, true, true...|[false, false, fa...|[false, false, fa...|[false, false, fa...|1537598291970|\n",
      "|014ffe07c2435abac...|2020-01-19 16:00:00|2020-01-26|[0.0, 0.0, 0.0, 0...|[62.0, 62.0, 61.0...|[false, false, fa...|[false, false, fa...|[false, false, fa...|[true, true, true...|[false, false, fa...|[false, false, fa...|1537598291971|\n",
      "|01613ca069bbbf2c7...|2020-01-24 16:00:00|2020-01-31|[0.0, 0.0, 0.0, 0...|[62.0, 63.0, 64.0...|[false, false, fa...|[false, false, fa...|[false, false, fa...|[true, true, true...|[false, false, fa...|[false, false, fa...|1537598291972|\n",
      "|01c5a05276d5f4c67...|2020-01-31 16:00:00|2020-02-07|[0.0, 0.0, 0.0, 0...|[82.0, 81.0, 79.0...|[false, false, fa...|[false, false, fa...|[true, true, true...|[false, false, fa...|[false, false, fa...|[false, false, fa...|1537598291973|\n",
      "|0223394181fc5f8e8...|2020-01-25 16:00:00|2020-02-01|[0.0, 0.0, 0.0, 0...|[74.0, 74.0, 75.0...|[false, false, fa...|[false, false, fa...|[false, false, fa...|[true, true, true...|[false, false, fa...|[false, false, fa...|1537598291974|\n",
      "|02342e0c44b5b4d41...|2020-01-23 16:00:00|2020-01-30|[0.0, 0.0, 0.0, 0...|[59.0, 59.0, 59.0...|[false, false, fa...|[false, false, fa...|[false, false, fa...|[true, true, true...|[false, false, fa...|[false, false, fa...|1537598291975|\n",
      "|023a777eaf9f39b3a...|2020-01-20 16:00:00|2020-01-27|[0.0, 0.0, 0.0, 0...|[0.0, 0.0, 0.0, 0...|[true, true, true...|[false, false, fa...|[true, true, true...|[false, false, fa...|[false, false, fa...|[false, false, fa...|1537598291976|\n",
      "|0242f09ca4fb44908...|2020-01-09 16:00:00|2020-01-16|[0.0, 0.0, 0.0, 0...|[62.0, 64.0, 66.0...|[false, false, fa...|[false, false, fa...|[true, true, true...|[false, false, fa...|[false, false, fa...|[false, false, fa...|1537598291977|\n",
      "|025a4b49d30d147cb...|2020-01-01 16:00:00|2020-01-08|[0.0, 0.0, 0.0, 0...|[66.0, 66.0, 67.0...|[false, false, fa...|[false, false, fa...|[true, true, true...|[false, false, fa...|[false, false, fa...|[false, false, fa...|1537598291978|\n",
      "|02679a8e3060aea68...|2020-01-31 16:00:00|2020-02-07|[0.0, 0.0, 0.0, 0...|[88.0, 86.0, 88.0...|[false, false, fa...|[false, false, fa...|[false, false, fa...|[true, true, true...|[false, false, fa...|[false, false, fa...|1537598291979|\n",
      "|02e9d2ebff551cb18...|2020-01-12 16:00:00|2020-01-19|[0.0, 0.0, 0.0, 0...|[85.0, 84.0, 87.0...|[false, false, fa...|[false, false, fa...|[false, false, fa...|[true, true, true...|[false, false, fa...|[false, false, fa...|1537598291980|\n",
      "|0311fa455057986b6...|2020-01-27 16:00:00|2020-02-03|[0.0, 0.0, 0.0, 0...|[70.0, 65.0, 67.0...|[false, false, fa...|[false, false, fa...|[true, true, true...|[false, false, fa...|[false, false, fa...|[false, false, fa...|1537598291981|\n",
      "|032c564bfaebe4a2a...|2020-01-17 16:00:00|2020-01-24|[0.0, 0.0, 0.0, 0...|[80.0, 81.0, 80.0...|[false, false, fa...|[false, false, fa...|[false, false, fa...|[true, true, true...|[false, false, fa...|[false, false, fa...|1537598291982|\n",
      "|03eae1294025c5f58...|2020-01-17 16:00:00|2020-01-24|[0.0, 0.0, 0.0, 0...|[52.0, 53.0, 51.0...|[false, false, fa...|[false, false, fa...|[false, false, fa...|[true, true, true...|[false, false, fa...|[false, false, fa...|1537598291983|\n",
      "|061e242efb69df898...|2020-01-23 16:00:00|2020-01-30|[0.0, 0.0, 0.0, 0...|[73.0, 76.0, 80.0...|[false, false, fa...|[false, false, fa...|[false, false, fa...|[true, true, true...|[false, false, fa...|[false, false, fa...|1537598291984|\n",
      "|07898d2e3e9588dd6...|2020-01-28 16:00:00|2020-02-04|[0.0, 0.0, 0.0, 0...|[55.0, 58.0, 57.0...|[false, false, fa...|[false, false, fa...|[false, false, fa...|[true, true, true...|[false, false, fa...|[false, false, fa...|1537598291985|\n",
      "|07d27d8f0dc16252d...|2020-01-07 16:00:00|2020-01-14|[0.0, 0.0, 0.0, 0...|[72.0, 72.0, 74.0...|[false, false, fa...|[false, false, fa...|[false, false, fa...|[true, true, true...|[false, false, fa...|[false, false, fa...|1537598291986|\n",
      "|07e9c92a98dda8a31...|2020-01-16 16:00:00|2020-01-23|[0.0, 0.0, 0.0, 0...|[68.0, 68.0, 68.0...|[false, false, fa...|[false, false, fa...|[false, false, fa...|[true, true, true...|[false, false, fa...|[false, false, fa...|1537598291987|\n",
      "+--------------------+-------------------+----------+--------------------+--------------------+--------------------+--------------------+--------------------+--------------------+--------------------+--------------------+-------------+\n",
      "only showing top 20 rows\n",
      "\n"
     ]
    },
    {
     "name": "stderr",
     "output_type": "stream",
     "text": [
      "                                                                                \r"
     ]
    }
   ],
   "source": [
    "processed_df.show()"
   ]
  },
  {
   "cell_type": "code",
   "execution_count": 5,
   "metadata": {},
   "outputs": [
    {
     "name": "stderr",
     "output_type": "stream",
     "text": [
      "01/11/2022 11:55:24 - INFO - src.data.utils -   Reading lab_results_with_triggerdate...\n",
      "/homes/gws/mikeam/seattleflustudy/src/models/lablers.py:25: SettingWithCopyWarning: \n",
      "A value is trying to be set on a copy of a slice from a DataFrame.\n",
      "Try using .loc[row_indexer,col_indexer] = value instead\n",
      "\n",
      "See the caveats in the documentation: https://pandas.pydata.org/pandas-docs/stable/user_guide/indexing.html#returning-a-view-versus-a-copy\n",
      "  self.results[\"_date\"] = self.results[\"_date\"].map(mapper)\n",
      "/homes/gws/mikeam/miniconda3/envs/seattleflustudy/lib/python3.9/site-packages/IPython/core/interactiveshell.py:3457: DtypeWarning: Columns (5,7,8) have mixed types.Specify dtype option on import or set low_memory=False.\n",
      "  exec(code_obj, self.user_global_ns, self.user_ns)\n",
      "01/11/2022 11:55:31 - INFO - src.data.utils -   Reading daily_surveys_onehot...\n"
     ]
    }
   ],
   "source": [
    "def get_true_df(labeler,true_col_name=\"is_true\"):\n",
    "    keys = labeler.get_positive_keys()\n",
    "    \n",
    "    return pd.DataFrame([list(x) + [True] for x in keys],\n",
    "                        columns=[\"participant_id\",\"end\",true_col_name])\n",
    "\n",
    "\n",
    "flu_labler = FluPosLabler()\n",
    "flu_pos_dates = spark.createDataFrame(get_true_df(flu_labler,\"flu_pos\"))\n",
    "\n",
    "\n",
    "survey_responses = load_processed_table(\"daily_surveys_onehot\").set_index(\"participant_id\")\n",
    "mobility_labler = ClauseLabler(survey_responses,\"t_difficulty__q_mobility_2 > 0\")\n",
    "mobility_difficulty_dates = spark.createDataFrame(get_true_df(mobility_labler,\"mobility_difficulty\"))"
   ]
  },
  {
   "cell_type": "code",
   "execution_count": 6,
   "metadata": {},
   "outputs": [],
   "source": [
    "labled_df = processed_df.join(flu_pos_dates,[\"participant_id\",\"end\"],\"left\")\n",
    "labled_df = labled_df.join(mobility_difficulty_dates,[\"participant_id\",\"end\"],\"left\")\n",
    "labled_df = labled_df.withColumn('group',f.when(labled_df.flu_pos,\"flu_pos\")\\\n",
    "                                          .otherwise(f.when(labled_df.mobility_difficulty,\"mobility_difficulty\")\\\n",
    "                                                      .otherwise(\"None\")))"
   ]
  },
  {
   "cell_type": "code",
   "execution_count": 7,
   "metadata": {},
   "outputs": [
    {
     "name": "stdout",
     "output_type": "stream",
     "text": [
      "+--------------------+-------------------+----------+--------------------+--------------------+--------------------+--------------------+--------------------+--------------------+--------------------+--------------------+-------------+\n",
      "|      participant_id|              start|       end|               steps|          heart_rate|  missing_heart_rate|       missing_steps|     sleep_classic_0|     sleep_classic_1|     sleep_classic_2|     sleep_classic_3|           id|\n",
      "+--------------------+-------------------+----------+--------------------+--------------------+--------------------+--------------------+--------------------+--------------------+--------------------+--------------------+-------------+\n",
      "|00eb8af34b6eebbf2...|2020-01-20 16:00:00|2020-01-27|[0.0, 0.0, 0.0, 0...|[87.0, 86.0, 86.0...|[false, false, fa...|[false, false, fa...|[true, true, true...|[false, false, fa...|[false, false, fa...|[false, false, fa...|1537598291968|\n",
      "|01395c5b99a052c1c...|2020-01-12 16:00:00|2020-01-19|[9.0, 112.0, 119....|[71.0, 87.0, 111....|[false, false, fa...|[false, false, fa...|[true, true, true...|[false, false, fa...|[false, false, fa...|[false, false, fa...|1537598291969|\n",
      "|014b9d20a22eeaabe...|2020-01-10 16:00:00|2020-01-17|[0.0, 0.0, 0.0, 0...|[0.0, 0.0, 0.0, 0...|[true, true, true...|[false, false, fa...|[true, true, true...|[false, false, fa...|[false, false, fa...|[false, false, fa...|1537598291970|\n",
      "|014ffe07c2435abac...|2020-01-19 16:00:00|2020-01-26|[0.0, 0.0, 0.0, 0...|[62.0, 62.0, 61.0...|[false, false, fa...|[false, false, fa...|[false, false, fa...|[true, true, true...|[false, false, fa...|[false, false, fa...|1537598291971|\n",
      "|01613ca069bbbf2c7...|2020-01-24 16:00:00|2020-01-31|[0.0, 0.0, 0.0, 0...|[62.0, 63.0, 64.0...|[false, false, fa...|[false, false, fa...|[false, false, fa...|[true, true, true...|[false, false, fa...|[false, false, fa...|1537598291972|\n",
      "|01c5a05276d5f4c67...|2020-01-31 16:00:00|2020-02-07|[0.0, 0.0, 0.0, 0...|[82.0, 81.0, 79.0...|[false, false, fa...|[false, false, fa...|[true, true, true...|[false, false, fa...|[false, false, fa...|[false, false, fa...|1537598291973|\n",
      "|0223394181fc5f8e8...|2020-01-25 16:00:00|2020-02-01|[0.0, 0.0, 0.0, 0...|[74.0, 74.0, 75.0...|[false, false, fa...|[false, false, fa...|[false, false, fa...|[true, true, true...|[false, false, fa...|[false, false, fa...|1537598291974|\n",
      "|02342e0c44b5b4d41...|2020-01-23 16:00:00|2020-01-30|[0.0, 0.0, 0.0, 0...|[59.0, 59.0, 59.0...|[false, false, fa...|[false, false, fa...|[false, false, fa...|[true, true, true...|[false, false, fa...|[false, false, fa...|1537598291975|\n",
      "|023a777eaf9f39b3a...|2020-01-20 16:00:00|2020-01-27|[0.0, 0.0, 0.0, 0...|[0.0, 0.0, 0.0, 0...|[true, true, true...|[false, false, fa...|[true, true, true...|[false, false, fa...|[false, false, fa...|[false, false, fa...|1537598291976|\n",
      "|0242f09ca4fb44908...|2020-01-09 16:00:00|2020-01-16|[0.0, 0.0, 0.0, 0...|[62.0, 64.0, 66.0...|[false, false, fa...|[false, false, fa...|[true, true, true...|[false, false, fa...|[false, false, fa...|[false, false, fa...|1537598291977|\n",
      "|025a4b49d30d147cb...|2020-01-01 16:00:00|2020-01-08|[0.0, 0.0, 0.0, 0...|[66.0, 66.0, 67.0...|[false, false, fa...|[false, false, fa...|[true, true, true...|[false, false, fa...|[false, false, fa...|[false, false, fa...|1537598291978|\n",
      "|02679a8e3060aea68...|2020-01-31 16:00:00|2020-02-07|[0.0, 0.0, 0.0, 0...|[88.0, 86.0, 88.0...|[false, false, fa...|[false, false, fa...|[false, false, fa...|[true, true, true...|[false, false, fa...|[false, false, fa...|1537598291979|\n",
      "|02e9d2ebff551cb18...|2020-01-12 16:00:00|2020-01-19|[0.0, 0.0, 0.0, 0...|[85.0, 84.0, 87.0...|[false, false, fa...|[false, false, fa...|[false, false, fa...|[true, true, true...|[false, false, fa...|[false, false, fa...|1537598291980|\n",
      "|0311fa455057986b6...|2020-01-27 16:00:00|2020-02-03|[0.0, 0.0, 0.0, 0...|[70.0, 65.0, 67.0...|[false, false, fa...|[false, false, fa...|[true, true, true...|[false, false, fa...|[false, false, fa...|[false, false, fa...|1537598291981|\n",
      "|032c564bfaebe4a2a...|2020-01-17 16:00:00|2020-01-24|[0.0, 0.0, 0.0, 0...|[80.0, 81.0, 80.0...|[false, false, fa...|[false, false, fa...|[false, false, fa...|[true, true, true...|[false, false, fa...|[false, false, fa...|1537598291982|\n",
      "|03eae1294025c5f58...|2020-01-17 16:00:00|2020-01-24|[0.0, 0.0, 0.0, 0...|[52.0, 53.0, 51.0...|[false, false, fa...|[false, false, fa...|[false, false, fa...|[true, true, true...|[false, false, fa...|[false, false, fa...|1537598291983|\n",
      "|061e242efb69df898...|2020-01-23 16:00:00|2020-01-30|[0.0, 0.0, 0.0, 0...|[73.0, 76.0, 80.0...|[false, false, fa...|[false, false, fa...|[false, false, fa...|[true, true, true...|[false, false, fa...|[false, false, fa...|1537598291984|\n",
      "|07898d2e3e9588dd6...|2020-01-28 16:00:00|2020-02-04|[0.0, 0.0, 0.0, 0...|[55.0, 58.0, 57.0...|[false, false, fa...|[false, false, fa...|[false, false, fa...|[true, true, true...|[false, false, fa...|[false, false, fa...|1537598291985|\n",
      "|07d27d8f0dc16252d...|2020-01-07 16:00:00|2020-01-14|[0.0, 0.0, 0.0, 0...|[72.0, 72.0, 74.0...|[false, false, fa...|[false, false, fa...|[false, false, fa...|[true, true, true...|[false, false, fa...|[false, false, fa...|1537598291986|\n",
      "|07e9c92a98dda8a31...|2020-01-16 16:00:00|2020-01-23|[0.0, 0.0, 0.0, 0...|[68.0, 68.0, 68.0...|[false, false, fa...|[false, false, fa...|[false, false, fa...|[true, true, true...|[false, false, fa...|[false, false, fa...|1537598291987|\n",
      "+--------------------+-------------------+----------+--------------------+--------------------+--------------------+--------------------+--------------------+--------------------+--------------------+--------------------+-------------+\n",
      "only showing top 20 rows\n",
      "\n"
     ]
    }
   ],
   "source": [
    "processed_df.show()"
   ]
  },
  {
   "cell_type": "code",
   "execution_count": 8,
   "metadata": {},
   "outputs": [
    {
     "name": "stderr",
     "output_type": "stream",
     "text": [
      "22/01/11 11:56:19 WARN package: Truncated the string representation of a plan since it was too large. This behavior can be adjusted by setting 'spark.sql.debug.maxToStringFields'.\n",
      "22/01/11 11:56:27 WARN DAGScheduler: Broadcasting large task binary with size 2.6 MiB\n",
      "22/01/11 11:59:21 WARN DAGScheduler: Broadcasting large task binary with size 4.2 MiB\n",
      "[Stage 11:>                                                         (0 + 1) / 1]\r"
     ]
    },
    {
     "name": "stdout",
     "output_type": "stream",
     "text": [
      "+--------------------+\n",
      "|                 sum|\n",
      "+--------------------+\n",
      "|[1.0499436E7, 1.0...|\n",
      "+--------------------+\n",
      "\n"
     ]
    },
    {
     "name": "stderr",
     "output_type": "stream",
     "text": [
      "                                                                                \r"
     ]
    }
   ],
   "source": [
    "n = len(labled_df.select('heart_rate').first()[0])\n",
    "bla = labled_df.agg(f.array(*[f.sum(f.col(\"heart_rate\")[i]) for i in range(n)]).alias(\"sum\"))\n",
    "bla.show()"
   ]
  },
  {
   "cell_type": "code",
   "execution_count": 11,
   "metadata": {},
   "outputs": [
    {
     "name": "stderr",
     "output_type": "stream",
     "text": [
      "                                                                                \r"
     ]
    }
   ],
   "source": [
    "from pyspark.ml.stat import Summarizer\n",
    "from pyspark.ml.linalg import Vectors, VectorUDT\n",
    "to_vector = f.udf(lambda vs: Vectors.dense(vs), VectorUDT())\n",
    "cols = [\"heart_rate\",\"steps\"]\n",
    "vec_df = labled_df.withColumn(\"hr_vec\",to_vector(labled_df[\"heart_rate\"]))\n",
    "vec_df = vec_df.withColumn(\"steps_vec\",to_vector(labled_df[\"steps\"]))\n",
    "\n",
    "group_means = vec_df.groupby(\"group\").agg(Summarizer.mean(vec_df.hr_vec),\n",
    "                            Summarizer.mean(vec_df.steps_vec)).toPandas()"
   ]
  },
  {
   "cell_type": "code",
   "execution_count": 20,
   "metadata": {},
   "outputs": [
    {
     "data": {
      "text/html": [
       "<div>\n",
       "<style scoped>\n",
       "    .dataframe tbody tr th:only-of-type {\n",
       "        vertical-align: middle;\n",
       "    }\n",
       "\n",
       "    .dataframe tbody tr th {\n",
       "        vertical-align: top;\n",
       "    }\n",
       "\n",
       "    .dataframe thead th {\n",
       "        text-align: right;\n",
       "    }\n",
       "</style>\n",
       "<table border=\"1\" class=\"dataframe\">\n",
       "  <thead>\n",
       "    <tr style=\"text-align: right;\">\n",
       "      <th></th>\n",
       "      <th>mean(hr_vec)</th>\n",
       "      <th>mean(steps_vec)</th>\n",
       "    </tr>\n",
       "    <tr>\n",
       "      <th>group</th>\n",
       "      <th></th>\n",
       "      <th></th>\n",
       "    </tr>\n",
       "  </thead>\n",
       "  <tbody>\n",
       "    <tr>\n",
       "      <th>None</th>\n",
       "      <td>[66.96425454918769, 66.89441264789677, 66.9019...</td>\n",
       "      <td>[1.33342530092652, 1.375567846418397, 1.358423...</td>\n",
       "    </tr>\n",
       "    <tr>\n",
       "      <th>mobility_difficulty</th>\n",
       "      <td>[70.63793103448282, 70.20197044334972, 69.7426...</td>\n",
       "      <td>[1.2216748768472905, 1.3719211822660098, 1.311...</td>\n",
       "    </tr>\n",
       "    <tr>\n",
       "      <th>flu_pos</th>\n",
       "      <td>[67.04819277108437, 67.26506024096388, 66.9156...</td>\n",
       "      <td>[0.7951807228915663, 0.9036144578313253, 0.771...</td>\n",
       "    </tr>\n",
       "  </tbody>\n",
       "</table>\n",
       "</div>"
      ],
      "text/plain": [
       "                                                          mean(hr_vec)  \\\n",
       "group                                                                    \n",
       "None                 [66.96425454918769, 66.89441264789677, 66.9019...   \n",
       "mobility_difficulty  [70.63793103448282, 70.20197044334972, 69.7426...   \n",
       "flu_pos              [67.04819277108437, 67.26506024096388, 66.9156...   \n",
       "\n",
       "                                                       mean(steps_vec)  \n",
       "group                                                                   \n",
       "None                 [1.33342530092652, 1.375567846418397, 1.358423...  \n",
       "mobility_difficulty  [1.2216748768472905, 1.3719211822660098, 1.311...  \n",
       "flu_pos              [0.7951807228915663, 0.9036144578313253, 0.771...  "
      ]
     },
     "execution_count": 20,
     "metadata": {},
     "output_type": "execute_result"
    }
   ],
   "source": [
    "group_means = group_means.set_index(\"group\")\n",
    "group_means"
   ]
  },
  {
   "cell_type": "code",
   "execution_count": 34,
   "metadata": {},
   "outputs": [
    {
     "data": {
      "text/plain": [
       "<matplotlib.legend.Legend at 0x7f304494d940>"
      ]
     },
     "execution_count": 34,
     "metadata": {},
     "output_type": "execute_result"
    },
    {
     "data": {
      "image/png": "[encoded data removed]",
      "text/plain": [
       "<Figure size 432x288 with 1 Axes>"
      ]
     },
     "metadata": {
      "needs_background": "light"
     },
     "output_type": "display_data"
    }
   ],
   "source": [
    "# plt.plot_date()\n",
    "x = np.arange(len(group_means[\"mean(hr_vec)\"].iloc[0]))\n",
    "plt.plot(x,group_means.loc[\"None\",\"mean(hr_vec)\"],alpha=0.5, label=\"Control\")\n",
    "plt.plot(x,group_means.loc[\"flu_pos\",\"mean(hr_vec)\"],alpha=0.5, label=\"Flu Pos\")\n",
    "plt.plot(x,group_means.loc[\"mobility_difficulty\",\"mean(hr_vec)\"],alpha=0.5, label=\"Mobility Difficulty\")\n",
    "plt.gca().set_ylim([60,85])\n",
    "plt.legend()"
   ]
  },
  {
   "cell_type": "code",
   "execution_count": 44,
   "metadata": {},
   "outputs": [
    {
     "name": "stderr",
     "output_type": "stream",
     "text": [
      "22/01/11 13:06:23 ERROR Executor: Exception in task 18.0 in stage 84.0 (TID 2739)\n",
      "scala.MatchError: null\n",
      "\tat org.apache.spark.ml.linalg.VectorUDT.deserialize(VectorUDT.scala:54)\n",
      "\tat org.apache.spark.ml.stat.SummaryBuilderImpl$MetricsAggregate.update(Summarizer.scala:374)\n",
      "\tat org.apache.spark.ml.stat.SummaryBuilderImpl$MetricsAggregate.update(Summarizer.scala:344)\n",
      "\tat org.apache.spark.sql.catalyst.expressions.aggregate.TypedImperativeAggregate.update(interfaces.scala:562)\n",
      "\tat org.apache.spark.sql.execution.aggregate.AggregationIterator$$anonfun$1.$anonfun$applyOrElse$2(AggregationIterator.scala:196)\n",
      "\tat org.apache.spark.sql.execution.aggregate.AggregationIterator$$anonfun$1.$anonfun$applyOrElse$2$adapted(AggregationIterator.scala:196)\n",
      "\tat org.apache.spark.sql.execution.aggregate.AggregationIterator.$anonfun$generateProcessRow$7(AggregationIterator.scala:213)\n",
      "\tat org.apache.spark.sql.execution.aggregate.AggregationIterator.$anonfun$generateProcessRow$7$adapted(AggregationIterator.scala:207)\n",
      "\tat org.apache.spark.sql.execution.aggregate.ObjectAggregationIterator.processInputs(ObjectAggregationIterator.scala:158)\n",
      "\tat org.apache.spark.sql.execution.aggregate.ObjectAggregationIterator.<init>(ObjectAggregationIterator.scala:77)\n",
      "\tat org.apache.spark.sql.execution.aggregate.ObjectHashAggregateExec.$anonfun$doExecute$2(ObjectHashAggregateExec.scala:107)\n",
      "\tat org.apache.spark.sql.execution.aggregate.ObjectHashAggregateExec.$anonfun$doExecute$2$adapted(ObjectHashAggregateExec.scala:85)\n",
      "\tat org.apache.spark.rdd.RDD.$anonfun$mapPartitionsWithIndexInternal$2(RDD.scala:885)\n",
      "\tat org.apache.spark.rdd.RDD.$anonfun$mapPartitionsWithIndexInternal$2$adapted(RDD.scala:885)\n",
      "\tat org.apache.spark.rdd.MapPartitionsRDD.compute(MapPartitionsRDD.scala:52)\n",
      "\tat org.apache.spark.rdd.RDD.computeOrReadCheckpoint(RDD.scala:373)\n",
      "\tat org.apache.spark.rdd.RDD.iterator(RDD.scala:337)\n",
      "\tat org.apache.spark.rdd.MapPartitionsRDD.compute(MapPartitionsRDD.scala:52)\n",
      "\tat org.apache.spark.rdd.RDD.computeOrReadCheckpoint(RDD.scala:373)\n",
      "\tat org.apache.spark.rdd.RDD.iterator(RDD.scala:337)\n",
      "\tat org.apache.spark.shuffle.ShuffleWriteProcessor.write(ShuffleWriteProcessor.scala:59)\n",
      "\tat org.apache.spark.scheduler.ShuffleMapTask.runTask(ShuffleMapTask.scala:99)\n",
      "\tat org.apache.spark.scheduler.ShuffleMapTask.runTask(ShuffleMapTask.scala:52)\n",
      "\tat org.apache.spark.scheduler.Task.run(Task.scala:131)\n",
      "\tat org.apache.spark.executor.Executor$TaskRunner.$anonfun$run$3(Executor.scala:497)\n",
      "\tat org.apache.spark.util.Utils$.tryWithSafeFinally(Utils.scala:1439)\n",
      "\tat org.apache.spark.executor.Executor$TaskRunner.run(Executor.scala:500)\n",
      "\tat java.base/java.util.concurrent.ThreadPoolExecutor.runWorker(ThreadPoolExecutor.java:1128)\n",
      "\tat java.base/java.util.concurrent.ThreadPoolExecutor$Worker.run(ThreadPoolExecutor.java:628)\n",
      "\tat java.base/java.lang.Thread.run(Thread.java:829)\n",
      "22/01/11 13:06:23 WARN TaskSetManager: Lost task 18.0 in stage 84.0 (TID 2739) (darkwing.cs.washington.edu executor driver): scala.MatchError: null\n",
      "\tat org.apache.spark.ml.linalg.VectorUDT.deserialize(VectorUDT.scala:54)\n",
      "\tat org.apache.spark.ml.stat.SummaryBuilderImpl$MetricsAggregate.update(Summarizer.scala:374)\n",
      "\tat org.apache.spark.ml.stat.SummaryBuilderImpl$MetricsAggregate.update(Summarizer.scala:344)\n",
      "\tat org.apache.spark.sql.catalyst.expressions.aggregate.TypedImperativeAggregate.update(interfaces.scala:562)\n",
      "\tat org.apache.spark.sql.execution.aggregate.AggregationIterator$$anonfun$1.$anonfun$applyOrElse$2(AggregationIterator.scala:196)\n",
      "\tat org.apache.spark.sql.execution.aggregate.AggregationIterator$$anonfun$1.$anonfun$applyOrElse$2$adapted(AggregationIterator.scala:196)\n",
      "\tat org.apache.spark.sql.execution.aggregate.AggregationIterator.$anonfun$generateProcessRow$7(AggregationIterator.scala:213)\n",
      "\tat org.apache.spark.sql.execution.aggregate.AggregationIterator.$anonfun$generateProcessRow$7$adapted(AggregationIterator.scala:207)\n",
      "\tat org.apache.spark.sql.execution.aggregate.ObjectAggregationIterator.processInputs(ObjectAggregationIterator.scala:158)\n",
      "\tat org.apache.spark.sql.execution.aggregate.ObjectAggregationIterator.<init>(ObjectAggregationIterator.scala:77)\n",
      "\tat org.apache.spark.sql.execution.aggregate.ObjectHashAggregateExec.$anonfun$doExecute$2(ObjectHashAggregateExec.scala:107)\n",
      "\tat org.apache.spark.sql.execution.aggregate.ObjectHashAggregateExec.$anonfun$doExecute$2$adapted(ObjectHashAggregateExec.scala:85)\n",
      "\tat org.apache.spark.rdd.RDD.$anonfun$mapPartitionsWithIndexInternal$2(RDD.scala:885)\n",
      "\tat org.apache.spark.rdd.RDD.$anonfun$mapPartitionsWithIndexInternal$2$adapted(RDD.scala:885)\n",
      "\tat org.apache.spark.rdd.MapPartitionsRDD.compute(MapPartitionsRDD.scala:52)\n",
      "\tat org.apache.spark.rdd.RDD.computeOrReadCheckpoint(RDD.scala:373)\n",
      "\tat org.apache.spark.rdd.RDD.iterator(RDD.scala:337)\n",
      "\tat org.apache.spark.rdd.MapPartitionsRDD.compute(MapPartitionsRDD.scala:52)\n",
      "\tat org.apache.spark.rdd.RDD.computeOrReadCheckpoint(RDD.scala:373)\n",
      "\tat org.apache.spark.rdd.RDD.iterator(RDD.scala:337)\n",
      "\tat org.apache.spark.shuffle.ShuffleWriteProcessor.write(ShuffleWriteProcessor.scala:59)\n",
      "\tat org.apache.spark.scheduler.ShuffleMapTask.runTask(ShuffleMapTask.scala:99)\n",
      "\tat org.apache.spark.scheduler.ShuffleMapTask.runTask(ShuffleMapTask.scala:52)\n",
      "\tat org.apache.spark.scheduler.Task.run(Task.scala:131)\n",
      "\tat org.apache.spark.executor.Executor$TaskRunner.$anonfun$run$3(Executor.scala:497)\n",
      "\tat org.apache.spark.util.Utils$.tryWithSafeFinally(Utils.scala:1439)\n",
      "\tat org.apache.spark.executor.Executor$TaskRunner.run(Executor.scala:500)\n",
      "\tat java.base/java.util.concurrent.ThreadPoolExecutor.runWorker(ThreadPoolExecutor.java:1128)\n",
      "\tat java.base/java.util.concurrent.ThreadPoolExecutor$Worker.run(ThreadPoolExecutor.java:628)\n",
      "\tat java.base/java.lang.Thread.run(Thread.java:829)\n",
      "\n",
      "22/01/11 13:06:23 ERROR TaskSetManager: Task 18 in stage 84.0 failed 1 times; aborting job\n",
      "22/01/11 13:06:23 WARN TaskSetManager: Lost task 32.0 in stage 84.0 (TID 2753) (darkwing.cs.washington.edu executor driver): TaskKilled (Stage cancelled)\n",
      "22/01/11 13:06:23 WARN TaskSetManager: Lost task 8.0 in stage 84.0 (TID 2729) (darkwing.cs.washington.edu executor driver): TaskKilled (Stage cancelled)\n",
      "22/01/11 13:06:23 WARN TaskSetManager: Lost task 13.0 in stage 84.0 (TID 2734) (darkwing.cs.washington.edu executor driver): TaskKilled (Stage cancelled)\n",
      "22/01/11 13:06:23 WARN TaskSetManager: Lost task 1.0 in stage 84.0 (TID 2722) (darkwing.cs.washington.edu executor driver): TaskKilled (Stage cancelled)\n",
      "22/01/11 13:06:23 WARN TaskSetManager: Lost task 22.0 in stage 84.0 (TID 2743) (darkwing.cs.washington.edu executor driver): TaskKilled (Stage cancelled)\n"
     ]
    },
    {
     "ename": "Py4JJavaError",
     "evalue": "An error occurred while calling o30599.collectToPython.\n: org.apache.spark.SparkException: Job aborted due to stage failure: Task 18 in stage 84.0 failed 1 times, most recent failure: Lost task 18.0 in stage 84.0 (TID 2739) (darkwing.cs.washington.edu executor driver): scala.MatchError: null\n\tat org.apache.spark.ml.linalg.VectorUDT.deserialize(VectorUDT.scala:54)\n\tat org.apache.spark.ml.stat.SummaryBuilderImpl$MetricsAggregate.update(Summarizer.scala:374)\n\tat org.apache.spark.ml.stat.SummaryBuilderImpl$MetricsAggregate.update(Summarizer.scala:344)\n\tat org.apache.spark.sql.catalyst.expressions.aggregate.TypedImperativeAggregate.update(interfaces.scala:562)\n\tat org.apache.spark.sql.execution.aggregate.AggregationIterator$$anonfun$1.$anonfun$applyOrElse$2(AggregationIterator.scala:196)\n\tat org.apache.spark.sql.execution.aggregate.AggregationIterator$$anonfun$1.$anonfun$applyOrElse$2$adapted(AggregationIterator.scala:196)\n\tat org.apache.spark.sql.execution.aggregate.AggregationIterator.$anonfun$generateProcessRow$7(AggregationIterator.scala:213)\n\tat org.apache.spark.sql.execution.aggregate.AggregationIterator.$anonfun$generateProcessRow$7$adapted(AggregationIterator.scala:207)\n\tat org.apache.spark.sql.execution.aggregate.ObjectAggregationIterator.processInputs(ObjectAggregationIterator.scala:158)\n\tat org.apache.spark.sql.execution.aggregate.ObjectAggregationIterator.<init>(ObjectAggregationIterator.scala:77)\n\tat org.apache.spark.sql.execution.aggregate.ObjectHashAggregateExec.$anonfun$doExecute$2(ObjectHashAggregateExec.scala:107)\n\tat org.apache.spark.sql.execution.aggregate.ObjectHashAggregateExec.$anonfun$doExecute$2$adapted(ObjectHashAggregateExec.scala:85)\n\tat org.apache.spark.rdd.RDD.$anonfun$mapPartitionsWithIndexInternal$2(RDD.scala:885)\n\tat org.apache.spark.rdd.RDD.$anonfun$mapPartitionsWithIndexInternal$2$adapted(RDD.scala:885)\n\tat org.apache.spark.rdd.MapPartitionsRDD.compute(MapPartitionsRDD.scala:52)\n\tat org.apache.spark.rdd.RDD.computeOrReadCheckpoint(RDD.scala:373)\n\tat org.apache.spark.rdd.RDD.iterator(RDD.scala:337)\n\tat org.apache.spark.rdd.MapPartitionsRDD.compute(MapPartitionsRDD.scala:52)\n\tat org.apache.spark.rdd.RDD.computeOrReadCheckpoint(RDD.scala:373)\n\tat org.apache.spark.rdd.RDD.iterator(RDD.scala:337)\n\tat org.apache.spark.shuffle.ShuffleWriteProcessor.write(ShuffleWriteProcessor.scala:59)\n\tat org.apache.spark.scheduler.ShuffleMapTask.runTask(ShuffleMapTask.scala:99)\n\tat org.apache.spark.scheduler.ShuffleMapTask.runTask(ShuffleMapTask.scala:52)\n\tat org.apache.spark.scheduler.Task.run(Task.scala:131)\n\tat org.apache.spark.executor.Executor$TaskRunner.$anonfun$run$3(Executor.scala:497)\n\tat org.apache.spark.util.Utils$.tryWithSafeFinally(Utils.scala:1439)\n\tat org.apache.spark.executor.Executor$TaskRunner.run(Executor.scala:500)\n\tat java.base/java.util.concurrent.ThreadPoolExecutor.runWorker(ThreadPoolExecutor.java:1128)\n\tat java.base/java.util.concurrent.ThreadPoolExecutor$Worker.run(ThreadPoolExecutor.java:628)\n\tat java.base/java.lang.Thread.run(Thread.java:829)\n\nDriver stacktrace:\n\tat org.apache.spark.scheduler.DAGScheduler.failJobAndIndependentStages(DAGScheduler.scala:2258)\n\tat org.apache.spark.scheduler.DAGScheduler.$anonfun$abortStage$2(DAGScheduler.scala:2207)\n\tat org.apache.spark.scheduler.DAGScheduler.$anonfun$abortStage$2$adapted(DAGScheduler.scala:2206)\n\tat scala.collection.mutable.ResizableArray.foreach(ResizableArray.scala:62)\n\tat scala.collection.mutable.ResizableArray.foreach$(ResizableArray.scala:55)\n\tat scala.collection.mutable.ArrayBuffer.foreach(ArrayBuffer.scala:49)\n\tat org.apache.spark.scheduler.DAGScheduler.abortStage(DAGScheduler.scala:2206)\n\tat org.apache.spark.scheduler.DAGScheduler.$anonfun$handleTaskSetFailed$1(DAGScheduler.scala:1079)\n\tat org.apache.spark.scheduler.DAGScheduler.$anonfun$handleTaskSetFailed$1$adapted(DAGScheduler.scala:1079)\n\tat scala.Option.foreach(Option.scala:407)\n\tat org.apache.spark.scheduler.DAGScheduler.handleTaskSetFailed(DAGScheduler.scala:1079)\n\tat org.apache.spark.scheduler.DAGSchedulerEventProcessLoop.doOnReceive(DAGScheduler.scala:2445)\n\tat org.apache.spark.scheduler.DAGSchedulerEventProcessLoop.onReceive(DAGScheduler.scala:2387)\n\tat org.apache.spark.scheduler.DAGSchedulerEventProcessLoop.onReceive(DAGScheduler.scala:2376)\n\tat org.apache.spark.util.EventLoop$$anon$1.run(EventLoop.scala:49)\n\tat org.apache.spark.scheduler.DAGScheduler.runJob(DAGScheduler.scala:868)\n\tat org.apache.spark.SparkContext.runJob(SparkContext.scala:2196)\n\tat org.apache.spark.SparkContext.runJob(SparkContext.scala:2217)\n\tat org.apache.spark.SparkContext.runJob(SparkContext.scala:2236)\n\tat org.apache.spark.SparkContext.runJob(SparkContext.scala:2261)\n\tat org.apache.spark.rdd.RDD.$anonfun$collect$1(RDD.scala:1030)\n\tat org.apache.spark.rdd.RDDOperationScope$.withScope(RDDOperationScope.scala:151)\n\tat org.apache.spark.rdd.RDDOperationScope$.withScope(RDDOperationScope.scala:112)\n\tat org.apache.spark.rdd.RDD.withScope(RDD.scala:414)\n\tat org.apache.spark.rdd.RDD.collect(RDD.scala:1029)\n\tat org.apache.spark.sql.execution.SparkPlan.executeCollect(SparkPlan.scala:390)\n\tat org.apache.spark.sql.Dataset.$anonfun$collectToPython$1(Dataset.scala:3519)\n\tat org.apache.spark.sql.Dataset.$anonfun$withAction$1(Dataset.scala:3687)\n\tat org.apache.spark.sql.execution.SQLExecution$.$anonfun$withNewExecutionId$5(SQLExecution.scala:103)\n\tat org.apache.spark.sql.execution.SQLExecution$.withSQLConfPropagated(SQLExecution.scala:163)\n\tat org.apache.spark.sql.execution.SQLExecution$.$anonfun$withNewExecutionId$1(SQLExecution.scala:90)\n\tat org.apache.spark.sql.SparkSession.withActive(SparkSession.scala:775)\n\tat org.apache.spark.sql.execution.SQLExecution$.withNewExecutionId(SQLExecution.scala:64)\n\tat org.apache.spark.sql.Dataset.withAction(Dataset.scala:3685)\n\tat org.apache.spark.sql.Dataset.collectToPython(Dataset.scala:3516)\n\tat java.base/jdk.internal.reflect.NativeMethodAccessorImpl.invoke0(Native Method)\n\tat java.base/jdk.internal.reflect.NativeMethodAccessorImpl.invoke(NativeMethodAccessorImpl.java:62)\n\tat java.base/jdk.internal.reflect.DelegatingMethodAccessorImpl.invoke(DelegatingMethodAccessorImpl.java:43)\n\tat java.base/java.lang.reflect.Method.invoke(Method.java:566)\n\tat py4j.reflection.MethodInvoker.invoke(MethodInvoker.java:244)\n\tat py4j.reflection.ReflectionEngine.invoke(ReflectionEngine.java:357)\n\tat py4j.Gateway.invoke(Gateway.java:282)\n\tat py4j.commands.AbstractCommand.invokeMethod(AbstractCommand.java:132)\n\tat py4j.commands.CallCommand.execute(CallCommand.java:79)\n\tat py4j.GatewayConnection.run(GatewayConnection.java:238)\n\tat java.base/java.lang.Thread.run(Thread.java:829)\nCaused by: scala.MatchError: null\n\tat org.apache.spark.ml.linalg.VectorUDT.deserialize(VectorUDT.scala:54)\n\tat org.apache.spark.ml.stat.SummaryBuilderImpl$MetricsAggregate.update(Summarizer.scala:374)\n\tat org.apache.spark.ml.stat.SummaryBuilderImpl$MetricsAggregate.update(Summarizer.scala:344)\n\tat org.apache.spark.sql.catalyst.expressions.aggregate.TypedImperativeAggregate.update(interfaces.scala:562)\n\tat org.apache.spark.sql.execution.aggregate.AggregationIterator$$anonfun$1.$anonfun$applyOrElse$2(AggregationIterator.scala:196)\n\tat org.apache.spark.sql.execution.aggregate.AggregationIterator$$anonfun$1.$anonfun$applyOrElse$2$adapted(AggregationIterator.scala:196)\n\tat org.apache.spark.sql.execution.aggregate.AggregationIterator.$anonfun$generateProcessRow$7(AggregationIterator.scala:213)\n\tat org.apache.spark.sql.execution.aggregate.AggregationIterator.$anonfun$generateProcessRow$7$adapted(AggregationIterator.scala:207)\n\tat org.apache.spark.sql.execution.aggregate.ObjectAggregationIterator.processInputs(ObjectAggregationIterator.scala:158)\n\tat org.apache.spark.sql.execution.aggregate.ObjectAggregationIterator.<init>(ObjectAggregationIterator.scala:77)\n\tat org.apache.spark.sql.execution.aggregate.ObjectHashAggregateExec.$anonfun$doExecute$2(ObjectHashAggregateExec.scala:107)\n\tat org.apache.spark.sql.execution.aggregate.ObjectHashAggregateExec.$anonfun$doExecute$2$adapted(ObjectHashAggregateExec.scala:85)\n\tat org.apache.spark.rdd.RDD.$anonfun$mapPartitionsWithIndexInternal$2(RDD.scala:885)\n\tat org.apache.spark.rdd.RDD.$anonfun$mapPartitionsWithIndexInternal$2$adapted(RDD.scala:885)\n\tat org.apache.spark.rdd.MapPartitionsRDD.compute(MapPartitionsRDD.scala:52)\n\tat org.apache.spark.rdd.RDD.computeOrReadCheckpoint(RDD.scala:373)\n\tat org.apache.spark.rdd.RDD.iterator(RDD.scala:337)\n\tat org.apache.spark.rdd.MapPartitionsRDD.compute(MapPartitionsRDD.scala:52)\n\tat org.apache.spark.rdd.RDD.computeOrReadCheckpoint(RDD.scala:373)\n\tat org.apache.spark.rdd.RDD.iterator(RDD.scala:337)\n\tat org.apache.spark.shuffle.ShuffleWriteProcessor.write(ShuffleWriteProcessor.scala:59)\n\tat org.apache.spark.scheduler.ShuffleMapTask.runTask(ShuffleMapTask.scala:99)\n\tat org.apache.spark.scheduler.ShuffleMapTask.runTask(ShuffleMapTask.scala:52)\n\tat org.apache.spark.scheduler.Task.run(Task.scala:131)\n\tat org.apache.spark.executor.Executor$TaskRunner.$anonfun$run$3(Executor.scala:497)\n\tat org.apache.spark.util.Utils$.tryWithSafeFinally(Utils.scala:1439)\n\tat org.apache.spark.executor.Executor$TaskRunner.run(Executor.scala:500)\n\tat java.base/java.util.concurrent.ThreadPoolExecutor.runWorker(ThreadPoolExecutor.java:1128)\n\tat java.base/java.util.concurrent.ThreadPoolExecutor$Worker.run(ThreadPoolExecutor.java:628)\n\t... 1 more\n",
     "output_type": "error",
     "traceback": [
      "\u001b[0;31m---------------------------------------------------------------------------\u001b[0m",
      "\u001b[0;31mPy4JJavaError\u001b[0m                             Traceback (most recent call last)",
      "\u001b[0;32m/tmp/ipykernel_51465/3745295147.py\u001b[0m in \u001b[0;36m<module>\u001b[0;34m\u001b[0m\n\u001b[1;32m      6\u001b[0m \u001b[0mvec_df_scaled\u001b[0m \u001b[0;34m=\u001b[0m \u001b[0mvec_df\u001b[0m\u001b[0;34m.\u001b[0m\u001b[0mwithColumn\u001b[0m\u001b[0;34m(\u001b[0m\u001b[0;34m\"scaled_hr\"\u001b[0m\u001b[0;34m,\u001b[0m\u001b[0mvector_scale\u001b[0m\u001b[0;34m(\u001b[0m\u001b[0mvec_df\u001b[0m\u001b[0;34m.\u001b[0m\u001b[0mhr_vec\u001b[0m\u001b[0;34m)\u001b[0m\u001b[0;34m)\u001b[0m\u001b[0;34m\u001b[0m\u001b[0;34m\u001b[0m\u001b[0m\n\u001b[1;32m      7\u001b[0m \u001b[0mvec_df_scaled\u001b[0m \u001b[0;34m=\u001b[0m \u001b[0mvec_df_scaled\u001b[0m\u001b[0;34m.\u001b[0m\u001b[0mwithColumn\u001b[0m\u001b[0;34m(\u001b[0m\u001b[0;34m\"scaled_steps\"\u001b[0m\u001b[0;34m,\u001b[0m\u001b[0mvector_scale\u001b[0m\u001b[0;34m(\u001b[0m\u001b[0mvec_df_scaled\u001b[0m\u001b[0;34m.\u001b[0m\u001b[0msteps_vec\u001b[0m\u001b[0;34m)\u001b[0m\u001b[0;34m)\u001b[0m\u001b[0;34m\u001b[0m\u001b[0;34m\u001b[0m\u001b[0m\n\u001b[0;32m----> 8\u001b[0;31m scaled_group_means = vec_df_scaled.groupby(\"group\").agg(Summarizer.mean(vec_df_scaled.scaled_steps),\n\u001b[0m\u001b[1;32m      9\u001b[0m                             Summarizer.mean(vec_df_scaled.scaled_hr)).toPandas()\n",
      "\u001b[0;32m~/miniconda3/envs/seattleflustudy/lib/python3.9/site-packages/pyspark/sql/pandas/conversion.py\u001b[0m in \u001b[0;36mtoPandas\u001b[0;34m(self)\u001b[0m\n\u001b[1;32m    139\u001b[0m \u001b[0;34m\u001b[0m\u001b[0m\n\u001b[1;32m    140\u001b[0m         \u001b[0;31m# Below is toPandas without Arrow optimization.\u001b[0m\u001b[0;34m\u001b[0m\u001b[0;34m\u001b[0m\u001b[0m\n\u001b[0;32m--> 141\u001b[0;31m         \u001b[0mpdf\u001b[0m \u001b[0;34m=\u001b[0m \u001b[0mpd\u001b[0m\u001b[0;34m.\u001b[0m\u001b[0mDataFrame\u001b[0m\u001b[0;34m.\u001b[0m\u001b[0mfrom_records\u001b[0m\u001b[0;34m(\u001b[0m\u001b[0mself\u001b[0m\u001b[0;34m.\u001b[0m\u001b[0mcollect\u001b[0m\u001b[0;34m(\u001b[0m\u001b[0;34m)\u001b[0m\u001b[0;34m,\u001b[0m \u001b[0mcolumns\u001b[0m\u001b[0;34m=\u001b[0m\u001b[0mself\u001b[0m\u001b[0;34m.\u001b[0m\u001b[0mcolumns\u001b[0m\u001b[0;34m)\u001b[0m\u001b[0;34m\u001b[0m\u001b[0;34m\u001b[0m\u001b[0m\n\u001b[0m\u001b[1;32m    142\u001b[0m         \u001b[0mcolumn_counter\u001b[0m \u001b[0;34m=\u001b[0m \u001b[0mCounter\u001b[0m\u001b[0;34m(\u001b[0m\u001b[0mself\u001b[0m\u001b[0;34m.\u001b[0m\u001b[0mcolumns\u001b[0m\u001b[0;34m)\u001b[0m\u001b[0;34m\u001b[0m\u001b[0;34m\u001b[0m\u001b[0m\n\u001b[1;32m    143\u001b[0m \u001b[0;34m\u001b[0m\u001b[0m\n",
      "\u001b[0;32m~/miniconda3/envs/seattleflustudy/lib/python3.9/site-packages/pyspark/sql/dataframe.py\u001b[0m in \u001b[0;36mcollect\u001b[0;34m(self)\u001b[0m\n\u001b[1;32m    675\u001b[0m         \"\"\"\n\u001b[1;32m    676\u001b[0m         \u001b[0;32mwith\u001b[0m \u001b[0mSCCallSiteSync\u001b[0m\u001b[0;34m(\u001b[0m\u001b[0mself\u001b[0m\u001b[0;34m.\u001b[0m\u001b[0m_sc\u001b[0m\u001b[0;34m)\u001b[0m \u001b[0;32mas\u001b[0m \u001b[0mcss\u001b[0m\u001b[0;34m:\u001b[0m\u001b[0;34m\u001b[0m\u001b[0;34m\u001b[0m\u001b[0m\n\u001b[0;32m--> 677\u001b[0;31m             \u001b[0msock_info\u001b[0m \u001b[0;34m=\u001b[0m \u001b[0mself\u001b[0m\u001b[0;34m.\u001b[0m\u001b[0m_jdf\u001b[0m\u001b[0;34m.\u001b[0m\u001b[0mcollectToPython\u001b[0m\u001b[0;34m(\u001b[0m\u001b[0;34m)\u001b[0m\u001b[0;34m\u001b[0m\u001b[0;34m\u001b[0m\u001b[0m\n\u001b[0m\u001b[1;32m    678\u001b[0m         \u001b[0;32mreturn\u001b[0m \u001b[0mlist\u001b[0m\u001b[0;34m(\u001b[0m\u001b[0m_load_from_socket\u001b[0m\u001b[0;34m(\u001b[0m\u001b[0msock_info\u001b[0m\u001b[0;34m,\u001b[0m \u001b[0mBatchedSerializer\u001b[0m\u001b[0;34m(\u001b[0m\u001b[0mPickleSerializer\u001b[0m\u001b[0;34m(\u001b[0m\u001b[0;34m)\u001b[0m\u001b[0;34m)\u001b[0m\u001b[0;34m)\u001b[0m\u001b[0;34m)\u001b[0m\u001b[0;34m\u001b[0m\u001b[0;34m\u001b[0m\u001b[0m\n\u001b[1;32m    679\u001b[0m \u001b[0;34m\u001b[0m\u001b[0m\n",
      "\u001b[0;32m~/miniconda3/envs/seattleflustudy/lib/python3.9/site-packages/py4j/java_gateway.py\u001b[0m in \u001b[0;36m__call__\u001b[0;34m(self, *args)\u001b[0m\n\u001b[1;32m   1302\u001b[0m \u001b[0;34m\u001b[0m\u001b[0m\n\u001b[1;32m   1303\u001b[0m         \u001b[0manswer\u001b[0m \u001b[0;34m=\u001b[0m \u001b[0mself\u001b[0m\u001b[0;34m.\u001b[0m\u001b[0mgateway_client\u001b[0m\u001b[0;34m.\u001b[0m\u001b[0msend_command\u001b[0m\u001b[0;34m(\u001b[0m\u001b[0mcommand\u001b[0m\u001b[0;34m)\u001b[0m\u001b[0;34m\u001b[0m\u001b[0;34m\u001b[0m\u001b[0m\n\u001b[0;32m-> 1304\u001b[0;31m         return_value = get_return_value(\n\u001b[0m\u001b[1;32m   1305\u001b[0m             answer, self.gateway_client, self.target_id, self.name)\n\u001b[1;32m   1306\u001b[0m \u001b[0;34m\u001b[0m\u001b[0m\n",
      "\u001b[0;32m~/miniconda3/envs/seattleflustudy/lib/python3.9/site-packages/pyspark/sql/utils.py\u001b[0m in \u001b[0;36mdeco\u001b[0;34m(*a, **kw)\u001b[0m\n\u001b[1;32m    109\u001b[0m     \u001b[0;32mdef\u001b[0m \u001b[0mdeco\u001b[0m\u001b[0;34m(\u001b[0m\u001b[0;34m*\u001b[0m\u001b[0ma\u001b[0m\u001b[0;34m,\u001b[0m \u001b[0;34m**\u001b[0m\u001b[0mkw\u001b[0m\u001b[0;34m)\u001b[0m\u001b[0;34m:\u001b[0m\u001b[0;34m\u001b[0m\u001b[0;34m\u001b[0m\u001b[0m\n\u001b[1;32m    110\u001b[0m         \u001b[0;32mtry\u001b[0m\u001b[0;34m:\u001b[0m\u001b[0;34m\u001b[0m\u001b[0;34m\u001b[0m\u001b[0m\n\u001b[0;32m--> 111\u001b[0;31m             \u001b[0;32mreturn\u001b[0m \u001b[0mf\u001b[0m\u001b[0;34m(\u001b[0m\u001b[0;34m*\u001b[0m\u001b[0ma\u001b[0m\u001b[0;34m,\u001b[0m \u001b[0;34m**\u001b[0m\u001b[0mkw\u001b[0m\u001b[0;34m)\u001b[0m\u001b[0;34m\u001b[0m\u001b[0;34m\u001b[0m\u001b[0m\n\u001b[0m\u001b[1;32m    112\u001b[0m         \u001b[0;32mexcept\u001b[0m \u001b[0mpy4j\u001b[0m\u001b[0;34m.\u001b[0m\u001b[0mprotocol\u001b[0m\u001b[0;34m.\u001b[0m\u001b[0mPy4JJavaError\u001b[0m \u001b[0;32mas\u001b[0m \u001b[0me\u001b[0m\u001b[0;34m:\u001b[0m\u001b[0;34m\u001b[0m\u001b[0;34m\u001b[0m\u001b[0m\n\u001b[1;32m    113\u001b[0m             \u001b[0mconverted\u001b[0m \u001b[0;34m=\u001b[0m \u001b[0mconvert_exception\u001b[0m\u001b[0;34m(\u001b[0m\u001b[0me\u001b[0m\u001b[0;34m.\u001b[0m\u001b[0mjava_exception\u001b[0m\u001b[0;34m)\u001b[0m\u001b[0;34m\u001b[0m\u001b[0;34m\u001b[0m\u001b[0m\n",
      "\u001b[0;32m~/miniconda3/envs/seattleflustudy/lib/python3.9/site-packages/py4j/protocol.py\u001b[0m in \u001b[0;36mget_return_value\u001b[0;34m(answer, gateway_client, target_id, name)\u001b[0m\n\u001b[1;32m    324\u001b[0m             \u001b[0mvalue\u001b[0m \u001b[0;34m=\u001b[0m \u001b[0mOUTPUT_CONVERTER\u001b[0m\u001b[0;34m[\u001b[0m\u001b[0mtype\u001b[0m\u001b[0;34m]\u001b[0m\u001b[0;34m(\u001b[0m\u001b[0manswer\u001b[0m\u001b[0;34m[\u001b[0m\u001b[0;36m2\u001b[0m\u001b[0;34m:\u001b[0m\u001b[0;34m]\u001b[0m\u001b[0;34m,\u001b[0m \u001b[0mgateway_client\u001b[0m\u001b[0;34m)\u001b[0m\u001b[0;34m\u001b[0m\u001b[0;34m\u001b[0m\u001b[0m\n\u001b[1;32m    325\u001b[0m             \u001b[0;32mif\u001b[0m \u001b[0manswer\u001b[0m\u001b[0;34m[\u001b[0m\u001b[0;36m1\u001b[0m\u001b[0;34m]\u001b[0m \u001b[0;34m==\u001b[0m \u001b[0mREFERENCE_TYPE\u001b[0m\u001b[0;34m:\u001b[0m\u001b[0;34m\u001b[0m\u001b[0;34m\u001b[0m\u001b[0m\n\u001b[0;32m--> 326\u001b[0;31m                 raise Py4JJavaError(\n\u001b[0m\u001b[1;32m    327\u001b[0m                     \u001b[0;34m\"An error occurred while calling {0}{1}{2}.\\n\"\u001b[0m\u001b[0;34m.\u001b[0m\u001b[0;34m\u001b[0m\u001b[0;34m\u001b[0m\u001b[0m\n\u001b[1;32m    328\u001b[0m                     format(target_id, \".\", name), value)\n",
      "\u001b[0;31mPy4JJavaError\u001b[0m: An error occurred while calling o30599.collectToPython.\n: org.apache.spark.SparkException: Job aborted due to stage failure: Task 18 in stage 84.0 failed 1 times, most recent failure: Lost task 18.0 in stage 84.0 (TID 2739) (darkwing.cs.washington.edu executor driver): scala.MatchError: null\n\tat org.apache.spark.ml.linalg.VectorUDT.deserialize(VectorUDT.scala:54)\n\tat org.apache.spark.ml.stat.SummaryBuilderImpl$MetricsAggregate.update(Summarizer.scala:374)\n\tat org.apache.spark.ml.stat.SummaryBuilderImpl$MetricsAggregate.update(Summarizer.scala:344)\n\tat org.apache.spark.sql.catalyst.expressions.aggregate.TypedImperativeAggregate.update(interfaces.scala:562)\n\tat org.apache.spark.sql.execution.aggregate.AggregationIterator$$anonfun$1.$anonfun$applyOrElse$2(AggregationIterator.scala:196)\n\tat org.apache.spark.sql.execution.aggregate.AggregationIterator$$anonfun$1.$anonfun$applyOrElse$2$adapted(AggregationIterator.scala:196)\n\tat org.apache.spark.sql.execution.aggregate.AggregationIterator.$anonfun$generateProcessRow$7(AggregationIterator.scala:213)\n\tat org.apache.spark.sql.execution.aggregate.AggregationIterator.$anonfun$generateProcessRow$7$adapted(AggregationIterator.scala:207)\n\tat org.apache.spark.sql.execution.aggregate.ObjectAggregationIterator.processInputs(ObjectAggregationIterator.scala:158)\n\tat org.apache.spark.sql.execution.aggregate.ObjectAggregationIterator.<init>(ObjectAggregationIterator.scala:77)\n\tat org.apache.spark.sql.execution.aggregate.ObjectHashAggregateExec.$anonfun$doExecute$2(ObjectHashAggregateExec.scala:107)\n\tat org.apache.spark.sql.execution.aggregate.ObjectHashAggregateExec.$anonfun$doExecute$2$adapted(ObjectHashAggregateExec.scala:85)\n\tat org.apache.spark.rdd.RDD.$anonfun$mapPartitionsWithIndexInternal$2(RDD.scala:885)\n\tat org.apache.spark.rdd.RDD.$anonfun$mapPartitionsWithIndexInternal$2$adapted(RDD.scala:885)\n\tat org.apache.spark.rdd.MapPartitionsRDD.compute(MapPartitionsRDD.scala:52)\n\tat org.apache.spark.rdd.RDD.computeOrReadCheckpoint(RDD.scala:373)\n\tat org.apache.spark.rdd.RDD.iterator(RDD.scala:337)\n\tat org.apache.spark.rdd.MapPartitionsRDD.compute(MapPartitionsRDD.scala:52)\n\tat org.apache.spark.rdd.RDD.computeOrReadCheckpoint(RDD.scala:373)\n\tat org.apache.spark.rdd.RDD.iterator(RDD.scala:337)\n\tat org.apache.spark.shuffle.ShuffleWriteProcessor.write(ShuffleWriteProcessor.scala:59)\n\tat org.apache.spark.scheduler.ShuffleMapTask.runTask(ShuffleMapTask.scala:99)\n\tat org.apache.spark.scheduler.ShuffleMapTask.runTask(ShuffleMapTask.scala:52)\n\tat org.apache.spark.scheduler.Task.run(Task.scala:131)\n\tat org.apache.spark.executor.Executor$TaskRunner.$anonfun$run$3(Executor.scala:497)\n\tat org.apache.spark.util.Utils$.tryWithSafeFinally(Utils.scala:1439)\n\tat org.apache.spark.executor.Executor$TaskRunner.run(Executor.scala:500)\n\tat java.base/java.util.concurrent.ThreadPoolExecutor.runWorker(ThreadPoolExecutor.java:1128)\n\tat java.base/java.util.concurrent.ThreadPoolExecutor$Worker.run(ThreadPoolExecutor.java:628)\n\tat java.base/java.lang.Thread.run(Thread.java:829)\n\nDriver stacktrace:\n\tat org.apache.spark.scheduler.DAGScheduler.failJobAndIndependentStages(DAGScheduler.scala:2258)\n\tat org.apache.spark.scheduler.DAGScheduler.$anonfun$abortStage$2(DAGScheduler.scala:2207)\n\tat org.apache.spark.scheduler.DAGScheduler.$anonfun$abortStage$2$adapted(DAGScheduler.scala:2206)\n\tat scala.collection.mutable.ResizableArray.foreach(ResizableArray.scala:62)\n\tat scala.collection.mutable.ResizableArray.foreach$(ResizableArray.scala:55)\n\tat scala.collection.mutable.ArrayBuffer.foreach(ArrayBuffer.scala:49)\n\tat org.apache.spark.scheduler.DAGScheduler.abortStage(DAGScheduler.scala:2206)\n\tat org.apache.spark.scheduler.DAGScheduler.$anonfun$handleTaskSetFailed$1(DAGScheduler.scala:1079)\n\tat org.apache.spark.scheduler.DAGScheduler.$anonfun$handleTaskSetFailed$1$adapted(DAGScheduler.scala:1079)\n\tat scala.Option.foreach(Option.scala:407)\n\tat org.apache.spark.scheduler.DAGScheduler.handleTaskSetFailed(DAGScheduler.scala:1079)\n\tat org.apache.spark.scheduler.DAGSchedulerEventProcessLoop.doOnReceive(DAGScheduler.scala:2445)\n\tat org.apache.spark.scheduler.DAGSchedulerEventProcessLoop.onReceive(DAGScheduler.scala:2387)\n\tat org.apache.spark.scheduler.DAGSchedulerEventProcessLoop.onReceive(DAGScheduler.scala:2376)\n\tat org.apache.spark.util.EventLoop$$anon$1.run(EventLoop.scala:49)\n\tat org.apache.spark.scheduler.DAGScheduler.runJob(DAGScheduler.scala:868)\n\tat org.apache.spark.SparkContext.runJob(SparkContext.scala:2196)\n\tat org.apache.spark.SparkContext.runJob(SparkContext.scala:2217)\n\tat org.apache.spark.SparkContext.runJob(SparkContext.scala:2236)\n\tat org.apache.spark.SparkContext.runJob(SparkContext.scala:2261)\n\tat org.apache.spark.rdd.RDD.$anonfun$collect$1(RDD.scala:1030)\n\tat org.apache.spark.rdd.RDDOperationScope$.withScope(RDDOperationScope.scala:151)\n\tat org.apache.spark.rdd.RDDOperationScope$.withScope(RDDOperationScope.scala:112)\n\tat org.apache.spark.rdd.RDD.withScope(RDD.scala:414)\n\tat org.apache.spark.rdd.RDD.collect(RDD.scala:1029)\n\tat org.apache.spark.sql.execution.SparkPlan.executeCollect(SparkPlan.scala:390)\n\tat org.apache.spark.sql.Dataset.$anonfun$collectToPython$1(Dataset.scala:3519)\n\tat org.apache.spark.sql.Dataset.$anonfun$withAction$1(Dataset.scala:3687)\n\tat org.apache.spark.sql.execution.SQLExecution$.$anonfun$withNewExecutionId$5(SQLExecution.scala:103)\n\tat org.apache.spark.sql.execution.SQLExecution$.withSQLConfPropagated(SQLExecution.scala:163)\n\tat org.apache.spark.sql.execution.SQLExecution$.$anonfun$withNewExecutionId$1(SQLExecution.scala:90)\n\tat org.apache.spark.sql.SparkSession.withActive(SparkSession.scala:775)\n\tat org.apache.spark.sql.execution.SQLExecution$.withNewExecutionId(SQLExecution.scala:64)\n\tat org.apache.spark.sql.Dataset.withAction(Dataset.scala:3685)\n\tat org.apache.spark.sql.Dataset.collectToPython(Dataset.scala:3516)\n\tat java.base/jdk.internal.reflect.NativeMethodAccessorImpl.invoke0(Native Method)\n\tat java.base/jdk.internal.reflect.NativeMethodAccessorImpl.invoke(NativeMethodAccessorImpl.java:62)\n\tat java.base/jdk.internal.reflect.DelegatingMethodAccessorImpl.invoke(DelegatingMethodAccessorImpl.java:43)\n\tat java.base/java.lang.reflect.Method.invoke(Method.java:566)\n\tat py4j.reflection.MethodInvoker.invoke(MethodInvoker.java:244)\n\tat py4j.reflection.ReflectionEngine.invoke(ReflectionEngine.java:357)\n\tat py4j.Gateway.invoke(Gateway.java:282)\n\tat py4j.commands.AbstractCommand.invokeMethod(AbstractCommand.java:132)\n\tat py4j.commands.CallCommand.execute(CallCommand.java:79)\n\tat py4j.GatewayConnection.run(GatewayConnection.java:238)\n\tat java.base/java.lang.Thread.run(Thread.java:829)\nCaused by: scala.MatchError: null\n\tat org.apache.spark.ml.linalg.VectorUDT.deserialize(VectorUDT.scala:54)\n\tat org.apache.spark.ml.stat.SummaryBuilderImpl$MetricsAggregate.update(Summarizer.scala:374)\n\tat org.apache.spark.ml.stat.SummaryBuilderImpl$MetricsAggregate.update(Summarizer.scala:344)\n\tat org.apache.spark.sql.catalyst.expressions.aggregate.TypedImperativeAggregate.update(interfaces.scala:562)\n\tat org.apache.spark.sql.execution.aggregate.AggregationIterator$$anonfun$1.$anonfun$applyOrElse$2(AggregationIterator.scala:196)\n\tat org.apache.spark.sql.execution.aggregate.AggregationIterator$$anonfun$1.$anonfun$applyOrElse$2$adapted(AggregationIterator.scala:196)\n\tat org.apache.spark.sql.execution.aggregate.AggregationIterator.$anonfun$generateProcessRow$7(AggregationIterator.scala:213)\n\tat org.apache.spark.sql.execution.aggregate.AggregationIterator.$anonfun$generateProcessRow$7$adapted(AggregationIterator.scala:207)\n\tat org.apache.spark.sql.execution.aggregate.ObjectAggregationIterator.processInputs(ObjectAggregationIterator.scala:158)\n\tat org.apache.spark.sql.execution.aggregate.ObjectAggregationIterator.<init>(ObjectAggregationIterator.scala:77)\n\tat org.apache.spark.sql.execution.aggregate.ObjectHashAggregateExec.$anonfun$doExecute$2(ObjectHashAggregateExec.scala:107)\n\tat org.apache.spark.sql.execution.aggregate.ObjectHashAggregateExec.$anonfun$doExecute$2$adapted(ObjectHashAggregateExec.scala:85)\n\tat org.apache.spark.rdd.RDD.$anonfun$mapPartitionsWithIndexInternal$2(RDD.scala:885)\n\tat org.apache.spark.rdd.RDD.$anonfun$mapPartitionsWithIndexInternal$2$adapted(RDD.scala:885)\n\tat org.apache.spark.rdd.MapPartitionsRDD.compute(MapPartitionsRDD.scala:52)\n\tat org.apache.spark.rdd.RDD.computeOrReadCheckpoint(RDD.scala:373)\n\tat org.apache.spark.rdd.RDD.iterator(RDD.scala:337)\n\tat org.apache.spark.rdd.MapPartitionsRDD.compute(MapPartitionsRDD.scala:52)\n\tat org.apache.spark.rdd.RDD.computeOrReadCheckpoint(RDD.scala:373)\n\tat org.apache.spark.rdd.RDD.iterator(RDD.scala:337)\n\tat org.apache.spark.shuffle.ShuffleWriteProcessor.write(ShuffleWriteProcessor.scala:59)\n\tat org.apache.spark.scheduler.ShuffleMapTask.runTask(ShuffleMapTask.scala:99)\n\tat org.apache.spark.scheduler.ShuffleMapTask.runTask(ShuffleMapTask.scala:52)\n\tat org.apache.spark.scheduler.Task.run(Task.scala:131)\n\tat org.apache.spark.executor.Executor$TaskRunner.$anonfun$run$3(Executor.scala:497)\n\tat org.apache.spark.util.Utils$.tryWithSafeFinally(Utils.scala:1439)\n\tat org.apache.spark.executor.Executor$TaskRunner.run(Executor.scala:500)\n\tat java.base/java.util.concurrent.ThreadPoolExecutor.runWorker(ThreadPoolExecutor.java:1128)\n\tat java.base/java.util.concurrent.ThreadPoolExecutor$Worker.run(ThreadPoolExecutor.java:628)\n\t... 1 more\n"
     ]
    },
    {
     "name": "stderr",
     "output_type": "stream",
     "text": [
      "22/01/11 13:06:23 WARN TaskSetManager: Lost task 5.0 in stage 84.0 (TID 2726) (darkwing.cs.washington.edu executor driver): TaskKilled (Stage cancelled)\n",
      "22/01/11 13:06:23 WARN TaskSetManager: Lost task 21.0 in stage 84.0 (TID 2742) (darkwing.cs.washington.edu executor driver): TaskKilled (Stage cancelled)\n",
      "22/01/11 13:06:23 WARN TaskSetManager: Lost task 31.0 in stage 84.0 (TID 2752) (darkwing.cs.washington.edu executor driver): TaskKilled (Stage cancelled)\n",
      "22/01/11 13:06:23 WARN TaskSetManager: Lost task 30.0 in stage 84.0 (TID 2751) (darkwing.cs.washington.edu executor driver): TaskKilled (Stage cancelled)\n",
      "22/01/11 13:06:23 WARN TaskSetManager: Lost task 26.0 in stage 84.0 (TID 2747) (darkwing.cs.washington.edu executor driver): TaskKilled (Stage cancelled)\n",
      "22/01/11 13:06:23 WARN TaskSetManager: Lost task 28.0 in stage 84.0 (TID 2749) (darkwing.cs.washington.edu executor driver): TaskKilled (Stage cancelled)\n",
      "22/01/11 13:06:23 WARN TaskSetManager: Lost task 12.0 in stage 84.0 (TID 2733) (darkwing.cs.washington.edu executor driver): TaskKilled (Stage cancelled)\n",
      "22/01/11 13:06:23 WARN TaskSetManager: Lost task 10.0 in stage 84.0 (TID 2731) (darkwing.cs.washington.edu executor driver): TaskKilled (Stage cancelled)\n",
      "22/01/11 13:06:23 WARN TaskSetManager: Lost task 27.0 in stage 84.0 (TID 2748) (darkwing.cs.washington.edu executor driver): TaskKilled (Stage cancelled)\n",
      "22/01/11 13:06:23 WARN TaskSetManager: Lost task 7.0 in stage 84.0 (TID 2728) (darkwing.cs.washington.edu executor driver): TaskKilled (Stage cancelled)\n",
      "22/01/11 13:06:23 WARN TaskSetManager: Lost task 16.0 in stage 84.0 (TID 2737) (darkwing.cs.washington.edu executor driver): TaskKilled (Stage cancelled)\n",
      "22/01/11 13:06:23 WARN TaskSetManager: Lost task 6.0 in stage 84.0 (TID 2727) (darkwing.cs.washington.edu executor driver): TaskKilled (Stage cancelled)\n",
      "22/01/11 13:06:23 WARN TaskSetManager: Lost task 9.0 in stage 84.0 (TID 2730) (darkwing.cs.washington.edu executor driver): TaskKilled (Stage cancelled)\n",
      "22/01/11 13:06:23 WARN TaskSetManager: Lost task 0.0 in stage 84.0 (TID 2721) (darkwing.cs.washington.edu executor driver): TaskKilled (Stage cancelled)\n",
      "22/01/11 13:06:23 WARN TaskSetManager: Lost task 4.0 in stage 84.0 (TID 2725) (darkwing.cs.washington.edu executor driver): TaskKilled (Stage cancelled)\n",
      "22/01/11 13:06:23 WARN TaskSetManager: Lost task 11.0 in stage 84.0 (TID 2732) (darkwing.cs.washington.edu executor driver): TaskKilled (Stage cancelled)\n",
      "22/01/11 13:06:23 WARN TaskSetManager: Lost task 15.0 in stage 84.0 (TID 2736) (darkwing.cs.washington.edu executor driver): TaskKilled (Stage cancelled)\n",
      "22/01/11 13:06:23 WARN TaskSetManager: Lost task 3.0 in stage 84.0 (TID 2724) (darkwing.cs.washington.edu executor driver): TaskKilled (Stage cancelled)\n",
      "22/01/11 13:06:23 WARN TaskSetManager: Lost task 23.0 in stage 84.0 (TID 2744) (darkwing.cs.washington.edu executor driver): TaskKilled (Stage cancelled)\n",
      "22/01/11 13:06:23 WARN TaskSetManager: Lost task 14.0 in stage 84.0 (TID 2735) (darkwing.cs.washington.edu executor driver): TaskKilled (Stage cancelled)\n",
      "22/01/11 13:06:23 WARN TaskSetManager: Lost task 17.0 in stage 84.0 (TID 2738) (darkwing.cs.washington.edu executor driver): TaskKilled (Stage cancelled)\n",
      "22/01/11 13:06:23 WARN TaskSetManager: Lost task 20.0 in stage 84.0 (TID 2741) (darkwing.cs.washington.edu executor driver): TaskKilled (Stage cancelled)\n",
      "22/01/11 13:06:23 WARN TaskSetManager: Lost task 24.0 in stage 84.0 (TID 2745) (darkwing.cs.washington.edu executor driver): TaskKilled (Stage cancelled)\n",
      "22/01/11 13:06:24 WARN TaskSetManager: Lost task 2.0 in stage 84.0 (TID 2723) (darkwing.cs.washington.edu executor driver): TaskKilled (Stage cancelled)\n",
      "22/01/11 13:06:24 WARN TaskSetManager: Lost task 29.0 in stage 84.0 (TID 2750) (darkwing.cs.washington.edu executor driver): TaskKilled (Stage cancelled)\n",
      "22/01/11 13:06:24 WARN TaskSetManager: Lost task 25.0 in stage 84.0 (TID 2746) (darkwing.cs.washington.edu executor driver): TaskKilled (Stage cancelled)\n",
      "22/01/11 13:06:24 WARN TaskSetManager: Lost task 19.0 in stage 84.0 (TID 2740) (darkwing.cs.washington.edu executor driver): TaskKilled (Stage cancelled)\n"
     ]
    }
   ],
   "source": [
    "def scale(arr):\n",
    "    std = np.std(arr)\n",
    "    if not std==0:\n",
    "        return (arr  - np.mean(arr)) / np.std(arr)\n",
    "vector_scale = f.udf(scale, VectorUDT())\n",
    "vec_df_scaled = vec_df.withColumn(\"scaled_hr\",vector_scale(vec_df.hr_vec))\n",
    "vec_df_scaled = vec_df_scaled.withColumn(\"scaled_steps\",vector_scale(vec_df_scaled.steps_vec))\n",
    "scaled_group_means = vec_df_scaled.groupby(\"group\").agg(Summarizer.mean(vec_df_scaled.scaled_steps),\n",
    "                            Summarizer.mean(vec_df_scaled.scaled_hr)).toPandas()\n"
   ]
  },
  {
   "cell_type": "code",
   "execution_count": 42,
   "metadata": {},
   "outputs": [
    {
     "data": {
      "text/html": [
       "<div>\n",
       "<style scoped>\n",
       "    .dataframe tbody tr th:only-of-type {\n",
       "        vertical-align: middle;\n",
       "    }\n",
       "\n",
       "    .dataframe tbody tr th {\n",
       "        vertical-align: top;\n",
       "    }\n",
       "\n",
       "    .dataframe thead th {\n",
       "        text-align: right;\n",
       "    }\n",
       "</style>\n",
       "<table border=\"1\" class=\"dataframe\">\n",
       "  <thead>\n",
       "    <tr style=\"text-align: right;\">\n",
       "      <th></th>\n",
       "      <th>group</th>\n",
       "      <th>mean(scaled_steps)</th>\n",
       "      <th>mean(scaled_hr)</th>\n",
       "    </tr>\n",
       "  </thead>\n",
       "  <tbody>\n",
       "    <tr>\n",
       "      <th>0</th>\n",
       "      <td>None</td>\n",
       "      <td>[nan, nan, nan, nan, nan, nan, nan, nan, nan, ...</td>\n",
       "      <td>[nan, nan, nan, nan, nan, nan, nan, nan, nan, ...</td>\n",
       "    </tr>\n",
       "    <tr>\n",
       "      <th>1</th>\n",
       "      <td>mobility_difficulty</td>\n",
       "      <td>[nan, nan, nan, nan, nan, nan, nan, nan, nan, ...</td>\n",
       "      <td>[nan, nan, nan, nan, nan, nan, nan, nan, nan, ...</td>\n",
       "    </tr>\n",
       "    <tr>\n",
       "      <th>2</th>\n",
       "      <td>flu_pos</td>\n",
       "      <td>[nan, nan, nan, nan, nan, nan, nan, nan, nan, ...</td>\n",
       "      <td>[nan, nan, nan, nan, nan, nan, nan, nan, nan, ...</td>\n",
       "    </tr>\n",
       "  </tbody>\n",
       "</table>\n",
       "</div>"
      ],
      "text/plain": [
       "                 group                                 mean(scaled_steps)  \\\n",
       "0                 None  [nan, nan, nan, nan, nan, nan, nan, nan, nan, ...   \n",
       "1  mobility_difficulty  [nan, nan, nan, nan, nan, nan, nan, nan, nan, ...   \n",
       "2              flu_pos  [nan, nan, nan, nan, nan, nan, nan, nan, nan, ...   \n",
       "\n",
       "                                     mean(scaled_hr)  \n",
       "0  [nan, nan, nan, nan, nan, nan, nan, nan, nan, ...  \n",
       "1  [nan, nan, nan, nan, nan, nan, nan, nan, nan, ...  \n",
       "2  [nan, nan, nan, nan, nan, nan, nan, nan, nan, ...  "
      ]
     },
     "execution_count": 42,
     "metadata": {},
     "output_type": "execute_result"
    }
   ],
   "source": [
    "scaled_group_means"
   ]
  },
  {
   "cell_type": "code",
   "execution_count": null,
   "metadata": {},
   "outputs": [],
   "source": []
  }
 ],
 "metadata": {
  "interpreter": {
   "hash": "7867239ef32c5845ae61f6682725962561c6704439761454786cb18dddc4660e"
  },
  "kernelspec": {
   "display_name": "Python 3.9.9 64-bit ('seattleflustudy': conda)",
   "language": "python",
   "name": "python3"
  },
  "language_info": {
   "codemirror_mode": {
    "name": "ipython",
    "version": 3
   },
   "file_extension": ".py",
   "mimetype": "text/x-python",
   "name": "python",
   "nbconvert_exporter": "python",
   "pygments_lexer": "ipython3",
   "version": "3.9.9"
  },
  "orig_nbformat": 4
 },
 "nbformat": 4,
 "nbformat_minor": 2
}
