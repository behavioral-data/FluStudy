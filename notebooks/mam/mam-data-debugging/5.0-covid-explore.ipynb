{
 "cells": [
  {
   "cell_type": "code",
   "execution_count": 2,
   "metadata": {},
   "outputs": [],
   "source": [
    "%load_ext autoreload\n",
    "%autoreload 2\n",
    "import pandas as pd"
   ]
  },
  {
   "cell_type": "code",
   "execution_count": null,
   "metadata": {},
   "outputs": [],
   "source": []
  },
  {
   "cell_type": "markdown",
   "metadata": {},
   "source": [
    "classic: `restless | asleep | awake`\n",
    "\n",
    "stages: `deep | light | rem | wake`"
   ]
  },
  {
   "cell_type": "code",
   "execution_count": 3,
   "metadata": {},
   "outputs": [],
   "source": [
    "# Processing Sleep\n",
    "stages_map = {\"restless\":1,\n",
    "              \"light\":1,\n",
    "              \"asleep\":2,\n",
    "              \"deep\":2,\n",
    "              \"rem\":2,\n",
    "              \"awake\":3,\n",
    "              \"wake\":3}\n",
    "sleep = pd.read_csv(\"/projects/bdata/datasets/covid-fitbit/processed/all_sleep.csv\")              \n",
    "sleep[\"sleep_classic\"] = sleep[\"stage\"].map(stages_map)\n",
    "sleep[\"participant_id\"] = sleep[\"user\"]\n",
    "sleep[\"timestamp\"] = pd.to_datetime(sleep[\"datetime\"]).dt.floor(\"1min\")\n",
    "sleep = sleep.sort_values(\"timestamp\").drop_duplicates(subset = [\"participant_id\",\"timestamp\"],keep=\"last\")\n",
    "sleep = sleep[[\"participant_id\",\"timestamp\",\"sleep_classic\",\"stage_duration\"]].set_index(\"participant_id\")"
   ]
  },
  {
   "cell_type": "code",
   "execution_count": 4,
   "metadata": {},
   "outputs": [
    {
     "data": {
      "text/plain": [
       "1"
      ]
     },
     "execution_count": 4,
     "metadata": {},
     "output_type": "execute_result"
    }
   ],
   "source": [
    "sleep.groupby([\"participant_id\",\"timestamp\"]).size().max()"
   ]
  },
  {
   "cell_type": "code",
   "execution_count": 5,
   "metadata": {},
   "outputs": [],
   "source": [
    "steps = pd.read_csv(\"/projects/bdata/datasets/covid-fitbit/processed/all_steps.csv\")    \n",
    "steps[\"datetime\"] = pd.to_datetime(steps[\"datetime\"])\n",
    "steps = steps.groupby([\"user\",\"datetime\"])[\"steps\"].mean().astype(int).reset_index()\n",
    "steps = steps.rename(columns={\"datetime\":\"timestamp\", \"user\":\"participant_id\" })\n",
    "steps = steps.set_index(\"participant_id\")"
   ]
  },
  {
   "cell_type": "code",
   "execution_count": null,
   "metadata": {},
   "outputs": [],
   "source": []
  },
  {
   "cell_type": "code",
   "execution_count": 6,
   "metadata": {},
   "outputs": [],
   "source": [
    "heart_rate = pd.read_csv(\"/projects/bdata/datasets/covid-fitbit/processed/all_hr.csv\")  \n",
    "heart_rate[\"datetime\"] = pd.to_datetime(heart_rate[\"datetime\"]).dt.floor(\"1min\")\n",
    "heart_rate = heart_rate.groupby([\"user\",\"datetime\"])[\"heartrate\"].mean().astype(int).reset_index()\n",
    "heart_rate = heart_rate.rename(columns={\"datetime\":\"timestamp\", \"user\":\"participant_id\", \"heartrate\":\"heart_rate\"})\n",
    "heart_rate = heart_rate.set_index(\"participant_id\")"
   ]
  },
  {
   "cell_type": "code",
   "execution_count": 7,
   "metadata": {},
   "outputs": [],
   "source": [
    "\n",
    "from src.data.make_dataset import explode_str_column, safe_loc, get_new_index\n",
    "from src.data.utils import process_minute_level_pandas\n",
    "all_results = []\n",
    "users_with_steps = steps.index.unique()\n",
    "for user in users_with_steps.values:\n",
    "    exploded_sleep = explode_str_column(safe_loc(sleep,user),\n",
    "                                target_col = \"sleep_classic\",\n",
    "                                rename_target_column=\"sleep_classic\",\n",
    "                                start_col=\"timestamp\",\n",
    "                                dur_col = \"stage_duration\",\n",
    "                                dtype=pd.Int8Dtype(),\n",
    "                                single_val=True)\n",
    "    exploded_hr =  safe_loc(heart_rate,user).set_index(\"timestamp\")\n",
    "    exploded_steps = safe_loc(steps,user).set_index(\"timestamp\")\n",
    "    \n",
    "    steps_and_hr = exploded_steps.join(exploded_hr,how = \"left\") \n",
    "    merged = steps_and_hr.join(exploded_sleep,how=\"left\")                        \n",
    "\n",
    "    processed = process_minute_level_pandas(minute_level_df = merged)\n",
    "\n",
    "    # Keep datatypes in check\n",
    "    processed[\"heart_rate\"] = processed[\"heart_rate\"].astype(pd.Int16Dtype())\n",
    "    processed[\"participant_id\"] = user\n",
    "    all_results.append(processed)\n",
    "\n",
    "all_results = pd.concat(all_results)\n",
    "all_results[\"sleep_classic_0\"] = all_results[\"sleep_classic_0\"].fillna(False)\n",
    "all_results[\"sleep_classic_1\"] = all_results[\"sleep_classic_1\"].fillna(False)\n",
    "all_results[\"sleep_classic_2\"] = all_results[\"sleep_classic_2\"].fillna(False)\n",
    "all_results[\"sleep_classic_3\"] = all_results[\"sleep_classic_3\"].fillna(False)\n"
   ]
  },
  {
   "cell_type": "code",
   "execution_count": 8,
   "metadata": {},
   "outputs": [
    {
     "data": {
      "text/plain": [
       "True     11900292\n",
       "False     2387696\n",
       "Name: sleep_classic_0, dtype: int64"
      ]
     },
     "execution_count": 8,
     "metadata": {},
     "output_type": "execute_result"
    }
   ],
   "source": [
    "# Double check that \"awake\" isn't getting treated as missing\n",
    "all_results[\"sleep_classic_0\"].value_counts()"
   ]
  },
  {
   "cell_type": "code",
   "execution_count": 9,
   "metadata": {},
   "outputs": [
    {
     "data": {
      "text/plain": [
       "True     579535620\n",
       "False    272728228\n",
       "Name: sleep_classic_0, dtype: int64"
      ]
     },
     "execution_count": 9,
     "metadata": {},
     "output_type": "execute_result"
    }
   ],
   "source": [
    "from src.data.utils import read_parquet_to_pandas, load_processed_table\n",
    "processed_original = read_parquet_to_pandas(\"/homes/gws/mikeam/seattleflustudy/data/processed/processed_fitbit_minute_level_activity\")\n",
    "processed_original[\"sleep_classic_0\"].value_counts()"
   ]
  },
  {
   "cell_type": "code",
   "execution_count": 13,
   "metadata": {},
   "outputs": [],
   "source": [
    "all_results.to_parquet(\"/projects/bdata/datasets/covid-fitbit/processed/minute_level_fitbit\", partition_cols=[\"participant_id\"])"
   ]
  },
  {
   "cell_type": "markdown",
   "metadata": {},
   "source": [
    "We'll also process the labels:"
   ]
  },
  {
   "cell_type": "code",
   "execution_count": 41,
   "metadata": {},
   "outputs": [],
   "source": [
    "labels = pd.read_csv(\"/projects/bdata/datasets/covid-fitbit/processed/covid_dates.csv\")\n",
    "def ts_string_to_ts(x):\n",
    "    Timestamp = lambda x: pd.to_datetime(x)\n",
    "    NaT = None\n",
    "    return eval(x)\n",
    "\n",
    "for col in [\"covid_diagnosis_dates\",\"Symptom_dates\",\"recovery_dates\"]:\n",
    "    labels[col] = labels[col].map(ts_string_to_ts)\n",
    "\n",
    "labels = labels.rename(columns={\"ParticipantID\":\"participant_id\"})"
   ]
  },
  {
   "cell_type": "code",
   "execution_count": 43,
   "metadata": {},
   "outputs": [],
   "source": [
    "labels.explode(\"covid_diagnosis_dates\").dropna().to_csv(\"/projects/bdata/datasets/covid-fitbit/processed/covid_diagnosis_dates.csv\")\n",
    "labels.explode(\"Symptom_dates\").dropna().to_csv(\"/projects/bdata/datasets/covid-fitbit/processed/Symptom_dates.csv\")\n",
    "labels.explode(\"recovery_dates\").dropna().to_csv(\"/projects/bdata/datasets/covid-fitbit/processed/recovery_dates.csv\")"
   ]
  },
  {
   "cell_type": "code",
   "execution_count": 46,
   "metadata": {},
   "outputs": [],
   "source": [
    "covid = labels.explode(\"covid_diagnosis_dates\").dropna()"
   ]
  },
  {
   "cell_type": "code",
   "execution_count": 48,
   "metadata": {},
   "outputs": [
    {
     "data": {
      "text/plain": [
       "{('A0NVTRV', Timestamp('2023-12-11 00:00:00')): True,\n",
       " ('A0VFT1N', Timestamp('2023-10-16 00:00:00')): True,\n",
       " ('A1K5DRI', Timestamp('2028-06-21 00:00:00')): True,\n",
       " ('A1ZJ41O', Timestamp('2027-08-09 00:00:00')): True,\n",
       " ('A1ZJ41O', Timestamp('2027-08-10 00:00:00')): True,\n",
       " ('A36HR6Y', Timestamp('2023-04-16 00:00:00')): True,\n",
       " ('A3OU183', Timestamp('2024-11-27 00:00:00')): True,\n",
       " ('A4E0D03', Timestamp('2028-05-18 00:00:00')): True,\n",
       " ('A4G0044', Timestamp('2027-03-08 00:00:00')): True,\n",
       " ('A7EM0B6', Timestamp('2023-12-21 00:00:00')): True,\n",
       " ('A7EM0B6', Timestamp('2023-12-26 00:00:00')): True,\n",
       " ('A7EM0B6', Timestamp('2023-12-31 00:00:00')): True,\n",
       " ('AA2KP1S', Timestamp('2025-01-11 00:00:00')): True,\n",
       " ('AAXAA7Z', Timestamp('2023-04-13 00:00:00')): True,\n",
       " ('AFPB8J2', Timestamp('2026-07-17 00:00:00')): True,\n",
       " ('AHYIJDV', Timestamp('2025-01-22 00:00:00')): True,\n",
       " ('AIFDJZB', Timestamp('2023-12-20 00:00:00')): True,\n",
       " ('AJMQUVV', Timestamp('2024-09-06 00:00:00')): True,\n",
       " ('AJWW3IY', Timestamp('2024-08-10 00:00:00')): True,\n",
       " ('AMV7EQF', Timestamp('2027-06-11 00:00:00')): True,\n",
       " ('AOYM4KG', Timestamp('2023-09-18 00:00:00')): True,\n",
       " ('APGIB2T', Timestamp('2023-05-28 00:00:00')): True,\n",
       " ('AQC0L71', Timestamp('2028-06-19 00:00:00')): True,\n",
       " ('AS2MVDL', Timestamp('2025-03-05 00:00:00')): True,\n",
       " ('ASFODQR', Timestamp('2024-08-15 00:00:00')): True,\n",
       " ('ATHKM6V', Timestamp('2024-03-06 00:00:00')): True,\n",
       " ('AURCTAK', Timestamp('2025-03-06 00:00:00')): True,\n",
       " ('AUY8KYW', Timestamp('2024-03-18 00:00:00')): True,\n",
       " ('AV2GF3B', Timestamp('2026-02-18 00:00:00')): True,\n",
       " ('AX6281V', Timestamp('2024-03-31 00:00:00')): True,\n",
       " ('AX6281V', Timestamp('2024-04-13 00:00:00')): True,\n",
       " ('AX6281V', Timestamp('2024-04-20 00:00:00')): True,\n",
       " ('AX6281V', Timestamp('2024-04-27 00:00:00')): True,\n",
       " ('AYEFCWQ', Timestamp('2025-07-08 00:00:00')): True,\n",
       " ('AYWIEKR', Timestamp('2023-04-09 00:00:00')): True,\n",
       " ('AZIK4ZA', Timestamp('2024-12-01 00:00:00')): True}"
      ]
     },
     "execution_count": 48,
     "metadata": {},
     "output_type": "execute_result"
    }
   ],
   "source": [
    "(covid.groupby([\"participant_id\",\"covid_diagnosis_dates\"]).size() > 0).to_dict()"
   ]
  },
  {
   "cell_type": "code",
   "execution_count": null,
   "metadata": {},
   "outputs": [],
   "source": []
  }
 ],
 "metadata": {
  "interpreter": {
   "hash": "7867239ef32c5845ae61f6682725962561c6704439761454786cb18dddc4660e"
  },
  "kernelspec": {
   "display_name": "Python 3.9.9 64-bit ('seattleflustudy': conda)",
   "language": "python",
   "name": "python3"
  },
  "language_info": {
   "codemirror_mode": {
    "name": "ipython",
    "version": 3
   },
   "file_extension": ".py",
   "mimetype": "text/x-python",
   "name": "python",
   "nbconvert_exporter": "python",
   "pygments_lexer": "ipython3",
   "version": "3.9.9"
  },
  "orig_nbformat": 4
 },
 "nbformat": 4,
 "nbformat_minor": 2
}
